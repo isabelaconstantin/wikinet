{
 "cells": [
  {
   "cell_type": "code",
   "execution_count": 1,
   "metadata": {},
   "outputs": [],
   "source": [
    "%matplotlib inline"
   ]
  },
  {
   "cell_type": "code",
   "execution_count": 2,
   "metadata": {},
   "outputs": [],
   "source": [
    "import numpy as np\n",
    "from scipy import sparse\n",
    "import matplotlib.pyplot as plt\n",
    "import pygsp\n",
    "from pygsp import graphs, filters\n",
    "import networkx as nx\n",
    "import pickle"
   ]
  },
  {
   "cell_type": "code",
   "execution_count": 3,
   "metadata": {},
   "outputs": [],
   "source": [
    "Gnx = nx.read_gpickle('graph.gpickle')"
   ]
  },
  {
   "cell_type": "code",
   "execution_count": 4,
   "metadata": {},
   "outputs": [
    {
     "data": {
      "text/plain": [
       "(500, 5675)"
      ]
     },
     "execution_count": 4,
     "metadata": {},
     "output_type": "execute_result"
    }
   ],
   "source": [
    "len(Gnx.nodes), len(Gnx.edges)"
   ]
  },
  {
   "cell_type": "code",
   "execution_count": 5,
   "metadata": {},
   "outputs": [],
   "source": [
    "#I don't know what I'm doing but it worksThis is the views for the day before and day of stanlee's death\n",
    "with open('views.pkl', 'rb') as f:\n",
    "     views_Gnx = pickle.load(f)"
   ]
  },
  {
   "cell_type": "code",
   "execution_count": 6,
   "metadata": {},
   "outputs": [],
   "source": [
    "#building the quotient signal\n",
    "views_graph = {}\n",
    "for node in Gnx.nodes():\n",
    "    if node in views_Gnx.keys():\n",
    "        try:\n",
    "            views_graph[node] = views_Gnx[node][1][0] /  views_Gnx[node][0][0] \n",
    "        except IndexError:\n",
    "            views_graph[node] = views_Gnx[node][0][0]\n",
    "        except ZeroDivisionError: \n",
    "            views_graph[node] = views_Gnx[node][1][0]\n",
    "        \n",
    "    else:\n",
    "        views_graph[node] = 0"
   ]
  },
  {
   "cell_type": "code",
   "execution_count": 7,
   "metadata": {
    "scrolled": false
   },
   "outputs": [
    {
     "data": {
      "text/plain": [
       "{'Stan Lee': 347.05108962332224,\n",
       " 'Dan Goodwin': 1.0267857142857142,\n",
       " 'What If (comics)': 2.9926470588235294,\n",
       " \"Comics Buyer's Guide\": 1.951219512195122,\n",
       " 'Robert Bernstein (comics)': 2.75,\n",
       " 'Horror comics': 1.6444444444444444,\n",
       " 'Disney Legends': 3.4656964656964657,\n",
       " 'French New Wave': 1.58560794044665,\n",
       " 'Marvel Cinematic Universe': 1.7190170940170941,\n",
       " 'Larry Lieber': 113.61176470588235,\n",
       " 'Atlas Comics (1950s)': 12.186046511627907,\n",
       " 'Google Books': 1.346420323325635,\n",
       " 'Marvel Comics#Editors-in-chief': 0,\n",
       " 'Don Heck': 58.83,\n",
       " 'Joe Kubert': 5.607142857142857,\n",
       " 'Carnegie Hall': 0.9096126255380201,\n",
       " 'Hank Pym': 1.3726647000983285,\n",
       " 'Secret Files and Origins': 5.375,\n",
       " 'Marvel Legends': 1.135048231511254,\n",
       " 'action figure': 0,\n",
       " 'Archie Goodwin (comics)': 3.23728813559322,\n",
       " 'Epic Illustrated': 5.833333333333333,\n",
       " 'The A.V. Club': 0.9621749408983451,\n",
       " 'United States Army': 1.0833718600708893,\n",
       " 'George W. Bush': 2.343924431086303,\n",
       " 'executive producer': 0,\n",
       " 'Marie Wilson (American actress)': 2.2282608695652173,\n",
       " 'Bonnie Burton': 3.6,\n",
       " 'Kyle Baker': 0.5918367346938775,\n",
       " 'Long Island': 1.109922178988327,\n",
       " 'Marvel Universe': 3.4571428571428573,\n",
       " 'Silver Surfer': 2.7766536964980544,\n",
       " 'Kevin Maguire (artist)': 10.0,\n",
       " 'Joe Simon': 25.946428571428573,\n",
       " 'KTTV': 1.1867469879518073,\n",
       " 'Justice League': 1.5076080340839928,\n",
       " 'Amazing Heroes': 0.6470588235294118,\n",
       " 'The Galactus Trilogy': 15.068181818181818,\n",
       " 'Peter David': 2.926829268292683,\n",
       " 'Washington Heights, Manhattan': 2.2779783393501805,\n",
       " 'Mark Ruffalo': 0.9312169312169312,\n",
       " 'Gene Colan': 4.25,\n",
       " 'Jim Lee': 7.049586776859504,\n",
       " 'Dick Ayers': 25.142857142857142,\n",
       " 'DC Comics Presents': 25.19672131147541,\n",
       " 'Keith Pollard': 2.5,\n",
       " 'List of American comics creators': 12.5,\n",
       " 'Jerry Ordway': 2.7142857142857144,\n",
       " 'ABC News': 1.0489614243323442,\n",
       " 'The Washington Post': 0.959731543624161,\n",
       " 'Superman': 1.7966317127422942,\n",
       " 'Running Press': 0.9444444444444444,\n",
       " 'The Hollywood Reporter': 2.352078239608802,\n",
       " 'Robbie Robertson (comics)': 5.426966292134831,\n",
       " 'Black Panther (comics)': 4.148724600086468,\n",
       " 'Jessica Jones': 1.1488154821488155,\n",
       " 'National Academy of Video Game Trade Reviewers': 7.78,\n",
       " 'Playbill': 1.2164948453608246,\n",
       " 'condominium': 0,\n",
       " 'Comic strip': 2.4359464627151053,\n",
       " 'The Amazing Spider-Man (comic strip)': 11.487179487179487,\n",
       " 'Catwoman': 1.0250965250965252,\n",
       " 'Flash (comics)': 1.6134328358208956,\n",
       " 'Luke Cage': 1.4371914426769061,\n",
       " 'Tales to Astonish': 3.373134328358209,\n",
       " 'U.S.A. Comics': 9.571428571428571,\n",
       " 'List of pseudonyms': 3.621359223300971,\n",
       " 'Joss Whedon': 1.2793764988009593,\n",
       " 'Library Journal': 2.4,\n",
       " 'Detective Comics': 2.48661800486618,\n",
       " 'Newsday': 1.4210526315789473,\n",
       " 'Just Imagine...': 67.58095238095238,\n",
       " 'Dave Gibbons': 1.8412698412698412,\n",
       " 'MSNBC': 0.8878892733564013,\n",
       " 'Marvel Adventures Spider-Man': 7.25,\n",
       " 'Bones (studio)': 1.0722135007849294,\n",
       " 'President of the United States': 1.0799398194583751,\n",
       " 'IGN': 1.17588769611891,\n",
       " 'Federal Theatre Project': 16.108695652173914,\n",
       " 'Human Torch': 2.1806797853309483,\n",
       " 'elder abuse': 0,\n",
       " 'The New York Times': 0.9677101791691278,\n",
       " 'Gary Friedrich': 4.642857142857143,\n",
       " 'The Avengers (comic book)': 5.076923076923077,\n",
       " 'The Comics Journal': 3.235294117647059,\n",
       " 'Inhumans': 1.855305466237942,\n",
       " 'DC Comics': 4.636363636363637,\n",
       " 'news agency': 0,\n",
       " 'Comic Book Resources': 2.5555555555555554,\n",
       " 'graphic novel': 0,\n",
       " 'Steve Ditko': 52.28125,\n",
       " 'Marvel Comics': 10.112600037223153,\n",
       " 'funny animal': 0,\n",
       " 'Daredevil (Marvel Comics character)': 2.21814404432133,\n",
       " 'Challengers of the Unknown': 1.9291521486643437,\n",
       " 'Captain America (1990 film)': 7.908108108108108,\n",
       " 'Stripperella': 18.44578313253012,\n",
       " 'Joe Maneely': 682.1666666666666,\n",
       " 'Roy Thomas': 7.649253731343284,\n",
       " 'Walt Simonson': 2.380281690140845,\n",
       " 'Producers Guild of America': 0.8892508143322475,\n",
       " 'San Diego Comic-Con': 1.0212355212355213,\n",
       " 'Works Progress Administration': 1.9982332155477032,\n",
       " 'Errol Flynn': 1.3635516920211115,\n",
       " 'China Central Television': 0.9970282317979198,\n",
       " 'Iron Man (2008 film)': 1.0871539792387543,\n",
       " 'Moviefone': 2.6228070175438596,\n",
       " 'Cedars-Sinai Medical Center': 40.795698924731184,\n",
       " 'Robert Greenberger': 9.5,\n",
       " 'Adrianne Curry': 1.427402862985685,\n",
       " 'Hiroyuki Takei': 4.788461538461538,\n",
       " 'Doctor Doom': 2.2604166666666665,\n",
       " 'Alex Ross': 1.9307359307359306,\n",
       " 'Karen Page': 1.0553977272727273,\n",
       " 'superhero': 0,\n",
       " '100 Greatest Marvels of All Time': 16.387755102040817,\n",
       " 'Hugo Award': 1.5115894039735098,\n",
       " 'Mystic Comics': 15.727272727272727,\n",
       " 'Namor': 2.9363057324840764,\n",
       " 'Generation X (comics)': 2.2641509433962264,\n",
       " 'Abrams Books': 1.829268292682927,\n",
       " 'Mister Fantastic': 1.9699398797595191,\n",
       " 'Web of Spider-Man': 2.1444444444444444,\n",
       " 'The Daily Telegraph': 1.1119341563786007,\n",
       " 'Chris Bachalo': 2.1707317073170733,\n",
       " '2009 Scream Awards': 7.909090909090909,\n",
       " 'New York Herald Tribune': 2.130434782608696,\n",
       " 'JLA (comic book)': 1.8203592814371257,\n",
       " 'John Byrne (comics)': 2.7938144329896906,\n",
       " 'Lavie Tidhar': 3.871794871794872,\n",
       " 'World Trade Center (1973–2001)': 1.0147859922178988,\n",
       " '1993 World Trade Center bombing': 1.4184466019417477,\n",
       " 'United States': 1.0863705712832683,\n",
       " 'Oregon': 0.9202197227308396,\n",
       " 'Memorial Day': 0.6928765469363115,\n",
       " 'Richard Bass': 0.9354838709677419,\n",
       " 'Not Brand Echh#Legacy': 0,\n",
       " 'Joe Sinnott': 11.333333333333334,\n",
       " 'Age of Ultron': 1.1105263157894736,\n",
       " 'What The--?!': 0,\n",
       " 'Cold War': 0.9301670733996621,\n",
       " \"Shi'ar\": 0.9197860962566845,\n",
       " 'Phil Coulson': 1.087601078167116,\n",
       " 'Daisy Johnson': 1.0863131935881627,\n",
       " 'Galactus': 1.7662094763092269,\n",
       " 'Jimmy Palmiotti': 3.0,\n",
       " 'Holden Radcliffe': 1.0,\n",
       " 'Spider-Girl': 0.9304029304029304,\n",
       " 'Thanos': 1.325253965425058,\n",
       " \"Rocket's Blast Comicollector\": 1.3333333333333333,\n",
       " 'Tony Isabella': 1.1764705882352942,\n",
       " 'Maggie Thompson': 0.8571428571428571,\n",
       " 'comic book': 0,\n",
       " 'tabloid (newspaper format)': 0,\n",
       " 'John Jackson Miller': 0.9285714285714286,\n",
       " 'Alex Toth': 2.012987012987013,\n",
       " 'George Papp': 3.6,\n",
       " 'Jerry Siegel': 7.394409937888199,\n",
       " 'Supergirl (Kara Zor-El)': 1.049856184084372,\n",
       " 'Aquagirl#Lisa Morel': 0,\n",
       " 'Star Spangled War Stories': 0.4375,\n",
       " 'The Shadow': 1.1102803738317757,\n",
       " 'Green Arrow': 1.1596091205211727,\n",
       " 'EC Comics': 1.9921875,\n",
       " 'impresario': 0,\n",
       " 'Jack Kirby': 59.86119402985074,\n",
       " 'Iron Man': 24.72867298578199,\n",
       " 'Edmond Hamilton': 1.7428571428571429,\n",
       " 'East Farmingdale, New York': 0.7727272727272727,\n",
       " 'Strange Tales': 3.5257731958762886,\n",
       " 'Delray Beach, Florida': 1.1308641975308642,\n",
       " 'Death Rattle (comics)': 0.875,\n",
       " 'science fiction': 0,\n",
       " 'The Haunt of Fear': 1.21875,\n",
       " 'The Whistler': 1.0333333333333334,\n",
       " 'Eclipse Comics': 1.34375,\n",
       " 'Fawcett Publications': 1.0256410256410255,\n",
       " 'comics anthology': 0,\n",
       " 'horror film': 0,\n",
       " 'Eagle (British comics)': 1.4222222222222223,\n",
       " 'Time (magazine)': 1.2102272727272727,\n",
       " 'Josei manga': 0.88,\n",
       " '1993 in comics': 1.5833333333333333,\n",
       " 'Ghosts (comics)': 2.2,\n",
       " 'Neil Gaiman': 1.0342156229825694,\n",
       " 'Blade (comics)': 1.695469798657718,\n",
       " 'Richard Corben': 1.2244897959183674,\n",
       " 'Kathryn Beaumont': 0.8061674008810573,\n",
       " 'John Lounsbery': 1.186046511627907,\n",
       " 'Oprah Winfrey': 1.2932394366197184,\n",
       " 'Peter Jennings': 1.1226993865030674,\n",
       " 'Richard Fleischer': 0.7474226804123711,\n",
       " 'Adriana Caselotti': 0.866504854368932,\n",
       " 'Glen Keane': 1.1666666666666667,\n",
       " 'New German Cinema': 1.0956521739130434,\n",
       " 'Philippe Garrel': 0.9743589743589743,\n",
       " 'Alfred Hitchcock': 1.0585527997954487,\n",
       " 'Andrew Sarris': 1.118421052631579,\n",
       " 'Stéphane Audran': 0.7365591397849462,\n",
       " 'Roger Vadim': 0.8787878787878788,\n",
       " 'iconoclasm': 0,\n",
       " 'Film noir': 1.0650921658986174,\n",
       " 'Brigitte Bardot': 0.9907493061979649,\n",
       " 'Jean-Louis Trintignant': 0.9054441260744985,\n",
       " 'Cinema of Portugal#1960s.E2.80.931970s': 0,\n",
       " 'Ben Karlin': 0.8235294117647058,\n",
       " 'Polygon (website)': 22.4568345323741,\n",
       " 'CNET': 1.128691983122363,\n",
       " 'Tomorrowland#Disneyland (California)': 0,\n",
       " 'Super Bowl 50': 1.0501002004008015,\n",
       " 'Doctor Strange (2016 film)': 1.064966313763234,\n",
       " 'Hydra (comics)': 1.1638225255972696,\n",
       " 'GameStop': 1.1550094517958411,\n",
       " 'Windows Phone 8': 0.9411764705882353,\n",
       " 'Liquid Entertainment': 0.6808510638297872,\n",
       " 'Microsoft Windows': 1.1086319585305386,\n",
       " 'Runaways (TV series)': 1.0320781032078103,\n",
       " 'Amy Pascal': 1.1320754716981132,\n",
       " 'Bloomberg L.P.': 1.3374777975133214,\n",
       " 'FedEx': 1.4488315874294924,\n",
       " 'William Sadler (actor)': 1.1954821894005212,\n",
       " 'Dave Bautista': 0.9172152732060567,\n",
       " 'Drax the Destroyer': 1.15121412803532,\n",
       " 'Adrianne Palicki': 0.7616238723108952,\n",
       " 'High Noon': 1.068212824010914,\n",
       " 'Mjolnir (comics)': 1.031941031941032,\n",
       " 'Balder (comics)': 2.8653846153846154,\n",
       " 'Art Students League of New York': 1.4025974025974026,\n",
       " 'Bill Finger Award': 7.444444444444445,\n",
       " 'Brooklyn': 1.0147058823529411,\n",
       " 'Wizard (Marvel Comics)': 1.453125,\n",
       " 'Don Rico': 4.545454545454546,\n",
       " 'Atlas Comics (1950s)#Superhero': 0,\n",
       " 'Ringo Kid': 25.0,\n",
       " 'Michigan State University Libraries': 2.8,\n",
       " 'New Jersey': 1.3300355149670218,\n",
       " 'Pinky Lee': 0.9509803921568627,\n",
       " 'Gerard Jones': 1.7,\n",
       " 'Atlas Comics (1950s)#Misc.': 0,\n",
       " 'Atlas Comics (1950s)#Hero': 0,\n",
       " 'Humour': 1.2558922558922558,\n",
       " 'Christopher Rule': 11.0,\n",
       " 'Jungle Tales': 1.5,\n",
       " 'The Phil Silvers Show': 1.132867132867133,\n",
       " 'Alter Ego (magazine)': 1.2,\n",
       " 'Cornell University Library': 1.1555555555555554,\n",
       " 'Google': 1.3104565537555228,\n",
       " 'Austrian National Library': 0.9571428571428572,\n",
       " 'Runivers': 1.0,\n",
       " 'Project Gutenberg': 2.03035413153457,\n",
       " 'web crawler': 0,\n",
       " 'Sundance Film Festival': 1.0132890365448506,\n",
       " 'Microsoft': 1.1821445294209458,\n",
       " 'ReCAPTCHA': 1.4204851752021563,\n",
       " 'American Broadcasting Company': 1.0728805156172534,\n",
       " 'Marvel Knights': 1.3140495867768596,\n",
       " 'application software': 6,\n",
       " 'Blade (film)': 1.7960488088320743,\n",
       " 'Captain Marvel (Marvel Comics)': 2.253750815394651,\n",
       " 'Marv Wolfman': 2.173076923076923,\n",
       " 'Pocket Books': 0.9411764705882353,\n",
       " 'horror fiction': 0,\n",
       " 'The Tomb of Dracula': 1.5242718446601942,\n",
       " 'Viacom': 1.160089352196575,\n",
       " 'spy fiction': 0,\n",
       " 'The Amazing Adventures of Spider-Man': 1.6011904761904763,\n",
       " 'Jack Liebowitz': 5.583333333333333,\n",
       " 'Outsourcing': 1.3225130890052357,\n",
       " 'Marvel Super-Heroes (comics)#Other iterations': 0,\n",
       " 'John Romita Sr.': 49.97126436781609,\n",
       " 'Mandarin (comics)': 1.0224971878515186,\n",
       " 'Queens': 1.0510526315789475,\n",
       " 'Tales of Suspense': 5.18,\n",
       " 'Fantastic Four': 7.043371522094926,\n",
       " 'Carmine Infantino': 4.108108108108108,\n",
       " 'Chamber of Darkness': 4.666666666666667,\n",
       " 'Harvey Comics': 1.7272727272727273,\n",
       " 'Pete Morisi': 4.4,\n",
       " 'annual publication': 0,\n",
       " 'Wonder Woman': 1.2905027932960893,\n",
       " 'The Flash (comic book)': 1.3125,\n",
       " 'inker': 0,\n",
       " 'Wonder Man': 1.4989473684210526,\n",
       " 'Journey into Mystery': 2.9148936170212765,\n",
       " 'Woodrow Wilson': 0.9498293515358361,\n",
       " 'Army of Republika Srpska': 1.0041152263374487,\n",
       " 'USS Stevens (DD-479)#In comic books': 0,\n",
       " 'Amanda Conner': 1.0,\n",
       " 'Two-Fisted Tales': 1.2777777777777777,\n",
       " 'Haunted Tank': 1.8846153846153846,\n",
       " 'More Fun Comics': 0.8305084745762712,\n",
       " 'Second Polish Republic': 0.5732508697332818,\n",
       " 'Gardner Fox': 3.536082474226804,\n",
       " 'Tex Willer': 1.328125,\n",
       " 'Marvel Tales': 2.9375,\n",
       " 'Craig Yoe': 1.0714285714285714,\n",
       " \"Limited Collectors' Edition\": 0.9230769230769231,\n",
       " 'Weird Worlds (comics)': 1.0,\n",
       " 'Harvey Award#The Jack Kirby Hall of Fame': 0,\n",
       " 'Big Apple Comic Con': 1.069767441860465,\n",
       " 'Archie Comics': 2.8284525524083852,\n",
       " 'Stephen R. Bissette': 2.0,\n",
       " 'Paul Levitz': 2.24,\n",
       " 'Led Zeppelin': 0.975294418842806,\n",
       " 'Dunfermline': 0.894484412470024,\n",
       " 'Andrew Carnegie': 1.2205714285714286,\n",
       " 'Filippo Brunelleschi': 1.253822629969419,\n",
       " 'Carnegie Hall, Inc.': 0.6666666666666666,\n",
       " 'Carnegie Free Library of Braddock': 0.6666666666666666,\n",
       " 'planetarium': 0,\n",
       " 'National Park Service': 1.0481522956326987,\n",
       " 'American Museum of Natural History': 0.9588477366255144,\n",
       " 'Carnegie Museums of Pittsburgh': 0.7719298245614035,\n",
       " 'National Register of Historic Places listings in Manhattan from 14th to 59th Streets': 2.1818181818181817,\n",
       " 'List of concert halls': 0.987012987012987,\n",
       " 'artificial intelligence': 0,\n",
       " 'Camp Hammond (comics)': 2.0,\n",
       " 'The Avengers: United They Stand': 1.2685185185185186,\n",
       " 'Goliath (Marvel Comics)': 1.1788617886178863,\n",
       " 'Disney XD': 1.021301775147929,\n",
       " 'court-martial': 0,\n",
       " 'John Payne (voice actor)': 0.75,\n",
       " 'Gotham City': 1.0574712643678161,\n",
       " 'Doctor Alchemy': 0.8459958932238193,\n",
       " 'Guardian (DC Comics)': 1.5241157556270097,\n",
       " 'Sonar (comics)#Successor': 0,\n",
       " 'Fury (DC Comics)#Helena Kosmatos': 0,\n",
       " 'Mister Miracle': 1.411371237458194,\n",
       " 'Prankster (comics)': 0.7678571428571429,\n",
       " 'List of Batman supporting characters': 1.0467032967032968,\n",
       " 'Green Lantern: Circle of Fire': 0.8333333333333334,\n",
       " 'Superman Red/Superman Blue': 0,\n",
       " 'Our Worlds at War': 1.0344827586206897,\n",
       " 'Clayface': 0.9508547008547008,\n",
       " 'Green Arrow (Connor Hawke)': 0.9438202247191011,\n",
       " 'Skullbuster': 0.75,\n",
       " 'Havok (comics)': 1.0614657210401892,\n",
       " 'The Wolverine (film)': 0.7617459836314034,\n",
       " 'Claire Temple (Marvel Cinematic Universe)': 0.9251700680272109,\n",
       " 'Shuri (comics)': 1.4256756756756757,\n",
       " 'Magneto (comics)': 1.7239616613418531,\n",
       " 'Jigsaw (Marvel Comics)': 1.0984455958549222,\n",
       " 'Dreadknight': 1.1538461538461537,\n",
       " 'Toxin (comics)': 0.8790035587188612,\n",
       " 'Norman Osborn': 1.1233689205219455,\n",
       " 'Ball-jointed doll': 0.7458563535911602,\n",
       " 'Mattel': 1.0431211498973305,\n",
       " 'National Entertainment Collectibles Association': 0.7528089887640449,\n",
       " 'marketing': 0,\n",
       " 'Toy Biz': 2.7636363636363637,\n",
       " 'Phosphorescence': 1.1206543967280163,\n",
       " 'Captain Power and the Soldiers of the Future': 1.392156862745098,\n",
       " 'film': 0,\n",
       " '1:6 scale modeling': 1.1896551724137931,\n",
       " 'ToyFare': 0.9090909090909091,\n",
       " 'thermochromism': 1.0,\n",
       " 'Jean Giraud': 1.5236907730673317,\n",
       " 'Scott Hampton': 0.5,\n",
       " 'Cerebus the Aardvark': 0.918918918918919,\n",
       " 'comic strip': 0,\n",
       " 'Our Fighting Forces': 0.9375,\n",
       " 'Gerry Conway': 3.67816091954023,\n",
       " 'Bob Clampett': 1.056,\n",
       " 'Akira (manga)': 1.026272577996716,\n",
       " 'Tulsa, Oklahoma': 1.2336860670194003,\n",
       " 'Iron Man and Sub-Mariner': 2.142857142857143,\n",
       " 'Controller (Marvel Comics)': 0.875,\n",
       " 'The Amazing Spider-Man': 4.502433090024331,\n",
       " 'work for hire': 0,\n",
       " 'Barry Windsor-Smith': 1.7580645161290323,\n",
       " 'Comics Code Authority': 23.620192307692307,\n",
       " 'Elric of Melniboné': 1.0894736842105264,\n",
       " 'Dave Sim': 1.1139240506329113,\n",
       " 'Terry Austin (comics)': 1.3333333333333333,\n",
       " 'Bernie Wrightson': 1.2443729903536977,\n",
       " 'Ken Steacy': 2.5,\n",
       " 'Heavy Metal (magazine)': 1.0879120879120878,\n",
       " 'Carl Potts': 2.5,\n",
       " 'List of comics solicited but never published': 1.4814814814814814,\n",
       " 'Wolfgang Amadeus Phoenix': 1.3363636363636364,\n",
       " 'The People v. O. J. Simpson: American Crime Story': 0.9948132780082988,\n",
       " 'My Beautiful Dark Twisted Fantasy': 1.042760690172543,\n",
       " 'The Onion': 1.1731025299600533,\n",
       " 'Civilian (Wye Oak album)': 1.6923076923076923,\n",
       " 'Richard Linklater': 0.908485856905158,\n",
       " 'The Hold Steady': 0.9872611464968153,\n",
       " 'David Bowie': 0.8078861239544911,\n",
       " 'David Cook (singer)': 1.3194444444444444,\n",
       " 'popular culture': 0,\n",
       " 'Twitter': 1.5587755102040817,\n",
       " 'The Hurt Locker': 0.9771634615384616,\n",
       " 'Wil Wheaton': 0.9748482220294883,\n",
       " 'The Walkmen': 0.925,\n",
       " 'Children of Men': 0.8205297140598234,\n",
       " 'No Country for Old Men (film)': 1.06755710414247,\n",
       " 'Frank Ocean': 1.3272297696396929,\n",
       " 'TV on the Radio': 1.1019283746556474,\n",
       " 'Kendrick Lamar': 1.0508744038155804,\n",
       " 'American Idol': 1.153953488372093,\n",
       " 'Invasion of Kuwait': 1.0753424657534247,\n",
       " 'M2010 Enhanced Sniper Rifle': 1.0662020905923344,\n",
       " 'Daniel A. Dailey': 1.1310211946050097,\n",
       " 'Spain': 1.12102454642476,\n",
       " '100th Infantry Battalion (United States)': 1.5188679245283019,\n",
       " 'Battle of Medina Ridge': 0.950354609929078,\n",
       " 'Smoke grenade': 0.5015479876160991,\n",
       " 'Al-Qaeda': 1.080550098231827,\n",
       " 'Battle of Gettysburg': 1.119434628975265,\n",
       " '19th Special Forces Group': 1.1275510204081634,\n",
       " '36th Infantry Division (United States)': 1.1441717791411044,\n",
       " 'Structure of the United States Army#Branches and Functional Areas': 0,\n",
       " 'Fort Bragg': 1.054954954954955,\n",
       " 'Chairman of the Joint Chiefs of Staff': 0.8805460750853242,\n",
       " 'George Tenet': 0.9771428571428571,\n",
       " 'Red Square': 0.2313812858052196,\n",
       " 'Social Security debate in the United States': 1.4444444444444444,\n",
       " 'Osama bin Laden': 1.0330956545136554,\n",
       " 'unlawful combatant': 0,\n",
       " 'Pope John Paul II': 1.1202715809893307,\n",
       " \"Unite the Right rally#President Trump's statements\": 0,\n",
       " 'Adam McKay': 0.9368998628257887,\n",
       " 'disarmament': 0,\n",
       " 'Rick Perry': 1.2375737152485258,\n",
       " 'cause célèbre': 0,\n",
       " 'Benjamin K. Sovacool': 1.3846153846153846,\n",
       " 'Great Recession': 1.5775127768313457,\n",
       " 'Guantanamo Bay detention camp': 1.1094080338266386,\n",
       " 'List of George W. Bush legislation and programs': 1.2352941176470589,\n",
       " 'Xinhua News Agency': 1.2689655172413794,\n",
       " 'executive order': 0,\n",
       " 'The Colbert Report': 1.0960960960960962,\n",
       " 'Yoweri Museveni': 0.9882659713168188,\n",
       " 'film producer': 0,\n",
       " 'Ryan Murphy (writer)': 0.9846796657381616,\n",
       " 'video game developer': 0,\n",
       " 'session musician': 0,\n",
       " 'management accounting': 0,\n",
       " 'NBA 2K13': 0.7905405405405406,\n",
       " 'Stephen J. Cannell': 0.594758064516129,\n",
       " 'law': 0,\n",
       " 'entertainment': 0,\n",
       " 'Film budgeting': 1.2375690607734806,\n",
       " 'media (communication)': 0,\n",
       " 'copyright': 0,\n",
       " 'Jay-Z': 0.9841158279448974,\n",
       " 'BBC News': 0.921242774566474,\n",
       " 'funding': 0,\n",
       " 'Abingdon-on-Thames': 1.0360360360360361,\n",
       " 'Carroll & Graf Publishers': 1.5714285714285714,\n",
       " 'Jean Yarbrough': 1.0,\n",
       " 'Jerry Lewis': 0.8477190679356744,\n",
       " 'Victor Herbert': 1.0256410256410255,\n",
       " 'William A. Seiter': 1.4545454545454546,\n",
       " '1946 in film': 0.8169014084507042,\n",
       " 'Alfred E. Green': 1.2857142857142858,\n",
       " '1952 in film': 0.7586206896551724,\n",
       " 'Clem McCarthy': 1.0,\n",
       " 'China Clipper (1936 film)': 1.0,\n",
       " 'David Butler (director)': 1.25,\n",
       " 'Brendan Coyle': 0.9709923664122138,\n",
       " 'Ewok': 1.0106221547799696,\n",
       " 'SF Sketchfest': 0.9,\n",
       " 'MTV': 1.0926662876634452,\n",
       " 'Craft (magazine)': 1.2,\n",
       " 'Tegan and Sara': 1.2960526315789473,\n",
       " 'TableTop (web series)': 0.9617486338797814,\n",
       " 'Grant Imahara': 1.0210526315789474,\n",
       " 'National Lampoon (magazine)': 0.7592417061611374,\n",
       " 'Golden Age of Comic Books': 4.898245614035088,\n",
       " 'New York (state)': 1.0977879213483146,\n",
       " 'Scott Beatty': 0.8,\n",
       " 'Esquire (magazine)': 1.0528846153846154,\n",
       " 'New York (magazine)': 1.2485207100591715,\n",
       " 'B.C. (comic strip)': 1.3157894736842106,\n",
       " 'Through the Looking-Glass': 1.1363636363636365,\n",
       " 'Reginald Hudlin': 1.2307692307692308,\n",
       " 'Alan Moore': 1.6777286135693215,\n",
       " 'pulp magazine': 0,\n",
       " 'Crown Publishing Group': 1.8111111111111111,\n",
       " 'Doubleday (publisher)': 1.297752808988764,\n",
       " 'Long Beach, New York#Long Beach Barrier Island': 0,\n",
       " 'Matt Serra': 1.5718901453957996,\n",
       " 'Irish Americans in New York City': 0.8345864661654135,\n",
       " 'Huntington, New York': 1.1914893617021276,\n",
       " 'Putnam County, New York': 1.127388535031847,\n",
       " 'New York Lizards': 1.5208333333333333,\n",
       " 'List of New York state parks': 0.9864864864864865,\n",
       " 'MCU Park': 0.8448275862068966,\n",
       " 'the Bronx': 0,\n",
       " 'List of islands by area': 0.7949052906596995,\n",
       " 'engineering': 0,\n",
       " 'WLIR': 0.5656565656565656,\n",
       " 'Los Angeles Dodgers': 0.9513933895009722,\n",
       " 'Arthur Ashe Stadium': 0.7969924812030075,\n",
       " 'Colleen Wing': 1.0078740157480315,\n",
       " 'New York City': 1.091576585763818,\n",
       " 'The Punisher (2004 series)': 1.2758620689655173,\n",
       " 'Young Allies (Marvel Comics)#Heroic Age': 0,\n",
       " 'Marvel Mangaverse': 0.9191919191919192,\n",
       " 'Carol Danvers': 1.5254317482848356}"
      ]
     },
     "execution_count": 7,
     "metadata": {},
     "output_type": "execute_result"
    }
   ],
   "source": [
    "views_graph"
   ]
  },
  {
   "cell_type": "code",
   "execution_count": 8,
   "metadata": {},
   "outputs": [
    {
     "data": {
      "text/plain": [
       "True"
      ]
     },
     "execution_count": 8,
     "metadata": {},
     "output_type": "execute_result"
    }
   ],
   "source": [
    "isinstance(views_graph,dict)"
   ]
  },
  {
   "cell_type": "code",
   "execution_count": 9,
   "metadata": {},
   "outputs": [],
   "source": [
    "nodes = np.array(Gnx.nodes())\n",
    "nx.set_node_attributes(Gnx, values=views_graph, name= 'quotient')\n",
    "quotient = nx.get_node_attributes(Gnx, 'quotient')\n",
    "signal = np.array([quotient[n] for n in nodes])"
   ]
  },
  {
   "cell_type": "code",
   "execution_count": 10,
   "metadata": {},
   "outputs": [
    {
     "data": {
      "text/plain": [
       "{'quotient': 347.05108962332224}"
      ]
     },
     "execution_count": 10,
     "metadata": {},
     "output_type": "execute_result"
    }
   ],
   "source": [
    "Gnx.node['Stan Lee']"
   ]
  },
  {
   "cell_type": "code",
   "execution_count": 11,
   "metadata": {},
   "outputs": [
    {
     "data": {
      "text/plain": [
       "[<matplotlib.lines.Line2D at 0x1a187a3be0>]"
      ]
     },
     "execution_count": 11,
     "metadata": {},
     "output_type": "execute_result"
    },
    {
     "data": {
      "image/png": "[encoded data removed]",
      "text/plain": [
       "<Figure size 864x288 with 2 Axes>"
      ]
     },
     "metadata": {
      "needs_background": "light"
     },
     "output_type": "display_data"
    }
   ],
   "source": [
    "fig = plt.figure(figsize=(12,4))\n",
    "plt.subplot(1,2,1)\n",
    "plt.plot(signal)\n",
    "plt.subplot(1,2,2)\n",
    "plt.semilogy(sorted(signal, reverse=True))"
   ]
  },
  {
   "cell_type": "code",
   "execution_count": 12,
   "metadata": {},
   "outputs": [
    {
     "data": {
      "text/plain": [
       "[('Stan Lee', 347.05108962332224),\n",
       " ('Larry Lieber', 113.61176470588235),\n",
       " ('Don Heck', 58.83),\n",
       " ('Joe Simon', 25.946428571428573),\n",
       " ('Dick Ayers', 25.142857142857142),\n",
       " ('DC Comics Presents', 25.19672131147541),\n",
       " ('Just Imagine...', 67.58095238095238),\n",
       " ('Steve Ditko', 52.28125),\n",
       " ('Joe Maneely', 682.1666666666666),\n",
       " ('Cedars-Sinai Medical Center', 40.795698924731184),\n",
       " ('Jack Kirby', 59.86119402985074),\n",
       " ('Iron Man', 24.72867298578199),\n",
       " ('Polygon (website)', 22.4568345323741),\n",
       " ('Ringo Kid', 25.0),\n",
       " ('John Romita Sr.', 49.97126436781609),\n",
       " ('Comics Code Authority', 23.620192307692307)]"
      ]
     },
     "execution_count": 12,
     "metadata": {},
     "output_type": "execute_result"
    }
   ],
   "source": [
    "# look at what pages got the highest delta\n",
    "list(zip(nodes[signal>20],signal[signal>20]))"
   ]
  },
  {
   "cell_type": "code",
   "execution_count": 13,
   "metadata": {},
   "outputs": [
    {
     "data": {
      "text/plain": [
       "<matplotlib.lines.Line2D at 0x1a188fd198>"
      ]
     },
     "execution_count": 13,
     "metadata": {},
     "output_type": "execute_result"
    },
    {
     "data": {
      "image/png": "[encoded data removed]",
      "text/plain": [
       "<Figure size 432x288 with 1 Axes>"
      ]
     },
     "metadata": {
      "needs_background": "light"
     },
     "output_type": "display_data"
    }
   ],
   "source": [
    "# make graph undirected & remove self loops\n",
    "A = nx.adjacency_matrix(Gnx).todense()\n",
    "A = np.logical_or(A, A.T).astype(int)\n",
    "np.fill_diagonal(A, 0)\n",
    "A = np.array(A)\n",
    "adjacency = sparse.csr_matrix(A)\n",
    "\n",
    "plt.spy(adjacency, markersize=0.1)"
   ]
  },
  {
   "cell_type": "code",
   "execution_count": 14,
   "metadata": {},
   "outputs": [],
   "source": [
    "#sparse.csr_matrix(A)\n",
    "n_nodes = A.shape[0]\n",
    "D = sparse.diags(np.sum(A, axis=0))\n",
    "D_inv_sq = sparse.diags(1 / np.sqrt(np.sum(A,axis=0)))\n",
    "laplacian_combinatorial = D - adjacency\n",
    "laplacian_normalized = sparse.eye(n_nodes) - D_inv_sq @ adjacency @ D_inv_sq.T"
   ]
  },
  {
   "cell_type": "code",
   "execution_count": 15,
   "metadata": {},
   "outputs": [],
   "source": [
    "#eig_val, U = np.linalg.eigh(laplacian_normalized)\n",
    "eig_val, U = sparse.linalg.eigsh(laplacian_normalized, k=20, which='SM')\n",
    "U_norm = D_inv_sq @ U # renormalize for eigenmap visualizatio\n",
    "eigenmap = U[:,1:3]"
   ]
  },
  {
   "cell_type": "code",
   "execution_count": 16,
   "metadata": {},
   "outputs": [
    {
     "data": {
      "text/plain": [
       "<matplotlib.collections.PathCollection at 0x1a18eed4e0>"
      ]
     },
     "execution_count": 16,
     "metadata": {},
     "output_type": "execute_result"
    },
    {
     "data": {
      "image/png": "[encoded data removed]",
      "text/plain": [
       "<Figure size 432x288 with 1 Axes>"
      ]
     },
     "metadata": {
      "needs_background": "light"
     },
     "output_type": "display_data"
    }
   ],
   "source": [
    "plt.scatter(U[:, 1], U[:, 2], s=1)"
   ]
  },
  {
   "cell_type": "code",
   "execution_count": 17,
   "metadata": {},
   "outputs": [
    {
     "data": {
      "text/plain": [
       "<matplotlib.collections.PathCollection at 0x1a19403278>"
      ]
     },
     "execution_count": 17,
     "metadata": {},
     "output_type": "execute_result"
    },
    {
     "data": {
      "image/png": "[encoded data removed]",
      "text/plain": [
       "<Figure size 432x288 with 1 Axes>"
      ]
     },
     "metadata": {
      "needs_background": "light"
     },
     "output_type": "display_data"
    }
   ],
   "source": [
    "plt.scatter(U_norm[:, 1], U_norm[:, 2], s=1)"
   ]
  },
  {
   "cell_type": "code",
   "execution_count": 18,
   "metadata": {},
   "outputs": [
    {
     "data": {
      "text/plain": [
       "<matplotlib.collections.PathCollection at 0x1a194fa828>"
      ]
     },
     "execution_count": 18,
     "metadata": {},
     "output_type": "execute_result"
    },
    {
     "data": {
      "image/png": "[encoded data removed]",
      "text/plain": [
       "<Figure size 432x288 with 1 Axes>"
      ]
     },
     "metadata": {
      "needs_background": "light"
     },
     "output_type": "display_data"
    }
   ],
   "source": [
    "#G = pygsp.graphs.Graph(adjacency, lap_type='combinatorial')\n",
    "G = pygsp.graphs.Graph(sparse.csr_matrix(A), lap_type='normalized')\n",
    "eig_val, U = sparse.linalg.eigsh(G.L, k=20, which='SM')\n",
    "plt.scatter(U[:, 1], U[:, 2], s=1)"
   ]
  },
  {
   "cell_type": "code",
   "execution_count": 19,
   "metadata": {},
   "outputs": [],
   "source": [
    "#G.set_coordinates(kind='spring')\n",
    "G.set_coordinates(U[:,1:3])"
   ]
  },
  {
   "cell_type": "code",
   "execution_count": 20,
   "metadata": {},
   "outputs": [
    {
     "data": {
      "image/png": "[encoded data removed]",
      "text/plain": [
       "<Figure size 432x288 with 2 Axes>"
      ]
     },
     "metadata": {
      "needs_background": "light"
     },
     "output_type": "display_data"
    }
   ],
   "source": [
    "G.plot_signal(signal, vertex_size=2, show_edges=False)"
   ]
  },
  {
   "cell_type": "code",
   "execution_count": 21,
   "metadata": {},
   "outputs": [],
   "source": [
    "eigenval_comb, eigen_vec_comb = np.linalg.eigh(laplacian_combinatorial.toarray())"
   ]
  },
  {
   "cell_type": "code",
   "execution_count": 22,
   "metadata": {},
   "outputs": [],
   "source": [
    "e, U = eigenval_comb, eigen_vec_comb\n",
    "\n",
    "def GFT(x):\n",
    "    return  np.matmul(U.T,x) # U.T= U^-1 because orthonormal \n",
    "\n",
    "def iGFT(x):\n",
    "    return np.matmul(U,x) \n",
    "\n",
    "def heat_kernel(e, t):\n",
    "    return np.exp(-t*e)\n",
    "\n",
    "def inverse_kernel(e, t):\n",
    "    g = 1/(1 + t*e)\n",
    "    return g\n",
    "\n",
    "def rectangle_kernel(e, l_min, l_max):\n",
    "    cond = np.logical_and(e >= l_min, e <= l_max)\n",
    "    return np.where(cond, 1, 0)\n",
    "\n",
    "def graph_filter(x, kernel, **kwargs):\n",
    "    e = eigenval_comb\n",
    "    g = kernel(e, **kwargs)\n",
    "    return iGFT(np.matmul(np.diag(g),GFT(x)))"
   ]
  },
  {
   "cell_type": "code",
   "execution_count": 26,
   "metadata": {},
   "outputs": [
    {
     "data": {
      "image/png": "[encoded data removed]",
      "text/plain": [
       "<Figure size 432x288 with 2 Axes>"
      ]
     },
     "metadata": {
      "needs_background": "light"
     },
     "output_type": "display_data"
    }
   ],
   "source": [
    "dirac = np.zeros(n_nodes);\n",
    "dirac[nodes=='Stan Lee'] = 1;\n",
    "x = graph_filter(dirac, heat_kernel, t=0.01)\n",
    "G.plot_signal(x, vertex_size=2, show_edges=False)"
   ]
  },
  {
   "cell_type": "code",
   "execution_count": 24,
   "metadata": {},
   "outputs": [
    {
     "data": {
      "text/plain": [
       "[<matplotlib.lines.Line2D at 0x1a184f5898>]"
      ]
     },
     "execution_count": 24,
     "metadata": {},
     "output_type": "execute_result"
    },
    {
     "data": {
      "image/png": "[encoded data removed]",
      "text/plain": [
       "<Figure size 432x288 with 1 Axes>"
      ]
     },
     "metadata": {
      "needs_background": "light"
     },
     "output_type": "display_data"
    }
   ],
   "source": [
    "plt.plot(x)"
   ]
  },
  {
   "cell_type": "code",
   "execution_count": null,
   "metadata": {},
   "outputs": [],
   "source": []
  }
 ],
 "metadata": {
  "kernelspec": {
   "display_name": "Python 3",
   "language": "python",
   "name": "python3"
  },
  "language_info": {
   "codemirror_mode": {
    "name": "ipython",
    "version": 3
   },
   "file_extension": ".py",
   "mimetype": "text/x-python",
   "name": "python",
   "nbconvert_exporter": "python",
   "pygments_lexer": "ipython3",
   "version": "3.6.6"
  }
 },
 "nbformat": 4,
 "nbformat_minor": 2
}
