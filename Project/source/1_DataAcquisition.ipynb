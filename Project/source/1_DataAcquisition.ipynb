{
 "cells": [
  {
   "cell_type": "markdown",
   "metadata": {},
   "source": [
    "## This notebook contains the data acquisition pipeline for our project"
   ]
  },
  {
   "cell_type": "markdown",
   "metadata": {},
   "source": [
    "### Section 0 : imports and function definitions"
   ]
  },
  {
   "cell_type": "code",
   "execution_count": 2,
   "metadata": {},
   "outputs": [],
   "source": [
    "import pandas as pd\n",
    "import numpy as np\n",
    "import re\n",
    "import wikipedia\n",
    "import datetime\n",
    "import requests\n",
    "from dateutil.relativedelta import relativedelta\n",
    "import matplotlib.pyplot as plt\n",
    "import json\n",
    "import urllib\n",
    "from urllib.parse import urlencode\n",
    "from urllib.request import urlopen\n",
    "from collections import deque\n",
    "# documentation: https://mwparserfromhell.readthedocs.io/en/latest/api/mwparserfromhell.nodes.html#module-mwparserfromhell.nodes.wikilink\n",
    "import mwparserfromhell\n",
    "import networkx as nx\n",
    "import random\n",
    "from helpers import page_visits\n",
    "import pickle\n",
    "import os"
   ]
  },
  {
   "cell_type": "code",
   "execution_count": 3,
   "metadata": {},
   "outputs": [],
   "source": [
    "%matplotlib inline"
   ]
  },
  {
   "cell_type": "code",
   "execution_count": 4,
   "metadata": {},
   "outputs": [],
   "source": [
    "## data folders\n",
    "data_folder = '../data/'\n",
    "plots_folder = '../plots/'"
   ]
  },
  {
   "cell_type": "code",
   "execution_count": 5,
   "metadata": {},
   "outputs": [],
   "source": [
    "API_URL = \"https://en.wikipedia.org/w/api.php\"\n",
    "def parse_with_date(title, date=None):\n",
    "    '''\n",
    "    Function to retrieve the wikipedia article with name <title> as it was on date <date>\n",
    "    :param title: title of the wikipedia article\n",
    "    :param date: snapshot of the page as it was on the date. If None, scrapes the page as is now. \n",
    "    :return: the parsed page of wikipedia\n",
    "    '''\n",
    "    data = {\"action\": \"query\", \"prop\": \"revisions\", \"rvlimit\": 1,\n",
    "            \"rvprop\": \"content\", \"format\": \"json\", \"titles\": title}\n",
    "    if date is not None:\n",
    "        data[\"rvstart\"] = date\n",
    "    raw = urlopen(API_URL, urlencode(data).encode()).read()\n",
    "    res = json.loads(raw)\n",
    "    try:\n",
    "        text = list(res[\"query\"][\"pages\"].values())[0][\"revisions\"][0][\"*\"]\n",
    "    except KeyError as err:\n",
    "        print(\"Key error\".format(err))\n",
    "        print(title)\n",
    "        return None\n",
    "    return mwparserfromhell.parse(text)"
   ]
  },
  {
   "cell_type": "markdown",
   "metadata": {},
   "source": [
    "A heuristic we use for sampling is to give more probability to the links at the front of the page (assuming they might be more important and more related to the subject) than to the other links."
   ]
  },
  {
   "cell_type": "code",
   "execution_count": 6,
   "metadata": {},
   "outputs": [],
   "source": [
    "def sample_links(n_links, n_links_sample, percentage_l, percentage_l_subsample):\n",
    "    '''\n",
    "    Function to subsample links from an ordered list of links\n",
    "    :param n_links: number of links a page has\n",
    "    :param n_links_sample: number of links you want to sample\n",
    "    :param percentage_l: consider the top percentage_l links ..\n",
    "    :param percentage_l_subsample: to account for percentage_l_subsample of the subsampled links\n",
    "    :return:  the chosen indices of the sampled links \n",
    "    Example call: from a list of <n_links> links, subsample <n_links_sample> links, such that the top <percentage_l>\n",
    "    of the links account for <percentage_l_subsample> of the sample.\n",
    "    '''\n",
    "    # no sampling needed here\n",
    "    if n_links_sample >= n_links:\n",
    "        return np.array(range(n_links))\n",
    "    \n",
    "    # how many links from the first group should be subsampled\n",
    "    n_links_first_group = int(n_links_sample * percentage_l_subsample)\n",
    "    # how many links from the first group we have\n",
    "    n_links_first_group_pop = int(n_links * percentage_l)\n",
    "    \n",
    "    # no sampling from the first group\n",
    "    if n_links_first_group_pop < n_links_first_group:\n",
    "        links_chosen_group_1 = np.array(range(n_links_first_group_pop))\n",
    "        remaining = n_links_sample - n_links_first_group_pop\n",
    "        links_chosen_group_2 = np.random.choice(range(n_links_first_group_pop+1, n_links), size = remaining, replace= False)\n",
    "        return np.append(links_chosen_group_1, links_chosen_group_2)\n",
    "    \n",
    "    # if we have to sample from both groups, create the probabilities \n",
    "    perc_1 = percentage_l_subsample / n_links_first_group_pop\n",
    "    perc_2 = (1 - percentage_l_subsample) / (n_links - n_links_first_group_pop)\n",
    "    #print('Links from first group were sampled with p ', perc_1, ' and links from second group were sampled with p ', perc_2)\n",
    "    p = [perc_1] * n_links_first_group_pop + [perc_2] * (n_links - n_links_first_group_pop)\n",
    "    chosen_links = np.random.choice(n_links, size = n_links_sample, p = p, replace=False)\n",
    "    return chosen_links"
   ]
  },
  {
   "cell_type": "code",
   "execution_count": 7,
   "metadata": {},
   "outputs": [],
   "source": [
    "def preprocess_links(links):\n",
    "    '''\n",
    "    Function to convert links from wikiCode objects to string type and to filter out the non-relevant links\n",
    "    '''\n",
    "    non_link = re.compile('Category:|File:|wikt:|.*#.*')\n",
    "    links = [str(link.title) for link in links if non_link.match(str(link.title))==None]\n",
    "    links = list(set(links))\n",
    "    return links"
   ]
  },
  {
   "cell_type": "markdown",
   "metadata": {},
   "source": [
    "For crawling, we use the below function"
   ]
  },
  {
   "cell_type": "code",
   "execution_count": 8,
   "metadata": {},
   "outputs": [],
   "source": [
    "def wiki_crawl(seed, date, max_nodes = 2701, n_links_hop1 = 150, n_links_indirect = 3, min_popularity = 30, verbose=False):\n",
    "    '''\n",
    "    \n",
    "    :param seed: page from which crawl begins\n",
    "    :param date: date at which pages are crawled\n",
    "    :param max_nodes: maximum number of nodes of the resulting graph\n",
    "    :param n_links_hop1: how many direct neighbours\n",
    "    :param n_links_indirect: how many indirect neighbours\n",
    "    :param min_popularity: the minimum number of links a page should have to be taken into the graph (to avoid stubs or really small articles)\n",
    "    :param verbose: flag to enable print output\n",
    "    :return: dictionary mapping nodes to list links \n",
    "    '''\n",
    "    # init algo\n",
    "    article_links = {}\n",
    "    queue = deque([seed])\n",
    "\n",
    "    while(len(article_links) < max_nodes):\n",
    "        if len(queue) == 0:\n",
    "            if verbose: print('no more links to dequeue')\n",
    "            break\n",
    "        article = queue.popleft()\n",
    "        # crawl it\n",
    "        article_content = parse_with_date(title=article, date=date)\n",
    "        # check parse succesful\n",
    "        if article_content is not None:\n",
    "            links = article_content.filter_wikilinks()\n",
    "            links = preprocess_links(links)\n",
    "            # filter out the links that are 1st hop neighbors\n",
    "            if seed in article_links.keys():\n",
    "                links = [link for link in links if link not in article_links[seed]]\n",
    "            #print(len(links))\n",
    "            if (len(links) > min_popularity):\n",
    "                article_links[article] = links\n",
    "                if article == seed:\n",
    "                    if verbose: print('Added direct', article, ' to the graph')\n",
    "                    idx_chosen_links = sample_links(n_links=len(links), n_links_sample=n_links_hop1, percentage_l=0.1, percentage_l_subsample=0.5)\n",
    "                else:\n",
    "                    if verbose: print('Added Indirect', article, ' to the graph')\n",
    "                    idx_chosen_links = sample_links(n_links=len(links), n_links_sample=n_links_indirect, percentage_l=0.2, percentage_l_subsample=0.5 )\n",
    "                for idx in idx_chosen_links:\n",
    "                    if links[idx] not in article_links and links[idx] not in queue:\n",
    "                        queue.append(links[idx])\n",
    "        if(len(article_links) % 100):\n",
    "            if verbose: print('Crawled ',len(article_links), 'articles' )\n",
    "    return article_links"
   ]
  },
  {
   "cell_type": "code",
   "execution_count": 9,
   "metadata": {},
   "outputs": [],
   "source": [
    "def construct_graph(links):\n",
    "    '''\n",
    "    \n",
    "    :param links: a dictionary mapping crawled articles to their links as listed on wiki page  \n",
    "    :return: graph\n",
    "    '''\n",
    "    G = nx.DiGraph()\n",
    "    G.add_nodes_from(links.keys())\n",
    "    for article in G.nodes():\n",
    "        for link in links[article]:\n",
    "            # add link if not self-loop\n",
    "            if link in links and link != article:\n",
    "                G.add_edge(article, link)\n",
    "    return G"
   ]
  },
  {
   "cell_type": "code",
   "execution_count": 10,
   "metadata": {},
   "outputs": [],
   "source": [
    "def save_object(obj, filename):\n",
    "    with open(filename, 'wb') as output:  # Overwrites any existing file.\n",
    "        pickle.dump(obj, output, pickle.HIGHEST_PROTOCOL)\n",
    "        \n",
    "def load_object(filename):\n",
    "    with open(filename, 'rb') as input:\n",
    "        obj = pickle.load(input)\n",
    "    return obj"
   ]
  },
  {
   "cell_type": "code",
   "execution_count": 11,
   "metadata": {},
   "outputs": [],
   "source": [
    "def get_page_signal(G, start, end):\n",
    "    '''\n",
    "    \n",
    "    :param G: graph for which we are getting the signal\n",
    "    :param start: start time for getting the views (date time object)\n",
    "    :param end: end time for getting the views (date time object)\n",
    "    :return: a dictionary mapping nodes to views and a list of nodes for which the signal could not be obtained\n",
    "    '''\n",
    "    views = {}\n",
    "    nodes_not_taken = []\n",
    "    for node in G.nodes():\n",
    "        try:\n",
    "            views[node] = page_visits.getUserActivity(article=node,\n",
    "                                                      granularity=\"daily\",\n",
    "                                                      start=start,\n",
    "                                                      end=end,\n",
    "                                                      dateformat=\"iso\")\n",
    "        except KeyError:\n",
    "            nodes_not_taken.append(node)\n",
    "        except json.JSONDecodeError:\n",
    "            print(f'JSONDecodeError: {node}')\n",
    "            nodes_not_taken.append(node)\n",
    "    return views, nodes_not_taken"
   ]
  },
  {
   "cell_type": "markdown",
   "metadata": {},
   "source": [
    "### Section 1: Views over time for the central articles"
   ]
  },
  {
   "cell_type": "code",
   "execution_count": 12,
   "metadata": {},
   "outputs": [],
   "source": [
    "articles_w_date = [\n",
    "#    ('Stan Lee', '2018-11-12'),\n",
    "#    ('Stephen Hawking', '2018-03-14'),\n",
    "    ('Alan Rickman', '2016-01-14')\n",
    "]"
   ]
  },
  {
   "cell_type": "code",
   "execution_count": 13,
   "metadata": {},
   "outputs": [
    {
     "data": {
      "image/png": "[encoded data removed]",
      "text/plain": [
       "<Figure size 432x288 with 1 Axes>"
      ]
     },
     "metadata": {},
     "output_type": "display_data"
    }
   ],
   "source": [
    "ndaysbefore = 10\n",
    "ndaysafter = 20\n",
    "\n",
    "for article, datestr in articles_w_date:\n",
    "    date = datetime.datetime.strptime(datestr, '%Y-%m-%d')\n",
    "    start = date - datetime.timedelta(days=ndaysbefore)\n",
    "    end = date + datetime.timedelta(days=ndaysafter)\n",
    "\n",
    "    outname = ''.join(c for c in article if c.isalnum())\n",
    "\n",
    "    views = page_visits.getUserActivity(article=article,\n",
    "                            granularity=\"daily\",\n",
    "                            start=start,\n",
    "                            end=end,\n",
    "                            dateformat=\"iso\")\n",
    "    #views_file = data_folder + '1_' + outname + '_views.pkl'\n",
    "    plot_file = os.path.join(plots_folder,'1_' + outname + '.png')\n",
    "    #save_object(views, views_file)\n",
    "\n",
    "    y = [x[0] for x in views]\n",
    "    x = np.arange(-ndaysbefore, ndaysafter+1)\n",
    "    plt.plot(x, y)\n",
    "    plt.xlabel('Days before/ after death')\n",
    "    plt.ylabel('Number of views')\n",
    "    plt.title(article)\n",
    "    plt.savefig(plot_file)\n",
    "    plt.show()\n"
   ]
  },
  {
   "cell_type": "markdown",
   "metadata": {},
   "source": [
    "### Section 2: obtaining graphs"
   ]
  },
  {
   "cell_type": "code",
   "execution_count": null,
   "metadata": {},
   "outputs": [],
   "source": [
    "for article, datestr in articles_w_date:\n",
    "    date = datetime.datetime.strptime(datestr, '%Y-%m-%d')\n",
    "    links = wiki_crawl(article, date=date)\n",
    "    \n",
    "    G = construct_graph(links)\n",
    "    print(f'nodes: {G.number_of_nodes()} edges: {G.number_of_edges()}')\n",
    "\n",
    "    # keep only alphanumeric characters for filesystem compatible string\n",
    "    outname = ''.join(c for c in article if c.isalnum())\n",
    "    graph_file = os.path.join(data_folder,'G_'+outname+'.gpickle')\n",
    "\n",
    "    print(f'Writing {graph_file}')\n",
    "    nx.write_gpickle(G, graph_file)"
   ]
  },
  {
   "cell_type": "markdown",
   "metadata": {},
   "source": [
    "### Section 3: Scraping the page_view signal"
   ]
  },
  {
   "cell_type": "code",
   "execution_count": 19,
   "metadata": {},
   "outputs": [
    {
     "name": "stdout",
     "output_type": "stream",
     "text": [
      "List of films with a 100% rating on Rotten Tomatoes\n",
      "JSONDecodeError: List of films with a 100% rating on Rotten Tomatoes\n"
     ]
    }
   ],
   "source": [
    "# Site that generates JSON error\n",
    "for l in list(G.nodes()):\n",
    "    if 'List of films with a 100% rating on Rotten Tomatoes' in l:\n",
    "        print(l)\n",
    "        break\n",
    "\n",
    "article, datestr = articles_w_date[-1]\n",
    "date = datetime.datetime.strptime(datestr, '%Y-%m-%d')\n",
    "before = date - datetime.timedelta(days=ndaysbefore)\n",
    "after = date + datetime.timedelta(days=ndaysafter)\n",
    "try:\n",
    "    views = page_visits.getUserActivity(article=l,\n",
    "                                                      granularity=\"daily\",\n",
    "                                                      start=start,\n",
    "                                                      end=end,\n",
    "                                                      dateformat=\"iso\")\n",
    "except json.JSONDecodeError:\n",
    "    print(f'JSONDecodeError: {l}')\n"
   ]
  },
  {
   "cell_type": "code",
   "execution_count": 20,
   "metadata": {},
   "outputs": [
    {
     "name": "stdout",
     "output_type": "stream",
     "text": [
      "Reading ../data/G_AlanRickman.gpickle\n",
      "JSONDecodeError: List of films with a 100% rating on Rotten Tomatoes\n",
      "Writing ../data/1_AlanRickman_signal.pkl\n",
      "Writing ../data/1_AlanRickman_signal_not_found.pkl\n"
     ]
    }
   ],
   "source": [
    "ndaysbefore = 1\n",
    "ndaysafter = 0\n",
    "for article, datestr in articles_w_date:\n",
    "    date = datetime.datetime.strptime(datestr, '%Y-%m-%d')\n",
    "    before = date - datetime.timedelta(days=ndaysbefore)\n",
    "    after = date + datetime.timedelta(days=ndaysafter)\n",
    "\n",
    "    # keep only alphanumeric characters for filesystem compatible string\n",
    "    outname = ''.join(c for c in article if c.isalnum())\n",
    "    graph_file = os.path.join(data_folder,'G_'+outname+'.gpickle')\n",
    "\n",
    "    print(f'Reading {graph_file}')\n",
    "    G = nx.read_gpickle(graph_file)\n",
    "    signal_views_lee, nodes_not_taken = get_page_signal(G=G, start=before, end=after)\n",
    "\n",
    "    signal_file = os.path.join(data_folder, '1_' + outname + '_signal.pkl')\n",
    "    signal_not_found = os.path.join(data_folder, '1_' + outname + '_signal_not_found.pkl')\n",
    "    print(f'Writing {signal_file}')\n",
    "    save_object(obj = signal_views_lee, filename = signal_file)\n",
    "    print(f'Writing {signal_not_found}')\n",
    "    save_object(obj = nodes_not_taken, filename = signal_not_found )"
   ]
  },
  {
   "cell_type": "markdown",
   "metadata": {},
   "source": [
    "### drafts"
   ]
  },
  {
   "cell_type": "code",
   "execution_count": null,
   "metadata": {},
   "outputs": [],
   "source": [
    "# example calls\n",
    "stan_lee_12_nov = parse_with_date(seed, date= '2018-11-13T00:00:00Z')\n",
    "stan_lee_12_nov_l = stan_lee_12_nov.filter_wikilinks()"
   ]
  },
  {
   "cell_type": "code",
   "execution_count": null,
   "metadata": {},
   "outputs": [],
   "source": [
    "# test it was saved\n",
    "G2 = nx.read_gpickle(data_folder + \"G_stan_lee.gpickle\")"
   ]
  },
  {
   "cell_type": "code",
   "execution_count": null,
   "metadata": {},
   "outputs": [],
   "source": [
    "# example\n",
    "seed = 'Stan Lee'\n",
    "start = datetime.datetime(year=2018,month=11,day=11, hour=23, minute = 59, second = 59)\n",
    "end =  datetime.datetime(year=2018,month=11,day=12, hour=23, minute = 59, second = 59)\n",
    "daily_view_lee = page_visits.getUserActivity(article=seed,granularity=\"daily\",start=start,end=end,dateformat=\"iso\")\n",
    "daily_view_lee"
   ]
  }
 ],
 "metadata": {
  "kernelspec": {
   "display_name": "Python 3",
   "language": "python",
   "name": "python3"
  },
  "language_info": {
   "codemirror_mode": {
    "name": "ipython",
    "version": 3
   },
   "file_extension": ".py",
   "mimetype": "text/x-python",
   "name": "python",
   "nbconvert_exporter": "python",
   "pygments_lexer": "ipython3",
   "version": "3.6.6"
  }
 },
 "nbformat": 4,
 "nbformat_minor": 2
}
