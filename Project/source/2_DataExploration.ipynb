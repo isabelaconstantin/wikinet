{
 "cells": [
  {
   "cell_type": "markdown",
   "metadata": {},
   "source": [
    "# Data Exploration"
   ]
  },
  {
   "cell_type": "code",
   "execution_count": 24,
   "metadata": {},
   "outputs": [],
   "source": [
    "%matplotlib inline"
   ]
  },
  {
   "cell_type": "code",
   "execution_count": 25,
   "metadata": {},
   "outputs": [],
   "source": [
    "import numpy as np\n",
    "from scipy import sparse\n",
    "import matplotlib.pyplot as plt\n",
    "import pygsp\n",
    "from pygsp import graphs, filters\n",
    "import networkx as nx\n",
    "import pickle\n",
    "import collections\n",
    "from numpy import linalg"
   ]
  },
  {
   "cell_type": "code",
   "execution_count": 26,
   "metadata": {},
   "outputs": [],
   "source": [
    "#import the three directed graphs: \n",
    "G_StanLee = nx.read_gpickle('../data/G_StanLee.gpickle')\n",
    "G_StephenHawking = nx.read_gpickle('../data/G_StephenHawking.gpickle')\n",
    "G_AlanRickman = nx.read_gpickle('../data/G_AlanRickman.gpickle')\n"
   ]
  },
  {
   "cell_type": "code",
   "execution_count": 27,
   "metadata": {},
   "outputs": [],
   "source": [
    "#make undirected versions\n",
    "G_StanLee_undir=G_StanLee.to_undirected()\n",
    "G_StephenHawking_undir=G_StephenHawking.to_undirected()\n",
    "G_AlanRickman_undir=G_AlanRickman.to_undirected()"
   ]
  },
  {
   "cell_type": "code",
   "execution_count": 28,
   "metadata": {},
   "outputs": [],
   "source": [
    "#Adjacency matrices of undirected graphs\n",
    "A_StanLee = nx.adjacency_matrix(G_StanLee_undir).todense()\n",
    "A_StephenHawking = nx.adjacency_matrix(G_StephenHawking_undir).todense()\n",
    "A_AlanRickman = nx.adjacency_matrix(G_AlanRickman_undir).todense()"
   ]
  },
  {
   "cell_type": "code",
   "execution_count": 29,
   "metadata": {},
   "outputs": [],
   "source": [
    "Names= ['StanLee','StephenHawking','AlanRickman']\n",
    "Graphs=[G_StanLee, G_StephenHawking, G_AlanRickman]\n",
    "Graphs_undir =[G_StanLee_undir, G_StephenHawking_undir, G_AlanRickman_undir]"
   ]
  },
  {
   "cell_type": "markdown",
   "metadata": {},
   "source": [
    "# Basic properties of the graphs\n"
   ]
  },
  {
   "cell_type": "markdown",
   "metadata": {},
   "source": [
    "We study basic properties of the graphs such as number of nodes, number of edges, strongly connectedness, the diameter, the average clustering coefficient and number of triangles or global clustering coefficient \n"
   ]
  },
  {
   "cell_type": "code",
   "execution_count": 30,
   "metadata": {},
   "outputs": [
    {
     "name": "stdout",
     "output_type": "stream",
     "text": [
      "The graph G_StanLee has 2701 nodes and 33469 edges \n",
      "The graph G_StephenHawking has 2701 nodes and 26921 edges \n",
      "The graph G_AlanRickman has 2701 nodes and 28012 edges \n"
     ]
    }
   ],
   "source": [
    "#Number of nodes and edges for each graphs \n",
    "for G, name in zip (Graphs, Names) :\n",
    "    print ('The graph G_{} has {} nodes and {} edges '. format( name, len(G.nodes),len(G.edges)))"
   ]
  },
  {
   "cell_type": "code",
   "execution_count": 31,
   "metadata": {},
   "outputs": [
    {
     "name": "stdout",
     "output_type": "stream",
     "text": [
      "The graph G_StanLee is not strongly connected\n",
      "The graph G_StephenHawking is not strongly connected\n",
      "The graph G_AlanRickman is not strongly connected\n"
     ]
    }
   ],
   "source": [
    "# Check if the graphs are strongly connected (if not, diameter=infinity)\n",
    "for G, name in zip (Graphs, Names) :\n",
    "    if nx.is_strongly_connected(G):\n",
    "        print('The graph G_{} is strongly connected and its diameter is {}'.format( name, nx.diameter(G)))\n",
    "    else: \n",
    "        print('The graph G_{} is not strongly connected'.format(name))\n",
    "  "
   ]
  },
  {
   "cell_type": "markdown",
   "metadata": {},
   "source": [
    "# !!!Note:  Extract the strongly connected components and diameter of the largest strongly connected component"
   ]
  },
  {
   "cell_type": "code",
   "execution_count": 33,
   "metadata": {},
   "outputs": [],
   "source": [
    "#return a list of nodes for the stronlgy connected components of a directed graph, how does this work??\n",
    "i=1\n",
    "for G, n in zip(Graphs, Names):\n",
    "    strongcc=nx.strongly_connected_components(G)"
   ]
  },
  {
   "cell_type": "code",
   "execution_count": 12,
   "metadata": {},
   "outputs": [
    {
     "data": {
      "text/plain": [
       "<generator object strongly_connected_components at 0x1a211f4990>"
      ]
     },
     "execution_count": 12,
     "metadata": {},
     "output_type": "execute_result"
    }
   ],
   "source": [
    "strongcc"
   ]
  },
  {
   "cell_type": "code",
   "execution_count": 34,
   "metadata": {},
   "outputs": [
    {
     "name": "stdout",
     "output_type": "stream",
     "text": [
      "The diameter of the undirected graph G_StanLee is 7\n",
      "The diameter of the undirected graph G_StephenHawking is 7\n",
      "The diameter of the undirected graph G_AlanRickman is 8\n"
     ]
    }
   ],
   "source": [
    "#compute the diameter of undirected graphs:\n",
    "for G, name in zip(Graphs_undir, Names) : \n",
    "    print('The diameter of the undirected graph G_{} is {}'.format(name, nx.diameter(G)))"
   ]
  },
  {
   "cell_type": "markdown",
   "metadata": {},
   "source": [
    "# Clustering coefficients and number of "
   ]
  },
  {
   "cell_type": "code",
   "execution_count": 37,
   "metadata": {},
   "outputs": [
    {
     "name": "stdout",
     "output_type": "stream",
     "text": [
      "The graph G_StanLee has average clustering coefficient 0.13116636151327363\n",
      "The graph G_StephenHawking has average clustering coefficient 0.13762486811289285\n",
      "The graph G_AlanRickman has average clustering coefficient 0.12266346600193209\n"
     ]
    }
   ],
   "source": [
    "#compute average clustering coefficient: \n",
    "#Note: Do we do for the directed or undirected graphs???\n",
    "for G, name in zip(Graphs,Names):\n",
    "    print('The graph G_{} has average clustering coefficient {}'.format(name,nx.average_clustering(G)))\n"
   ]
  },
  {
   "cell_type": "code",
   "execution_count": 38,
   "metadata": {},
   "outputs": [],
   "source": [
    "#compute the number of triangles in each graph\n",
    "T_StanLee=sum(nx.triangles(G_StanLee_undir).values())/3\n",
    "T_StephenHawking=sum(nx.triangles(G_StephenHawking_undir).values())/3\n",
    "T_AlanRickman=sum(nx.triangles(G_AlanRickman_undir).values())/3"
   ]
  },
  {
   "cell_type": "code",
   "execution_count": 39,
   "metadata": {},
   "outputs": [
    {
     "data": {
      "text/plain": [
       "151801048"
      ]
     },
     "execution_count": 39,
     "metadata": {},
     "output_type": "execute_result"
    }
   ],
   "source": [
    "#compute number of three paths in the graphs\n",
    "np.sum(np.linalg.matrix_power(A_StanLee,3))\n",
    "np.sum(np.linalg.matrix_power(A_StephenHawking,3))\n",
    "np.sum(np.linalg.matrix_power(A_AlanRickman,3))"
   ]
  },
  {
   "cell_type": "code",
   "execution_count": 40,
   "metadata": {},
   "outputs": [],
   "source": [
    "#compute global clustering coefficient of the graphs\n",
    "C_StanLee=T_StanLee/np.sum(np.linalg.matrix_power(A_StanLee,3))\n",
    "C_StephenHawking=T_StephenHawking/np.sum(np.linalg.matrix_power(A_StephenHawking,3))\n",
    "C_AlanRickman=T_AlanRickman/np.sum(np.linalg.matrix_power(A_AlanRickman,3))"
   ]
  },
  {
   "cell_type": "code",
   "execution_count": 41,
   "metadata": {},
   "outputs": [
    {
     "name": "stdout",
     "output_type": "stream",
     "text": [
      "The graph G_StanLee has 60096 triangles and global clustering coefficient 0.0003792721652539111\n",
      "The graph G_StephenHawking has 41973 triangles and global clustering coefficient 0.0003354996251497291\n",
      "The graph G_AlanRickman has 38076 triangles and global clustering coefficient 0.0002508283078519985\n"
     ]
    }
   ],
   "source": [
    "print('The graph G_StanLee has {} triangles and global clustering coefficient {}'. format(int(T_StanLee), C_StanLee))\n",
    "print('The graph G_StephenHawking has {} triangles and global clustering coefficient {}'. format(int(T_StephenHawking), C_StephenHawking))\n",
    "print('The graph G_AlanRickman has {} triangles and global clustering coefficient {}'. format(int(T_AlanRickman), C_AlanRickman))\n",
    "\n"
   ]
  },
  {
   "cell_type": "markdown",
   "metadata": {},
   "source": [
    "# Degree Distribution\n"
   ]
  },
  {
   "cell_type": "markdown",
   "metadata": {},
   "source": [
    "## question: these are histograms: make them into distributions?"
   ]
  },
  {
   "cell_type": "code",
   "execution_count": 44,
   "metadata": {},
   "outputs": [],
   "source": [
    "#plot the degree histograms  \n",
    "def plot_degree(G, name):\n",
    "    degree_sequence = sorted([d for n, d in G.in_degree()], reverse=True)  # degree sequence\n",
    "# print \"Degree sequence\", degree_sequence\n",
    "    degreeCount = collections.Counter(degree_sequence)\n",
    "    deg, cnt = zip(*degreeCount.items())\n",
    "\n",
    "    fig, ax = plt.subplots()\n",
    "    plt.bar(deg, cnt)\n",
    "    #width=0.80\n",
    "\n",
    "    plt.title(\"Total Degree Histogram for G_\"+name)\n",
    "    plt.ylabel(\"Count\")\n",
    "    plt.xlabel(\"Degree\")\n",
    "    #ax.set_xticks([d + 0.4 for d in deg])\n",
    "    #ax.set_xticklabels(deg)\n",
    "\n",
    "    plt.show()"
   ]
  },
  {
   "cell_type": "code",
   "execution_count": 45,
   "metadata": {},
   "outputs": [],
   "source": [
    " #plot the in-degree histograms of a directed graph \n",
    "def plot_in_degree(G, name):\n",
    "    degree_sequence = sorted([d for n, d in G.in_degree()], reverse=True)  # degree sequence\n",
    "# print \"Degree sequence\", degree_sequence\n",
    "    degreeCount = collections.Counter(degree_sequence)\n",
    "    deg, cnt = zip(*degreeCount.items())\n",
    "\n",
    "    fig, ax = plt.subplots()\n",
    "    plt.bar(deg, cnt)\n",
    "    #width=0.80\n",
    "\n",
    "    plt.title(\"In-Degree Histogram for G_\"+name)\n",
    "    plt.ylabel(\"Count\")\n",
    "    plt.xlabel(\"Degree\")\n",
    "    #ax.set_xticks([d + 0.4 for d in deg])\n",
    "    #ax.set_xticklabels(deg)\n",
    "\n",
    "    plt.show()"
   ]
  },
  {
   "cell_type": "code",
   "execution_count": 46,
   "metadata": {},
   "outputs": [],
   "source": [
    "#plot the out-degree histograms of a directed graph \n",
    "def plot_out_degree(G, name):\n",
    "    degree_sequence = sorted([d for n, d in G.out_degree()], reverse=True)  # degree sequence\n",
    "# print \"Degree sequence\", degree_sequence\n",
    "    degreeCount = collections.Counter(degree_sequence)\n",
    "    deg, cnt = zip(*degreeCount.items())\n",
    "\n",
    "    fig, ax = plt.subplots()\n",
    "    plt.bar(deg, cnt)\n",
    "    #width=0.80\n",
    "\n",
    "    plt.title(\"Out-Degree Histogram for G_\"+name)\n",
    "    plt.ylabel(\"Count\")\n",
    "    plt.xlabel(\"Degree\")\n",
    "    #ax.set_xticks([d + 0.4 for d in deg])\n",
    "    #ax.set_xticklabels(deg)\n",
    "\n",
    "    plt.show()"
   ]
  },
  {
   "cell_type": "code",
   "execution_count": 51,
   "metadata": {},
   "outputs": [
    {
     "data": {
      "image/png": "[encoded data removed]",
      "text/plain": [
       "<Figure size 432x288 with 1 Axes>"
      ]
     },
     "metadata": {
      "needs_background": "light"
     },
     "output_type": "display_data"
    },
    {
     "data": {
      "image/png": "[encoded data removed]",
      "text/plain": [
       "<Figure size 432x288 with 1 Axes>"
      ]
     },
     "metadata": {
      "needs_background": "light"
     },
     "output_type": "display_data"
    },
    {
     "data": {
      "image/png": "[encoded data removed]",
      "text/plain": [
       "<Figure size 432x288 with 1 Axes>"
      ]
     },
     "metadata": {
      "needs_background": "light"
     },
     "output_type": "display_data"
    }
   ],
   "source": [
    "#Plot the degree histograms for the graphs\n",
    "for G, name in zip(Graphs,Names): \n",
    "    plot_degree(G,name)\n"
   ]
  },
  {
   "cell_type": "code",
   "execution_count": 52,
   "metadata": {},
   "outputs": [
    {
     "data": {
      "image/png": "[encoded data removed]",
      "text/plain": [
       "<Figure size 432x288 with 1 Axes>"
      ]
     },
     "metadata": {
      "needs_background": "light"
     },
     "output_type": "display_data"
    },
    {
     "data": {
      "image/png": "[encoded data removed]",
      "text/plain": [
       "<Figure size 432x288 with 1 Axes>"
      ]
     },
     "metadata": {
      "needs_background": "light"
     },
     "output_type": "display_data"
    },
    {
     "data": {
      "image/png": "[encoded data removed]",
      "text/plain": [
       "<Figure size 432x288 with 1 Axes>"
      ]
     },
     "metadata": {
      "needs_background": "light"
     },
     "output_type": "display_data"
    }
   ],
   "source": [
    "#plot in-degrees fot the graphs\n",
    "for G,name in zip(Graphs,Names): \n",
    "    plot_in_degree(G,name)"
   ]
  },
  {
   "cell_type": "code",
   "execution_count": 53,
   "metadata": {},
   "outputs": [
    {
     "data": {
      "image/png": "[encoded data removed]",
      "text/plain": [
       "<Figure size 432x288 with 1 Axes>"
      ]
     },
     "metadata": {
      "needs_background": "light"
     },
     "output_type": "display_data"
    },
    {
     "data": {
      "image/png": "[encoded data removed]",
      "text/plain": [
       "<Figure size 432x288 with 1 Axes>"
      ]
     },
     "metadata": {
      "needs_background": "light"
     },
     "output_type": "display_data"
    },
    {
     "data": {
      "image/png": "[encoded data removed]",
      "text/plain": [
       "<Figure size 432x288 with 1 Axes>"
      ]
     },
     "metadata": {
      "needs_background": "light"
     },
     "output_type": "display_data"
    }
   ],
   "source": [
    "#Plot the out-degree histograms of the graphs\n",
    "for G, name in zip(Graphs,Names): \n",
    "    plot_out_degree(G,name)\n",
    " "
   ]
  },
  {
   "cell_type": "code",
   "execution_count": 25,
   "metadata": {},
   "outputs": [],
   "source": [
    "def plot_distribution(degree):\n",
    "    '''\n",
    "    degree list: the list of node degrees\n",
    "    network_type: string used for plotting the title\n",
    "    '''\n",
    "    fig = plt.figure()\n",
    "    ax = plt.gca()\n",
    "    bins = min(int(np.max(degree) - np.min(degree)), 100)\n",
    "    a = plt.hist(degree, bins=bins, density=True)\n",
    "    #log = True\n",
    "    plt.xlabel('Degree')\n",
    "    plt.ylabel('Probability of node having degree k')\n",
    "    plt.title('Degree distribution for ')"
   ]
  }
 ],
 "metadata": {
  "kernelspec": {
   "display_name": "Python 3",
   "language": "python",
   "name": "python3"
  },
  "language_info": {
   "codemirror_mode": {
    "name": "ipython",
    "version": 3
   },
   "file_extension": ".py",
   "mimetype": "text/x-python",
   "name": "python",
   "nbconvert_exporter": "python",
   "pygments_lexer": "ipython3",
   "version": "3.6.6"
  }
 },
 "nbformat": 4,
 "nbformat_minor": 2
}
