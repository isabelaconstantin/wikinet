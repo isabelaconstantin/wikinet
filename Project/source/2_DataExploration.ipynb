{
 "cells": [
  {
   "cell_type": "markdown",
   "metadata": {},
   "source": [
    "# Data Exploration"
   ]
  },
  {
   "cell_type": "code",
   "execution_count": 1,
   "metadata": {},
   "outputs": [],
   "source": [
    "%matplotlib inline"
   ]
  },
  {
   "cell_type": "code",
   "execution_count": 24,
   "metadata": {},
   "outputs": [],
   "source": [
    "import numpy as np\n",
    "from scipy import sparse\n",
    "import matplotlib.pyplot as plt\n",
    "import pygsp\n",
    "from pygsp import graphs, filters\n",
    "import networkx as nx\n",
    "import pickle\n",
    "import collections\n",
    "from numpy import linalg\n",
    "import os"
   ]
  },
  {
   "cell_type": "code",
   "execution_count": 3,
   "metadata": {},
   "outputs": [],
   "source": [
    "## data folders\n",
    "data_folder = '../data/'\n",
    "plots_folder = '../plots/'"
   ]
  },
  {
   "cell_type": "code",
   "execution_count": 4,
   "metadata": {},
   "outputs": [],
   "source": [
    "#import the three directed graphs: \n",
    "G_StephenHawking = nx.read_gpickle('../data/G_StephenHawking.gpickle')\n",
    "G_StanLee = nx.read_gpickle('../data/G_StanLee.gpickle')\n",
    "G_AlanRickman = nx.read_gpickle('../data/G_AlanRickman.gpickle')\n"
   ]
  },
  {
   "cell_type": "code",
   "execution_count": 5,
   "metadata": {},
   "outputs": [],
   "source": [
    "#make undirected versions\n",
    "G_StanLee_undir=G_StanLee.to_undirected()\n",
    "G_StephenHawking_undir=G_StephenHawking.to_undirected()\n",
    "G_AlanRickman_undir=G_AlanRickman.to_undirected()"
   ]
  },
  {
   "cell_type": "code",
   "execution_count": 6,
   "metadata": {},
   "outputs": [],
   "source": [
    "#Adjacency matrices of directed graphs\n",
    "A_StephenHawking = nx.adjacency_matrix(G_StephenHawking).todense()\n",
    "A_StanLee=nx.adjacency_matrix(G_StanLee).todense()\n",
    "A_AlanRickman = nx.adjacency_matrix(G_AlanRickman).todense()\n"
   ]
  },
  {
   "cell_type": "code",
   "execution_count": 7,
   "metadata": {},
   "outputs": [],
   "source": [
    "#Adjacency matrices of undirected graphs\n",
    "A_StephenHawking_undir = nx.adjacency_matrix(G_StephenHawking_undir).todense()\n",
    "A_StanLee_undir = nx.adjacency_matrix(G_StanLee_undir).todense()\n",
    "A_AlanRickman_undir = nx.adjacency_matrix(G_AlanRickman_undir).todense()"
   ]
  },
  {
   "cell_type": "code",
   "execution_count": 8,
   "metadata": {},
   "outputs": [],
   "source": [
    "Names= ['StephenHawking' ,'StanLee','AlanRickman']\n",
    "Graphs=[ G_StephenHawking, G_StanLee, G_AlanRickman]\n",
    "Graphs_undir =[ G_StephenHawking_undir,G_StanLee_undir, G_AlanRickman_undir]"
   ]
  },
  {
   "cell_type": "markdown",
   "metadata": {},
   "source": [
    "# Basic properties of the graphs\n"
   ]
  },
  {
   "cell_type": "markdown",
   "metadata": {},
   "source": [
    "We study basic properties of the graphs such as number of nodes, number of edges, strongly connectedness, the diameter, the average clustering coefficient and number of triangles or global clustering coefficient \n"
   ]
  },
  {
   "cell_type": "code",
   "execution_count": 9,
   "metadata": {},
   "outputs": [
    {
     "name": "stdout",
     "output_type": "stream",
     "text": [
      "The graph G_StephenHawking has 2701 nodes and 26921 edges \n",
      "The graph G_StanLee has 2701 nodes and 33469 edges \n",
      "The graph G_AlanRickman has 2701 nodes and 28012 edges \n"
     ]
    }
   ],
   "source": [
    "#Number of nodes and edges for each graphs \n",
    "for G, name in zip (Graphs, Names) :\n",
    "    print ('The graph G_{} has {} nodes and {} edges '. format( name, len(G.nodes),len(G.edges)))"
   ]
  },
  {
   "cell_type": "code",
   "execution_count": 10,
   "metadata": {},
   "outputs": [
    {
     "name": "stdout",
     "output_type": "stream",
     "text": [
      "The graph G_StephenHawking is not strongly connected\n",
      "The graph G_StanLee is not strongly connected\n",
      "The graph G_AlanRickman is not strongly connected\n"
     ]
    }
   ],
   "source": [
    "# Check if the graphs are strongly connected (if not, diameter=infinity)\n",
    "for G, name in zip (Graphs, Names) :\n",
    "    if nx.is_strongly_connected(G):\n",
    "        print('The graph G_{} is strongly connected and its diameter is {}'.format( name, nx.diameter(G)))\n",
    "    else: \n",
    "        print('The graph G_{} is not strongly connected'.format(name))\n",
    "  "
   ]
  },
  {
   "cell_type": "code",
   "execution_count": 11,
   "metadata": {},
   "outputs": [],
   "source": [
    "#return a list of nodes for the stronlgy connected components of a directed graph, how does this work??\n",
    "for G, n in zip(Graphs, Names):\n",
    "    strongcc=nx.strongly_connected_components(G)\n",
    "    "
   ]
  },
  {
   "cell_type": "code",
   "execution_count": 12,
   "metadata": {},
   "outputs": [
    {
     "name": "stdout",
     "output_type": "stream",
     "text": [
      "The graph G_StephenHawking has 51 strongly connect\n",
      "The graph G_StanLee has 55 strongly connect\n",
      "The graph G_AlanRickman has 55 strongly connect\n"
     ]
    }
   ],
   "source": [
    "for G, name in zip(Graphs,Names):\n",
    "    print('The graph G_{} has {} strongly connect'.format(name, nx.number_strongly_connected_components(G)))"
   ]
  },
  {
   "cell_type": "code",
   "execution_count": 13,
   "metadata": {},
   "outputs": [
    {
     "name": "stdout",
     "output_type": "stream",
     "text": [
      "The diameter of the undirected graph G_StephenHawking is 7\n",
      "The diameter of the undirected graph G_StanLee is 7\n",
      "The diameter of the undirected graph G_AlanRickman is 8\n"
     ]
    }
   ],
   "source": [
    "#compute the diameter of undirected graphs:\n",
    "for G, name in zip(Graphs_undir, Names) : \n",
    "    print('The diameter of the undirected graph G_{} is {}'.format(name, nx.diameter(G)))"
   ]
  },
  {
   "cell_type": "markdown",
   "metadata": {},
   "source": [
    "# Clustering coefficients and number of triangles"
   ]
  },
  {
   "cell_type": "code",
   "execution_count": 14,
   "metadata": {},
   "outputs": [
    {
     "name": "stdout",
     "output_type": "stream",
     "text": [
      "The graph G_StephenHawking has average clustering coefficient 0.13762486811289285\n",
      "The graph G_StanLee has average clustering coefficient 0.13116636151327363\n",
      "The graph G_AlanRickman has average clustering coefficient 0.12266346600193209\n"
     ]
    }
   ],
   "source": [
    "#compute average clustering coefficient: \n",
    "for G, name in zip(Graphs,Names):\n",
    "    print('The graph G_{} has average clustering coefficient {}'.format(name,nx.average_clustering(G)))\n"
   ]
  },
  {
   "cell_type": "code",
   "execution_count": 15,
   "metadata": {},
   "outputs": [],
   "source": [
    "#compute the number of triangles in each graph:\n",
    "T_StanLee=sum(nx.triangles(G_StanLee_undir).values())/3\n",
    "T_StephenHawking=sum(nx.triangles(G_StephenHawking_undir).values())/3\n",
    "T_AlanRickman=sum(nx.triangles(G_AlanRickman_undir).values())/3"
   ]
  },
  {
   "cell_type": "code",
   "execution_count": 16,
   "metadata": {},
   "outputs": [],
   "source": [
    "#compute number of 3-paths in the graphs:\n",
    "P3_SL=np.sum(np.linalg.matrix_power(A_StanLee,3))\n",
    "P3_SH=np.sum(np.linalg.matrix_power(A_StephenHawking,3))\n",
    "P3_AR=np.sum(np.linalg.matrix_power(A_AlanRickman,3))"
   ]
  },
  {
   "cell_type": "code",
   "execution_count": 17,
   "metadata": {},
   "outputs": [],
   "source": [
    "#compute global clustering coefficient of the graphs\n",
    "C_StanLee=T_StanLee/P3_SL\n",
    "C_StephenHawking=T_StephenHawking/P3_SH\n",
    "C_AlanRickman=T_AlanRickman/P3_AR"
   ]
  },
  {
   "cell_type": "code",
   "execution_count": 18,
   "metadata": {},
   "outputs": [
    {
     "name": "stdout",
     "output_type": "stream",
     "text": [
      "The graph G_StanLee has 60096 triangles and global clustering coefficient 0.003076009937657771\n",
      "The graph G_StephenHawking has 41973 triangles and global clustering coefficient 0.0028240297052965243\n",
      "The graph G_AlanRickman has 38076 triangles and global clustering coefficient 0.0028747681936903383\n"
     ]
    }
   ],
   "source": [
    "print('The graph G_StanLee has {} triangles and global clustering coefficient {}'. format(int(T_StanLee), C_StanLee))\n",
    "print('The graph G_StephenHawking has {} triangles and global clustering coefficient {}'. format(int(T_StephenHawking), C_StephenHawking))\n",
    "print('The graph G_AlanRickman has {} triangles and global clustering coefficient {}'. format(int(T_AlanRickman), C_AlanRickman))\n",
    "\n"
   ]
  },
  {
   "cell_type": "markdown",
   "metadata": {},
   "source": [
    "# Degree Distribution\n"
   ]
  },
  {
   "cell_type": "code",
   "execution_count": 19,
   "metadata": {},
   "outputs": [],
   "source": [
    "#plot the degree histograms  \n",
    "def plot_degree(G, name):\n",
    "    degree_sequence = sorted([d for n, d in G.in_degree()], reverse=True)  # degree sequence\n",
    "# print \"Degree sequence\", degree_sequence\n",
    "    degreeCount = collections.Counter(degree_sequence)\n",
    "    deg, cnt = zip(*degreeCount.items())\n",
    "\n",
    "    fig, ax = plt.subplots()\n",
    "    plt.bar(deg, cnt)\n",
    "    #width=0.80\n",
    "\n",
    "    plt.title(\"Total Degree Histogram for G_\"+name)\n",
    "    plt.ylabel(\"Count\")\n",
    "    plt.xlabel(\"Degree\")\n",
    "    plt.yscale('log')\n",
    "    #ax.set_xticks([d + 0.4 for d in deg])\n",
    "    #ax.set_xticklabels(deg)\n",
    "\n",
    "    plt.show()"
   ]
  },
  {
   "cell_type": "code",
   "execution_count": 20,
   "metadata": {},
   "outputs": [],
   "source": [
    " #plot the in-degree histograms of a directed graph \n",
    "def plot_in_degree(G, name):\n",
    "    degree_sequence = sorted([d for n, d in G.in_degree()], reverse=True)  # degree sequence\n",
    "# print \"Degree sequence\", degree_sequence\n",
    "    degreeCount = collections.Counter(degree_sequence)\n",
    "    deg, cnt = zip(*degreeCount.items())\n",
    "\n",
    "    fig, ax = plt.subplots()\n",
    "    plt.bar(deg, cnt)\n",
    "    #width=0.80\n",
    "\n",
    "    plt.title(\"In-Degree Histogram for G_\"+name)\n",
    "    plt.ylabel(\"Count\")\n",
    "    plt.xlabel(\"Degree\")\n",
    "    plt.yscale('log')\n",
    "    #ax.set_xticks([d + 0.4 for d in deg])\n",
    "    #ax.set_xticklabels(deg)\n",
    "\n",
    "    plt.show()"
   ]
  },
  {
   "cell_type": "code",
   "execution_count": 39,
   "metadata": {},
   "outputs": [],
   "source": [
    "#plot the out-degree histograms of a directed graph \n",
    "def plot_out_degree(G, name):\n",
    "    degree_sequence = sorted([d for n, d in G.out_degree()], reverse=True)  # degree sequence\n",
    "# print \"Degree sequence\", degree_sequence\n",
    "    degreeCount = collections.Counter(degree_sequence)\n",
    "    deg, cnt = zip(*degreeCount.items())\n",
    "\n",
    "    fig, ax = plt.subplots()\n",
    "    plt.bar(deg, cnt)\n",
    " \n",
    "    plt.title(\"Out-Degree Histogram for G_\"+name)\n",
    "    plt.ylabel(\"Count\")\n",
    "    plt.xlabel(\"Degree\")\n",
    "    plt.yscale('log')\n",
    "   \n",
    "    plt.show()"
   ]
  },
  {
   "cell_type": "code",
   "execution_count": 43,
   "metadata": {},
   "outputs": [
    {
     "data": {
      "image/png": "[encoded data removed]",
      "text/plain": [
       "<Figure size 432x288 with 1 Axes>"
      ]
     },
     "metadata": {
      "needs_background": "light"
     },
     "output_type": "display_data"
    },
    {
     "data": {
      "image/png": "[encoded data removed]",
      "text/plain": [
       "<Figure size 432x288 with 1 Axes>"
      ]
     },
     "metadata": {
      "needs_background": "light"
     },
     "output_type": "display_data"
    },
    {
     "data": {
      "image/png": "[encoded data removed]",
      "text/plain": [
       "<Figure size 432x288 with 1 Axes>"
      ]
     },
     "metadata": {
      "needs_background": "light"
     },
     "output_type": "display_data"
    }
   ],
   "source": [
    "#Plot the degree histograms for the graphs\n",
    "for  G, name in zip(Graphs,Names): \n",
    "    plot_degree(G, name)\n"
   ]
  },
  {
   "cell_type": "code",
   "execution_count": 35,
   "metadata": {},
   "outputs": [
    {
     "data": {
      "image/png": "[encoded data removed]",
      "text/plain": [
       "<Figure size 432x288 with 1 Axes>"
      ]
     },
     "metadata": {
      "needs_background": "light"
     },
     "output_type": "display_data"
    },
    {
     "data": {
      "image/png": "[encoded data removed]",
      "text/plain": [
       "<Figure size 432x288 with 1 Axes>"
      ]
     },
     "metadata": {
      "needs_background": "light"
     },
     "output_type": "display_data"
    },
    {
     "data": {
      "image/png": "[encoded data removed]",
      "text/plain": [
       "<Figure size 432x288 with 1 Axes>"
      ]
     },
     "metadata": {
      "needs_background": "light"
     },
     "output_type": "display_data"
    }
   ],
   "source": [
    "for G, name in zip(Graphs, Names):\n",
    "    plot_degree(G,name)\n"
   ]
  },
  {
   "cell_type": "code",
   "execution_count": null,
   "metadata": {},
   "outputs": [],
   "source": [
    "#plot in-degrees fot the graphs\n",
    "for G,name in zip(Graphs,Names): \n",
    "    plot_in_degree(G,name)"
   ]
  },
  {
   "cell_type": "code",
   "execution_count": null,
   "metadata": {},
   "outputs": [],
   "source": [
    "#Plot the out-degree histograms of the graphs\n",
    "for G, name in zip(Graphs,Names): \n",
    "    plot_out_degree(G,name)\n",
    " "
   ]
  },
  {
   "cell_type": "code",
   "execution_count": null,
   "metadata": {},
   "outputs": [],
   "source": [
    "def plot_distribution(degree):\n",
    "    '''\n",
    "    degree list: the list of node degrees\n",
    "    network_type: string used for plotting the title\n",
    "    '''\n",
    "    fig = plt.figure()\n",
    "    ax = plt.gca()\n",
    "    bins = min(int(np.max(degree) - np.min(degree)), 100)\n",
    "    a = plt.hist(degree, bins=bins, density=True)\n",
    "    #log = True\n",
    "    plt.xlabel('Degree')\n",
    "    plt.ylabel('Probability of node having degree k')\n",
    "    plt.title('Degree distribution for ')"
   ]
  }
 ],
 "metadata": {
  "kernelspec": {
   "display_name": "Python 3",
   "language": "python",
   "name": "python3"
  },
  "language_info": {
   "codemirror_mode": {
    "name": "ipython",
    "version": 3
   },
   "file_extension": ".py",
   "mimetype": "text/x-python",
   "name": "python",
   "nbconvert_exporter": "python",
   "pygments_lexer": "ipython3",
   "version": "3.6.6"
  }
 },
 "nbformat": 4,
 "nbformat_minor": 2
}
