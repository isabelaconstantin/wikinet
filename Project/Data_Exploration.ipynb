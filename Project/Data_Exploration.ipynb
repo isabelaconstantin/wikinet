{
 "cells": [
  {
   "cell_type": "code",
   "execution_count": 1,
   "metadata": {},
   "outputs": [],
   "source": [
    "%matplotlib inline"
   ]
  },
  {
   "cell_type": "code",
   "execution_count": 2,
   "metadata": {},
   "outputs": [],
   "source": [
    "import numpy as np\n",
    "from scipy import sparse\n",
    "import matplotlib.pyplot as plt\n",
    "import pygsp\n",
    "from pygsp import graphs, filters\n",
    "import networkx as nx\n",
    "import pickle\n",
    "import collections"
   ]
  },
  {
   "cell_type": "code",
   "execution_count": 3,
   "metadata": {},
   "outputs": [],
   "source": [
    "#import graphs: \n",
    "Gnx = nx.read_gpickle('graph.gpickle')"
   ]
  },
  {
   "cell_type": "code",
   "execution_count": 5,
   "metadata": {},
   "outputs": [],
   "source": [
    "#stupid examples \n",
    "A_1 = np.array([[0, 1, 1, 0, 1, 0],\n",
    "       [1, 0, 1, 1, 0, 1],\n",
    "       [1, 1, 0, 0, 1, 0],\n",
    "       [0, 1, 0, 0, 1, 0],\n",
    "       [1, 0, 1, 1, 0, 1],\n",
    "       [0, 1, 0, 0, 1, 0]])"
   ]
  },
  {
   "cell_type": "code",
   "execution_count": 6,
   "metadata": {},
   "outputs": [],
   "source": [
    "A_4 = np.array([[0,1,0],[0,0,0],[0,1,0]])"
   ]
  },
  {
   "cell_type": "code",
   "execution_count": 7,
   "metadata": {},
   "outputs": [],
   "source": [
    "A_5=np.array([[0,1],[0,0]])"
   ]
  },
  {
   "cell_type": "code",
   "execution_count": 8,
   "metadata": {},
   "outputs": [],
   "source": [
    "G_1=nx.DiGraph(A_1)\n",
    "G_2=nx.from_numpy_matrix(A_1)\n",
    "G_3=nx.from_numpy_matrix(A_1)\n",
    "G_4=nx.from_numpy_matrix(A_4)\n",
    "G_5=nx.from_numpy_matrix(A_5)"
   ]
  },
  {
   "cell_type": "code",
   "execution_count": 9,
   "metadata": {},
   "outputs": [],
   "source": [
    "Graphs=[G_1,G_2,G_3,G_4,G_5]"
   ]
  },
  {
   "cell_type": "code",
   "execution_count": 10,
   "metadata": {},
   "outputs": [],
   "source": [
    "G_5=nx.DiGraph(A_5)"
   ]
  },
  {
   "cell_type": "code",
   "execution_count": 11,
   "metadata": {},
   "outputs": [
    {
     "data": {
      "text/plain": [
       "1"
      ]
     },
     "execution_count": 11,
     "metadata": {},
     "output_type": "execute_result"
    }
   ],
   "source": [
    "len(G_5.edges)"
   ]
  },
  {
   "cell_type": "code",
   "execution_count": 4,
   "metadata": {},
   "outputs": [],
   "source": [
    "Graphs=[Gnx]"
   ]
  },
  {
   "cell_type": "code",
   "execution_count": 13,
   "metadata": {},
   "outputs": [],
   "source": [
    "Gnx_undir=Gnx.to_undirected()"
   ]
  },
  {
   "cell_type": "markdown",
   "metadata": {},
   "source": [
    "# Is Missing: Extract strongly connectected components, Number of triangles? "
   ]
  },
  {
   "cell_type": "markdown",
   "metadata": {},
   "source": [
    "# Basic properties of the graphs\n"
   ]
  },
  {
   "cell_type": "markdown",
   "metadata": {},
   "source": [
    "We study basic properties of the graph such as number of nodes, number of edges, strongly connectedness, the diameter and the average clustering coefficient"
   ]
  },
  {
   "cell_type": "code",
   "execution_count": 6,
   "metadata": {},
   "outputs": [
    {
     "name": "stdout",
     "output_type": "stream",
     "text": [
      "The graph G_1 has 500 nodes and 5675 edges \n"
     ]
    }
   ],
   "source": [
    "i=1\n",
    "for G in Graphs: \n",
    "    print ('The graph G_{} has {} nodes and {} edges '. format(i, len(G.nodes),len(G.edges)))\n",
    "    i+=1"
   ]
  },
  {
   "cell_type": "code",
   "execution_count": 7,
   "metadata": {},
   "outputs": [
    {
     "name": "stdout",
     "output_type": "stream",
     "text": [
      "The graph G_1 is not strongly connected\n"
     ]
    }
   ],
   "source": [
    "# Check if the graph is strongly connected (if not, diameter=infinity)\n",
    "i=1\n",
    "for G in Graphs :\n",
    "    if nx.is_strongly_connected(G):\n",
    "        print('The graph G_{} is strongly connected and its diameter is {}'.format(i, nx.diameter(G)))\n",
    "    else: \n",
    "        print('The graph G_{} is not strongly connected'.format(i))\n",
    "    i=1+1"
   ]
  },
  {
   "cell_type": "code",
   "execution_count": 8,
   "metadata": {},
   "outputs": [],
   "source": [
    "#return a list of nodes for the stronlgy connected components of a directed graph, how does this work??\n",
    "strongcc=nx.strongly_connected_components(Gnx)"
   ]
  },
  {
   "cell_type": "code",
   "execution_count": 9,
   "metadata": {},
   "outputs": [
    {
     "data": {
      "text/plain": [
       "<generator object strongly_connected_components at 0x1a1dbf68e0>"
      ]
     },
     "execution_count": 9,
     "metadata": {},
     "output_type": "execute_result"
    }
   ],
   "source": [
    "strongcc"
   ]
  },
  {
   "cell_type": "code",
   "execution_count": 10,
   "metadata": {},
   "outputs": [
    {
     "name": "stdout",
     "output_type": "stream",
     "text": [
      "The diameter of the undirected graph G_1 is 4\n"
     ]
    }
   ],
   "source": [
    "#compute the diameter of undirected graphs:\n",
    "i=1\n",
    "for G in Graphs: \n",
    "    G_undir=G.to_undirected()\n",
    "    print('The diameter of the undirected graph G_{} is {}'.format(i, nx.diameter(G_undir)))\n",
    "    i+=1"
   ]
  },
  {
   "cell_type": "code",
   "execution_count": 11,
   "metadata": {},
   "outputs": [
    {
     "name": "stdout",
     "output_type": "stream",
     "text": [
      "The graph G_1 has average clustering coefficient 0.25431729090180444\n"
     ]
    }
   ],
   "source": [
    "#compute average clustering coefficient: \n",
    "i=1\n",
    "for G in Graphs:\n",
    "    print('The graph G_{} has average clustering coefficient {}'.format(i,nx.average_clustering(G)))\n",
    "    i=i+1"
   ]
  },
  {
   "cell_type": "code",
   "execution_count": 14,
   "metadata": {},
   "outputs": [
    {
     "data": {
      "text/plain": [
       "{'Stan Lee': 2083,\n",
       " 'Dan Goodwin': 11,\n",
       " 'What If (comics)': 279,\n",
       " \"Comics Buyer's Guide\": 347,\n",
       " 'Robert Bernstein (comics)': 173,\n",
       " 'Horror comics': 278,\n",
       " 'Disney Legends': 1,\n",
       " 'French New Wave': 9,\n",
       " 'Marvel Cinematic Universe': 390,\n",
       " 'Larry Lieber': 309,\n",
       " 'Atlas Comics (1950s)': 485,\n",
       " 'Google Books': 31,\n",
       " 'Marvel Comics#Editors-in-chief': 485,\n",
       " 'Don Heck': 504,\n",
       " 'Joe Kubert': 261,\n",
       " 'Carnegie Hall': 34,\n",
       " 'Hank Pym': 232,\n",
       " 'Secret Files and Origins': 133,\n",
       " 'Marvel Legends': 270,\n",
       " 'action figure': 28,\n",
       " 'Archie Goodwin (comics)': 370,\n",
       " 'Epic Illustrated': 120,\n",
       " 'The A.V. Club': 39,\n",
       " 'United States Army': 52,\n",
       " 'George W. Bush': 144,\n",
       " 'executive producer': 4,\n",
       " 'Marie Wilson (American actress)': 6,\n",
       " 'Bonnie Burton': 3,\n",
       " 'Kyle Baker': 242,\n",
       " 'Long Island': 160,\n",
       " 'Marvel Universe': 592,\n",
       " 'Silver Surfer': 289,\n",
       " 'Kevin Maguire (artist)': 34,\n",
       " 'Joe Simon': 233,\n",
       " 'KTTV': 2,\n",
       " 'Justice League': 454,\n",
       " 'Amazing Heroes': 39,\n",
       " 'The Galactus Trilogy': 86,\n",
       " 'Peter David': 352,\n",
       " 'Washington Heights, Manhattan': 31,\n",
       " 'Mark Ruffalo': 32,\n",
       " 'Gene Colan': 732,\n",
       " 'Jim Lee': 268,\n",
       " 'Dick Ayers': 372,\n",
       " 'DC Comics Presents': 166,\n",
       " 'Keith Pollard': 92,\n",
       " 'List of American comics creators': 423,\n",
       " 'Jerry Ordway': 370,\n",
       " 'ABC News': 70,\n",
       " 'The Washington Post': 118,\n",
       " 'Superman': 681,\n",
       " 'Running Press': 108,\n",
       " 'The Hollywood Reporter': 174,\n",
       " 'Robbie Robertson (comics)': 20,\n",
       " 'Black Panther (comics)': 388,\n",
       " 'Jessica Jones': 90,\n",
       " 'National Academy of Video Game Trade Reviewers': 0,\n",
       " 'Playbill': 11,\n",
       " 'condominium': 3,\n",
       " 'Comic strip': 11,\n",
       " 'The Amazing Spider-Man (comic strip)': 27,\n",
       " 'Catwoman': 108,\n",
       " 'Flash (comics)': 126,\n",
       " 'Luke Cage': 232,\n",
       " 'Tales to Astonish': 307,\n",
       " 'U.S.A. Comics': 19,\n",
       " 'List of pseudonyms': 33,\n",
       " 'Joss Whedon': 87,\n",
       " 'Library Journal': 0,\n",
       " 'Detective Comics': 362,\n",
       " 'Newsday': 39,\n",
       " 'Just Imagine...': 98,\n",
       " 'Dave Gibbons': 129,\n",
       " 'MSNBC': 62,\n",
       " 'Marvel Adventures Spider-Man': 18,\n",
       " 'Bones (studio)': 0,\n",
       " 'President of the United States': 92,\n",
       " 'IGN': 223,\n",
       " 'Federal Theatre Project': 4,\n",
       " 'Human Torch': 182,\n",
       " 'elder abuse': 0,\n",
       " 'The New York Times': 734,\n",
       " 'Gary Friedrich': 134,\n",
       " 'The Avengers (comic book)': 276,\n",
       " 'The Comics Journal': 410,\n",
       " 'Inhumans': 271,\n",
       " 'DC Comics': 1729,\n",
       " 'news agency': 0,\n",
       " 'Comic Book Resources': 799,\n",
       " 'graphic novel': 338,\n",
       " 'Steve Ditko': 811,\n",
       " 'Marvel Comics': 2146,\n",
       " 'funny animal': 43,\n",
       " 'Daredevil (Marvel Comics character)': 297,\n",
       " 'Challengers of the Unknown': 43,\n",
       " 'Captain America (1990 film)': 13,\n",
       " 'Stripperella': 2,\n",
       " 'Joe Maneely': 174,\n",
       " 'Roy Thomas': 821,\n",
       " 'Walt Simonson': 244,\n",
       " 'Producers Guild of America': 3,\n",
       " 'San Diego Comic-Con': 249,\n",
       " 'Works Progress Administration': 3,\n",
       " 'Errol Flynn': 3,\n",
       " 'China Central Television': 0,\n",
       " 'Iron Man (2008 film)': 86,\n",
       " 'Moviefone': 3,\n",
       " 'Cedars-Sinai Medical Center': 2,\n",
       " 'Robert Greenberger': 108,\n",
       " 'Adrianne Curry': 1,\n",
       " 'Hiroyuki Takei': 0,\n",
       " 'Doctor Doom': 539,\n",
       " 'Alex Ross': 239,\n",
       " 'Karen Page': 22,\n",
       " 'superhero': 1187,\n",
       " '100 Greatest Marvels of All Time': 131,\n",
       " 'Hugo Award': 13,\n",
       " 'Mystic Comics': 62,\n",
       " 'Namor': 423,\n",
       " 'Generation X (comics)': 8,\n",
       " 'Abrams Books': 202,\n",
       " 'Mister Fantastic': 210,\n",
       " 'Web of Spider-Man': 39,\n",
       " 'The Daily Telegraph': 14,\n",
       " 'Chris Bachalo': 26,\n",
       " '2009 Scream Awards': 0,\n",
       " 'New York Herald Tribune': 11,\n",
       " 'JLA (comic book)': 48,\n",
       " 'John Byrne (comics)': 545,\n",
       " 'Lavie Tidhar': 0,\n",
       " 'World Trade Center (1973–2001)': 32,\n",
       " '1993 World Trade Center bombing': 14,\n",
       " 'United States': 382,\n",
       " 'Oregon': 8,\n",
       " 'Memorial Day': 5,\n",
       " 'Richard Bass': 1,\n",
       " 'Not Brand Echh#Legacy': 83,\n",
       " 'Joe Sinnott': 429,\n",
       " 'Age of Ultron': 81,\n",
       " 'What The--?!': 99,\n",
       " 'Cold War': 68,\n",
       " \"Shi'ar\": 34,\n",
       " 'Phil Coulson': 53,\n",
       " 'Daisy Johnson': 60,\n",
       " 'Galactus': 261,\n",
       " 'Jimmy Palmiotti': 71,\n",
       " 'Holden Radcliffe': 8,\n",
       " 'Spider-Girl': 7,\n",
       " 'Thanos': 255,\n",
       " \"Rocket's Blast Comicollector\": 15,\n",
       " 'Tony Isabella': 182,\n",
       " 'Maggie Thompson': 13,\n",
       " 'comic book': 905,\n",
       " 'tabloid (newspaper format)': 2,\n",
       " 'John Jackson Miller': 5,\n",
       " 'Alex Toth': 86,\n",
       " 'George Papp': 27,\n",
       " 'Jerry Siegel': 71,\n",
       " 'Supergirl (Kara Zor-El)': 77,\n",
       " 'Aquagirl#Lisa Morel': 1,\n",
       " 'Star Spangled War Stories': 24,\n",
       " 'The Shadow': 97,\n",
       " 'Green Arrow': 145,\n",
       " 'EC Comics': 150,\n",
       " 'impresario': 2,\n",
       " 'Jack Kirby': 1370,\n",
       " 'Iron Man': 788,\n",
       " 'Edmond Hamilton': 11,\n",
       " 'East Farmingdale, New York': 0,\n",
       " 'Strange Tales': 363,\n",
       " 'Delray Beach, Florida': 1,\n",
       " 'Death Rattle (comics)': 8,\n",
       " 'science fiction': 101,\n",
       " 'The Haunt of Fear': 9,\n",
       " 'The Whistler': 1,\n",
       " 'Eclipse Comics': 98,\n",
       " 'Fawcett Publications': 5,\n",
       " 'comics anthology': 55,\n",
       " 'horror film': 5,\n",
       " 'Eagle (British comics)': 0,\n",
       " 'Time (magazine)': 109,\n",
       " 'Josei manga': 0,\n",
       " '1993 in comics': 71,\n",
       " 'Ghosts (comics)': 12,\n",
       " 'Neil Gaiman': 162,\n",
       " 'Blade (comics)': 72,\n",
       " 'Richard Corben': 16,\n",
       " 'Kathryn Beaumont': 0,\n",
       " 'John Lounsbery': 0,\n",
       " 'Oprah Winfrey': 19,\n",
       " 'Peter Jennings': 39,\n",
       " 'Richard Fleischer': 6,\n",
       " 'Adriana Caselotti': 0,\n",
       " 'Glen Keane': 0,\n",
       " 'New German Cinema': 0,\n",
       " 'Philippe Garrel': 0,\n",
       " 'Alfred Hitchcock': 6,\n",
       " 'Andrew Sarris': 6,\n",
       " 'Stéphane Audran': 3,\n",
       " 'Roger Vadim': 3,\n",
       " 'iconoclasm': 1,\n",
       " 'Film noir': 6,\n",
       " 'Brigitte Bardot': 5,\n",
       " 'Jean-Louis Trintignant': 5,\n",
       " 'Cinema of Portugal#1960s.E2.80.931970s': 0,\n",
       " 'Ben Karlin': 4,\n",
       " 'Polygon (website)': 8,\n",
       " 'CNET': 30,\n",
       " 'Tomorrowland#Disneyland (California)': 0,\n",
       " 'Super Bowl 50': 1,\n",
       " 'Doctor Strange (2016 film)': 55,\n",
       " 'Hydra (comics)': 100,\n",
       " 'GameStop': 0,\n",
       " 'Windows Phone 8': 3,\n",
       " 'Liquid Entertainment': 1,\n",
       " 'Microsoft Windows': 7,\n",
       " 'Runaways (TV series)': 28,\n",
       " 'Amy Pascal': 6,\n",
       " 'Bloomberg L.P.': 11,\n",
       " 'FedEx': 1,\n",
       " 'William Sadler (actor)': 1,\n",
       " 'Dave Bautista': 5,\n",
       " 'Drax the Destroyer': 43,\n",
       " 'Adrianne Palicki': 4,\n",
       " 'High Noon': 2,\n",
       " 'Mjolnir (comics)': 99,\n",
       " 'Balder (comics)': 21,\n",
       " 'Art Students League of New York': 1,\n",
       " 'Bill Finger Award': 27,\n",
       " 'Brooklyn': 140,\n",
       " 'Wizard (Marvel Comics)': 67,\n",
       " 'Don Rico': 146,\n",
       " 'Atlas Comics (1950s)#Superhero': 387,\n",
       " 'Ringo Kid': 60,\n",
       " 'Michigan State University Libraries': 8,\n",
       " 'New Jersey': 101,\n",
       " 'Pinky Lee': 7,\n",
       " 'Gerard Jones': 57,\n",
       " 'Atlas Comics (1950s)#Misc.': 387,\n",
       " 'Atlas Comics (1950s)#Hero': 387,\n",
       " 'Humour': 6,\n",
       " 'Christopher Rule': 136,\n",
       " 'Jungle Tales': 41,\n",
       " 'The Phil Silvers Show': 24,\n",
       " 'Alter Ego (magazine)': 242,\n",
       " 'Cornell University Library': 3,\n",
       " 'Google': 41,\n",
       " 'Austrian National Library': 0,\n",
       " 'Runivers': 1,\n",
       " 'Project Gutenberg': 2,\n",
       " 'web crawler': 5,\n",
       " 'Sundance Film Festival': 6,\n",
       " 'Microsoft': 35,\n",
       " 'ReCAPTCHA': 7,\n",
       " 'American Broadcasting Company': 143,\n",
       " 'Marvel Knights': 88,\n",
       " 'application software': 0,\n",
       " 'Blade (film)': 25,\n",
       " 'Captain Marvel (Marvel Comics)': 186,\n",
       " 'Marv Wolfman': 562,\n",
       " 'Pocket Books': 21,\n",
       " 'horror fiction': 75,\n",
       " 'The Tomb of Dracula': 125,\n",
       " 'Viacom': 21,\n",
       " 'spy fiction': 9,\n",
       " 'The Amazing Adventures of Spider-Man': 5,\n",
       " 'Jack Liebowitz': 98,\n",
       " 'Outsourcing': 0,\n",
       " 'Marvel Super-Heroes (comics)#Other iterations': 136,\n",
       " 'John Romita Sr.': 605,\n",
       " 'Mandarin (comics)': 113,\n",
       " 'Queens': 75,\n",
       " 'Tales of Suspense': 312,\n",
       " 'Fantastic Four': 988,\n",
       " 'Carmine Infantino': 352,\n",
       " 'Chamber of Darkness': 105,\n",
       " 'Harvey Comics': 52,\n",
       " 'Pete Morisi': 52,\n",
       " 'annual publication': 38,\n",
       " 'Wonder Woman': 463,\n",
       " 'The Flash (comic book)': 73,\n",
       " 'inker': 308,\n",
       " 'Wonder Man': 103,\n",
       " 'Journey into Mystery': 346,\n",
       " 'Woodrow Wilson': 8,\n",
       " 'Army of Republika Srpska': 0,\n",
       " 'USS Stevens (DD-479)#In comic books': 3,\n",
       " 'Amanda Conner': 63,\n",
       " 'Two-Fisted Tales': 12,\n",
       " 'Haunted Tank': 26,\n",
       " 'More Fun Comics': 41,\n",
       " 'Second Polish Republic': 0,\n",
       " 'Gardner Fox': 198,\n",
       " 'Tex Willer': 1,\n",
       " 'Marvel Tales': 230,\n",
       " 'Craig Yoe': 7,\n",
       " \"Limited Collectors' Edition\": 72,\n",
       " 'Weird Worlds (comics)': 8,\n",
       " 'Harvey Award#The Jack Kirby Hall of Fame': 2,\n",
       " 'Big Apple Comic Con': 81,\n",
       " 'Archie Comics': 210,\n",
       " 'Stephen R. Bissette': 46,\n",
       " 'Paul Levitz': 218,\n",
       " 'Led Zeppelin': 0,\n",
       " 'Dunfermline': 6,\n",
       " 'Andrew Carnegie': 17,\n",
       " 'Filippo Brunelleschi': 0,\n",
       " 'Carnegie Hall, Inc.': 6,\n",
       " 'Carnegie Free Library of Braddock': 3,\n",
       " 'planetarium': 7,\n",
       " 'National Park Service': 15,\n",
       " 'American Museum of Natural History': 14,\n",
       " 'Carnegie Museums of Pittsburgh': 1,\n",
       " 'National Register of Historic Places listings in Manhattan from 14th to 59th Streets': 1,\n",
       " 'List of concert halls': 2,\n",
       " 'artificial intelligence': 21,\n",
       " 'Camp Hammond (comics)': 1,\n",
       " 'The Avengers: United They Stand': 22,\n",
       " 'Goliath (Marvel Comics)': 56,\n",
       " 'Disney XD': 6,\n",
       " 'court-martial': 0,\n",
       " 'John Payne (voice actor)': 0,\n",
       " 'Gotham City': 101,\n",
       " 'Doctor Alchemy': 3,\n",
       " 'Guardian (DC Comics)': 45,\n",
       " 'Sonar (comics)#Successor': 7,\n",
       " 'Fury (DC Comics)#Helena Kosmatos': 27,\n",
       " 'Mister Miracle': 51,\n",
       " 'Prankster (comics)': 12,\n",
       " 'List of Batman supporting characters': 72,\n",
       " 'Green Lantern: Circle of Fire': 34,\n",
       " 'Superman Red/Superman Blue': 8,\n",
       " 'Our Worlds at War': 28,\n",
       " 'Clayface': 62,\n",
       " 'Green Arrow (Connor Hawke)': 21,\n",
       " 'Skullbuster': 4,\n",
       " 'Havok (comics)': 23,\n",
       " 'The Wolverine (film)': 20,\n",
       " 'Claire Temple (Marvel Cinematic Universe)': 33,\n",
       " 'Shuri (comics)': 41,\n",
       " 'Magneto (comics)': 194,\n",
       " 'Jigsaw (Marvel Comics)': 24,\n",
       " 'Dreadknight': 20,\n",
       " 'Toxin (comics)': 7,\n",
       " 'Norman Osborn': 264,\n",
       " 'Ball-jointed doll': 0,\n",
       " 'Mattel': 23,\n",
       " 'National Entertainment Collectibles Association': 8,\n",
       " 'marketing': 1,\n",
       " 'Toy Biz': 29,\n",
       " 'Phosphorescence': 0,\n",
       " 'Captain Power and the Soldiers of the Future': 2,\n",
       " 'film': 12,\n",
       " '1:6 scale modeling': 1,\n",
       " 'ToyFare': 21,\n",
       " 'thermochromism': 0,\n",
       " 'Jean Giraud': 56,\n",
       " 'Scott Hampton': 5,\n",
       " 'Cerebus the Aardvark': 57,\n",
       " 'comic strip': 126,\n",
       " 'Our Fighting Forces': 15,\n",
       " 'Gerry Conway': 489,\n",
       " 'Bob Clampett': 3,\n",
       " 'Akira (manga)': 4,\n",
       " 'Tulsa, Oklahoma': 2,\n",
       " 'Iron Man and Sub-Mariner': 55,\n",
       " 'Controller (Marvel Comics)': 22,\n",
       " 'The Amazing Spider-Man': 438,\n",
       " 'work for hire': 7,\n",
       " 'Barry Windsor-Smith': 136,\n",
       " 'Comics Code Authority': 193,\n",
       " 'Elric of Melniboné': 27,\n",
       " 'Dave Sim': 37,\n",
       " 'Terry Austin (comics)': 107,\n",
       " 'Bernie Wrightson': 126,\n",
       " 'Ken Steacy': 8,\n",
       " 'Heavy Metal (magazine)': 27,\n",
       " 'Carl Potts': 44,\n",
       " 'List of comics solicited but never published': 296,\n",
       " 'Wolfgang Amadeus Phoenix': 0,\n",
       " 'The People v. O. J. Simpson: American Crime Story': 4,\n",
       " 'My Beautiful Dark Twisted Fantasy': 7,\n",
       " 'The Onion': 25,\n",
       " 'Civilian (Wye Oak album)': 0,\n",
       " 'Richard Linklater': 0,\n",
       " 'The Hold Steady': 2,\n",
       " 'David Bowie': 24,\n",
       " 'David Cook (singer)': 4,\n",
       " 'popular culture': 8,\n",
       " 'Twitter': 98,\n",
       " 'The Hurt Locker': 6,\n",
       " 'Wil Wheaton': 3,\n",
       " 'The Walkmen': 3,\n",
       " 'Children of Men': 4,\n",
       " 'No Country for Old Men (film)': 8,\n",
       " 'Frank Ocean': 12,\n",
       " 'TV on the Radio': 3,\n",
       " 'Kendrick Lamar': 12,\n",
       " 'American Idol': 9,\n",
       " 'Invasion of Kuwait': 2,\n",
       " 'M2010 Enhanced Sniper Rifle': 0,\n",
       " 'Daniel A. Dailey': 0,\n",
       " 'Spain': 26,\n",
       " '100th Infantry Battalion (United States)': 2,\n",
       " 'Battle of Medina Ridge': 0,\n",
       " 'Smoke grenade': 0,\n",
       " 'Al-Qaeda': 57,\n",
       " 'Battle of Gettysburg': 4,\n",
       " '19th Special Forces Group': 0,\n",
       " '36th Infantry Division (United States)': 2,\n",
       " 'Structure of the United States Army#Branches and Functional Areas': 3,\n",
       " 'Fort Bragg': 3,\n",
       " 'Chairman of the Joint Chiefs of Staff': 2,\n",
       " 'George Tenet': 23,\n",
       " 'Red Square': 0,\n",
       " 'Social Security debate in the United States': 1,\n",
       " 'Osama bin Laden': 34,\n",
       " 'unlawful combatant': 8,\n",
       " 'Pope John Paul II': 34,\n",
       " \"Unite the Right rally#President Trump's statements\": 37,\n",
       " 'Adam McKay': 1,\n",
       " 'disarmament': 1,\n",
       " 'Rick Perry': 10,\n",
       " 'cause célèbre': 0,\n",
       " 'Benjamin K. Sovacool': 0,\n",
       " 'Great Recession': 10,\n",
       " 'Guantanamo Bay detention camp': 19,\n",
       " 'List of George W. Bush legislation and programs': 0,\n",
       " 'Xinhua News Agency': 10,\n",
       " 'executive order': 5,\n",
       " 'The Colbert Report': 60,\n",
       " 'Yoweri Museveni': 1,\n",
       " 'film producer': 1,\n",
       " 'Ryan Murphy (writer)': 4,\n",
       " 'video game developer': 2,\n",
       " 'session musician': 0,\n",
       " 'management accounting': 0,\n",
       " 'NBA 2K13': 1,\n",
       " 'Stephen J. Cannell': 0,\n",
       " 'law': 1,\n",
       " 'entertainment': 5,\n",
       " 'Film budgeting': 0,\n",
       " 'media (communication)': 1,\n",
       " 'copyright': 12,\n",
       " 'Jay-Z': 39,\n",
       " 'BBC News': 36,\n",
       " 'funding': 0,\n",
       " 'Abingdon-on-Thames': 0,\n",
       " 'Carroll & Graf Publishers': 2,\n",
       " 'Jean Yarbrough': 0,\n",
       " 'Jerry Lewis': 22,\n",
       " 'Victor Herbert': 1,\n",
       " 'William A. Seiter': 1,\n",
       " '1946 in film': 0,\n",
       " 'Alfred E. Green': 0,\n",
       " '1952 in film': 2,\n",
       " 'Clem McCarthy': 2,\n",
       " 'China Clipper (1936 film)': 0,\n",
       " 'David Butler (director)': 0,\n",
       " 'Brendan Coyle': 0,\n",
       " 'Ewok': 0,\n",
       " 'SF Sketchfest': 1,\n",
       " 'MTV': 77,\n",
       " 'Craft (magazine)': 0,\n",
       " 'Tegan and Sara': 0,\n",
       " 'TableTop (web series)': 2,\n",
       " 'Grant Imahara': 1,\n",
       " 'National Lampoon (magazine)': 10,\n",
       " 'Golden Age of Comic Books': 276,\n",
       " 'New York (state)': 191,\n",
       " 'Scott Beatty': 44,\n",
       " 'Esquire (magazine)': 20,\n",
       " 'New York (magazine)': 43,\n",
       " 'B.C. (comic strip)': 4,\n",
       " 'Through the Looking-Glass': 0,\n",
       " 'Reginald Hudlin': 32,\n",
       " 'Alan Moore': 349,\n",
       " 'pulp magazine': 72,\n",
       " 'Crown Publishing Group': 5,\n",
       " 'Doubleday (publisher)': 7,\n",
       " 'Long Beach, New York#Long Beach Barrier Island': 10,\n",
       " 'Matt Serra': 1,\n",
       " 'Irish Americans in New York City': 13,\n",
       " 'Huntington, New York': 6,\n",
       " 'Putnam County, New York': 8,\n",
       " 'New York Lizards': 0,\n",
       " 'List of New York state parks': 3,\n",
       " 'MCU Park': 17,\n",
       " 'the Bronx': 31,\n",
       " 'List of islands by area': 1,\n",
       " 'engineering': 6,\n",
       " 'WLIR': 6,\n",
       " 'Los Angeles Dodgers': 20,\n",
       " 'Arthur Ashe Stadium': 6,\n",
       " 'Colleen Wing': 23,\n",
       " 'New York City': 607,\n",
       " 'The Punisher (2004 series)': 27,\n",
       " 'Young Allies (Marvel Comics)#Heroic Age': 46,\n",
       " 'Marvel Mangaverse': 85,\n",
       " 'Carol Danvers': 212}"
      ]
     },
     "execution_count": 14,
     "metadata": {},
     "output_type": "execute_result"
    }
   ],
   "source": [
    "#compute the number of triangles\n",
    "nx.triangles(Gnx_undir)"
   ]
  },
  {
   "cell_type": "markdown",
   "metadata": {},
   "source": [
    "# Degree Distribution\n"
   ]
  },
  {
   "cell_type": "markdown",
   "metadata": {},
   "source": [
    "question: as the graph is directed: do we compute the in-degree, out-degree or total degree?\n"
   ]
  },
  {
   "cell_type": "code",
   "execution_count": 19,
   "metadata": {},
   "outputs": [],
   "source": [
    "#plot the degree histograms  \n",
    "def plot_degree(G, name):\n",
    "    degree_sequence = sorted([d for n, d in G.in_degree()], reverse=True)  # degree sequence\n",
    "# print \"Degree sequence\", degree_sequence\n",
    "    degreeCount = collections.Counter(degree_sequence)\n",
    "    deg, cnt = zip(*degreeCount.items())\n",
    "\n",
    "    fig, ax = plt.subplots()\n",
    "    plt.bar(deg, cnt)\n",
    "    #width=0.80\n",
    "\n",
    "    plt.title(\"Total Degree Histogram for Graph \"+name)\n",
    "    plt.ylabel(\"Count\")\n",
    "    plt.xlabel(\"Degree\")\n",
    "    #ax.set_xticks([d + 0.4 for d in deg])\n",
    "    #ax.set_xticklabels(deg)\n",
    "\n",
    "    plt.show()"
   ]
  },
  {
   "cell_type": "code",
   "execution_count": 20,
   "metadata": {},
   "outputs": [],
   "source": [
    " #plot the in-degree histograms of a directed graph \n",
    "def plot_in_degree(G, name):\n",
    "    degree_sequence = sorted([d for n, d in G.in_degree()], reverse=True)  # degree sequence\n",
    "# print \"Degree sequence\", degree_sequence\n",
    "    degreeCount = collections.Counter(degree_sequence)\n",
    "    deg, cnt = zip(*degreeCount.items())\n",
    "\n",
    "    fig, ax = plt.subplots()\n",
    "    plt.bar(deg, cnt)\n",
    "    #width=0.80\n",
    "\n",
    "    plt.title(\"In-Degree Histogram for Graph \"+name)\n",
    "    plt.ylabel(\"Count\")\n",
    "    plt.xlabel(\"Degree\")\n",
    "    #ax.set_xticks([d + 0.4 for d in deg])\n",
    "    #ax.set_xticklabels(deg)\n",
    "\n",
    "    plt.show()"
   ]
  },
  {
   "cell_type": "code",
   "execution_count": 21,
   "metadata": {},
   "outputs": [],
   "source": [
    "#plot the out-degree histograms of a directed graph \n",
    "def plot_out_degree(G, name):\n",
    "    degree_sequence = sorted([d for n, d in G.out_degree()], reverse=True)  # degree sequence\n",
    "# print \"Degree sequence\", degree_sequence\n",
    "    degreeCount = collections.Counter(degree_sequence)\n",
    "    deg, cnt = zip(*degreeCount.items())\n",
    "\n",
    "    fig, ax = plt.subplots()\n",
    "    plt.bar(deg, cnt)\n",
    "    #width=0.80\n",
    "\n",
    "    plt.title(\"Out-Degree Histogram for Graph \"+name)\n",
    "    plt.ylabel(\"Count\")\n",
    "    plt.xlabel(\"Degree\")\n",
    "    #ax.set_xticks([d + 0.4 for d in deg])\n",
    "    #ax.set_xticklabels(deg)\n",
    "\n",
    "    plt.show()"
   ]
  },
  {
   "cell_type": "code",
   "execution_count": 22,
   "metadata": {},
   "outputs": [
    {
     "data": {
      "image/png": "[encoded data removed]",
      "text/plain": [
       "<Figure size 432x288 with 1 Axes>"
      ]
     },
     "metadata": {
      "needs_background": "light"
     },
     "output_type": "display_data"
    }
   ],
   "source": [
    "i=1\n",
    "for G in Graphs: \n",
    "    name = 'G_'+ str(i)\n",
    "    plot_degree(G,name)\n",
    "    i+=1"
   ]
  },
  {
   "cell_type": "code",
   "execution_count": 23,
   "metadata": {},
   "outputs": [
    {
     "data": {
      "image/png": "[encoded data removed]",
      "text/plain": [
       "<Figure size 432x288 with 1 Axes>"
      ]
     },
     "metadata": {
      "needs_background": "light"
     },
     "output_type": "display_data"
    }
   ],
   "source": [
    "i=1\n",
    "for G in Graphs: \n",
    "    name = 'G_'+ str(i)\n",
    "    plot_in_degree(G,name)\n",
    "    i+=1"
   ]
  },
  {
   "cell_type": "code",
   "execution_count": 24,
   "metadata": {},
   "outputs": [
    {
     "data": {
      "image/png": "[encoded data removed]",
      "text/plain": [
       "<Figure size 432x288 with 1 Axes>"
      ]
     },
     "metadata": {
      "needs_background": "light"
     },
     "output_type": "display_data"
    }
   ],
   "source": [
    "i=1\n",
    "for G in Graphs: \n",
    "    name = 'G_'+ str(i)\n",
    "    plot_out_degree(G,name)\n",
    "    i+=1"
   ]
  },
  {
   "cell_type": "markdown",
   "metadata": {},
   "source": [
    "do we need this below?"
   ]
  },
  {
   "cell_type": "code",
   "execution_count": 25,
   "metadata": {},
   "outputs": [],
   "source": [
    "def plot_distribution(degree):\n",
    "    '''\n",
    "    degree list: the list of node degrees\n",
    "    network_type: string used for plotting the title\n",
    "    '''\n",
    "    fig = plt.figure()\n",
    "    ax = plt.gca()\n",
    "    bins = min(int(np.max(degree) - np.min(degree)), 100)\n",
    "    a = plt.hist(degree, bins=bins, density=True)\n",
    "    #log = True\n",
    "    plt.xlabel('Degree')\n",
    "    plt.ylabel('Probability of node having degree k')\n",
    "    plt.title('Degree distribution for ')"
   ]
  },
  {
   "cell_type": "code",
   "execution_count": 26,
   "metadata": {},
   "outputs": [],
   "source": [
    "degree_1= np.sum(A_1, axis=0)"
   ]
  },
  {
   "cell_type": "code",
   "execution_count": 27,
   "metadata": {},
   "outputs": [
    {
     "data": {
      "image/png": "[encoded data removed]",
      "text/plain": [
       "<Figure size 432x288 with 1 Axes>"
      ]
     },
     "metadata": {
      "needs_background": "light"
     },
     "output_type": "display_data"
    }
   ],
   "source": [
    "plot_distribution(degree_1)"
   ]
  },
  {
   "cell_type": "code",
   "execution_count": 28,
   "metadata": {},
   "outputs": [
    {
     "data": {
      "text/plain": [
       "DiDegreeView({0: 6, 1: 8, 2: 6, 3: 4, 4: 8, 5: 4})"
      ]
     },
     "execution_count": 28,
     "metadata": {},
     "output_type": "execute_result"
    }
   ],
   "source": [
    "G_1.degree"
   ]
  }
 ],
 "metadata": {
  "kernelspec": {
   "display_name": "Python 3",
   "language": "python",
   "name": "python3"
  },
  "language_info": {
   "codemirror_mode": {
    "name": "ipython",
    "version": 3
   },
   "file_extension": ".py",
   "mimetype": "text/x-python",
   "name": "python",
   "nbconvert_exporter": "python",
   "pygments_lexer": "ipython3",
   "version": "3.6.6"
  }
 },
 "nbformat": 4,
 "nbformat_minor": 2
}
