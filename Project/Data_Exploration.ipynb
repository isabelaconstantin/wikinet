{
 "cells": [
  {
   "cell_type": "markdown",
   "metadata": {},
   "source": [
    "# Data Exploration"
   ]
  },
  {
   "cell_type": "code",
   "execution_count": 3,
   "metadata": {},
   "outputs": [],
   "source": [
    "%matplotlib inline"
   ]
  },
  {
   "cell_type": "code",
   "execution_count": 4,
   "metadata": {},
   "outputs": [],
   "source": [
    "import numpy as np\n",
    "from scipy import sparse\n",
    "import matplotlib.pyplot as plt\n",
    "import pygsp\n",
    "from pygsp import graphs, filters\n",
    "import networkx as nx\n",
    "import pickle\n",
    "import collections\n",
    "from numpy import linalg"
   ]
  },
  {
   "cell_type": "code",
   "execution_count": 5,
   "metadata": {},
   "outputs": [],
   "source": [
    "#import the three directed graphs: \n",
    "G_1 = nx.read_gpickle('AlanRickman.gpickle')\n",
    "G_2 = nx.read_gpickle('StanLee.gpickle')\n",
    "G_3 = nx.read_gpickle('StephenHawking.gpickle')\n"
   ]
  },
  {
   "cell_type": "code",
   "execution_count": 6,
   "metadata": {},
   "outputs": [],
   "source": [
    "Graphs=[G_1,G_2,G_3]"
   ]
  },
  {
   "cell_type": "code",
   "execution_count": 7,
   "metadata": {},
   "outputs": [],
   "source": [
    "#make undirected versions\n",
    "G_1_undir=G_1.to_undirected()\n",
    "G_2_undir=G_2.to_undirected()\n",
    "G_3_undir=G_3.to_undirected()\n",
    "Graphs_undir=[G_1_undir, G_2_undir, G_3_undir]"
   ]
  },
  {
   "cell_type": "code",
   "execution_count": 8,
   "metadata": {},
   "outputs": [],
   "source": [
    "#Adjacency matrices of undirected graphs\n",
    "A_1 = nx.adjacency_matrix(G_1_undir).todense()\n",
    "A_2 = nx.adjacency_matrix(G_2_undir).todense()\n",
    "A_3 = nx.adjacency_matrix(G_3_undir).todense()"
   ]
  },
  {
   "cell_type": "markdown",
   "metadata": {},
   "source": [
    "# Basic properties of the graphs\n"
   ]
  },
  {
   "cell_type": "markdown",
   "metadata": {},
   "source": [
    "We study basic properties of the graphs such as number of nodes, number of edges, strongly connectedness, the diameter, the average clustering coefficient and number of triangles or global clustering coefficient \n"
   ]
  },
  {
   "cell_type": "code",
   "execution_count": 9,
   "metadata": {},
   "outputs": [
    {
     "name": "stdout",
     "output_type": "stream",
     "text": [
      "The graph G_1 has 500 nodes and 3532 edges \n",
      "The graph G_2 has 500 nodes and 6892 edges \n",
      "The graph G_3 has 100 nodes and 255 edges \n"
     ]
    }
   ],
   "source": [
    "#Number of nodes and edges for each graphs \n",
    "i=1\n",
    "for G in Graphs: \n",
    "    print ('The graph G_{} has {} nodes and {} edges '. format(i, len(G.nodes),len(G.edges)))\n",
    "    i+=1"
   ]
  },
  {
   "cell_type": "code",
   "execution_count": 10,
   "metadata": {},
   "outputs": [
    {
     "name": "stdout",
     "output_type": "stream",
     "text": [
      "The graph G_1 is not strongly connected\n",
      "The graph G_2 is not strongly connected\n",
      "The graph G_2 is not strongly connected\n"
     ]
    }
   ],
   "source": [
    "# Check if the graphs are strongly connected (if not, diameter=infinity)\n",
    "i=1\n",
    "for G in Graphs :\n",
    "    if nx.is_strongly_connected(G):\n",
    "        print('The graph G_{} is strongly connected and its diameter is {}'.format(i, nx.diameter(G)))\n",
    "    else: \n",
    "        print('The graph G_{} is not strongly connected'.format(i))\n",
    "    i=1+1"
   ]
  },
  {
   "cell_type": "markdown",
   "metadata": {},
   "source": [
    "# Note:  Extract the strongly connected components and diameter of the largest strongly connected component"
   ]
  },
  {
   "cell_type": "code",
   "execution_count": 11,
   "metadata": {},
   "outputs": [],
   "source": [
    "#return a list of nodes for the stronlgy connected components of a directed graph, how does this work??\n",
    "i=1\n",
    "for G in Graphs :\n",
    "    strongcc=nx.strongly_connected_components(G)"
   ]
  },
  {
   "cell_type": "code",
   "execution_count": 12,
   "metadata": {},
   "outputs": [
    {
     "data": {
      "text/plain": [
       "<generator object strongly_connected_components at 0x1a211f4990>"
      ]
     },
     "execution_count": 12,
     "metadata": {},
     "output_type": "execute_result"
    }
   ],
   "source": [
    "strongcc"
   ]
  },
  {
   "cell_type": "code",
   "execution_count": 13,
   "metadata": {},
   "outputs": [
    {
     "name": "stdout",
     "output_type": "stream",
     "text": [
      "The diameter of the undirected graph G_1 is 4\n",
      "The diameter of the undirected graph G_2 is 4\n",
      "The diameter of the undirected graph G_3 is 4\n"
     ]
    }
   ],
   "source": [
    "#compute the diameter of undirected graphs:\n",
    "i=1\n",
    "for G in Graphs_undir: \n",
    "    print('The diameter of the undirected graph G_{} is {}'.format(i, nx.diameter(G)))\n",
    "    i+=1"
   ]
  },
  {
   "cell_type": "markdown",
   "metadata": {},
   "source": [
    "# Clustering coefficients and number of "
   ]
  },
  {
   "cell_type": "code",
   "execution_count": 14,
   "metadata": {},
   "outputs": [
    {
     "name": "stdout",
     "output_type": "stream",
     "text": [
      "The graph G_1 has average clustering coefficient 0.19374713498234902\n",
      "The graph G_2 has average clustering coefficient 0.26879632622283434\n",
      "The graph G_3 has average clustering coefficient 0.17648512749556652\n"
     ]
    }
   ],
   "source": [
    "#compute average clustering coefficient: \n",
    "#Note: Do we do for the directed or undirected graphs???\n",
    "i=1\n",
    "for G in Graphs:\n",
    "    print('The graph G_{} has average clustering coefficient {}'.format(i,nx.average_clustering(G)))\n",
    "    i=i+1"
   ]
  },
  {
   "cell_type": "code",
   "execution_count": 15,
   "metadata": {},
   "outputs": [],
   "source": [
    "#compute the number of triangles \n",
    "T_1=sum(nx.triangles(G_1_undir).values())/3\n",
    "T_2=sum(nx.triangles(G_2_undir).values())/3\n",
    "T_3=sum(nx.triangles(G_3_undir).values())/3"
   ]
  },
  {
   "cell_type": "code",
   "execution_count": 16,
   "metadata": {},
   "outputs": [
    {
     "data": {
      "text/plain": [
       "30376"
      ]
     },
     "execution_count": 16,
     "metadata": {},
     "output_type": "execute_result"
    }
   ],
   "source": [
    "#compute number of three paths in the graphs\n",
    "np.sum(np.linalg.matrix_power(A_1,3))\n",
    "np.sum(np.linalg.matrix_power(A_2,3))\n",
    "np.sum(np.linalg.matrix_power(A_3,3))"
   ]
  },
  {
   "cell_type": "code",
   "execution_count": 17,
   "metadata": {},
   "outputs": [],
   "source": [
    "#compute global clustering coefficient of the graphs\n",
    "C_1=T_1/np.sum(np.linalg.matrix_power(A_1,3))\n",
    "C_2=T_2/np.sum(np.linalg.matrix_power(A_2,3))\n",
    "C_3=T_3/np.sum(np.linalg.matrix_power(A_3,3))"
   ]
  },
  {
   "cell_type": "code",
   "execution_count": 28,
   "metadata": {},
   "outputs": [
    {
     "name": "stdout",
     "output_type": "stream",
     "text": [
      "The graph G_1 has 3745 triangles and global clustering coefficient 0.0008641476781078742\n",
      "The graph G_2 has 24905 triangles and global clustering coefficient 0.0008849502807536301\n",
      "The graph G_3 has 80 triangles and global clustering coefficient 0.002633658151171978\n"
     ]
    }
   ],
   "source": [
    "print('The graph G_1 has {} triangles and global clustering coefficient {}'. format(int(T_1), C_1))\n",
    "print('The graph G_2 has {} triangles and global clustering coefficient {}'. format(int(T_2), C_2))\n",
    "print('The graph G_3 has {} triangles and global clustering coefficient {}'. format(int(T_3), C_3))"
   ]
  },
  {
   "cell_type": "markdown",
   "metadata": {},
   "source": [
    "# Degree Distribution\n"
   ]
  },
  {
   "cell_type": "markdown",
   "metadata": {},
   "source": [
    "question: as the graph is directed: do we compute the in-degree, out-degree or total degree?\n"
   ]
  },
  {
   "cell_type": "code",
   "execution_count": 19,
   "metadata": {},
   "outputs": [],
   "source": [
    "#plot the degree histograms  \n",
    "def plot_degree(G, name):\n",
    "    degree_sequence = sorted([d for n, d in G.in_degree()], reverse=True)  # degree sequence\n",
    "# print \"Degree sequence\", degree_sequence\n",
    "    degreeCount = collections.Counter(degree_sequence)\n",
    "    deg, cnt = zip(*degreeCount.items())\n",
    "\n",
    "    fig, ax = plt.subplots()\n",
    "    plt.bar(deg, cnt)\n",
    "    #width=0.80\n",
    "\n",
    "    plt.title(\"Total Degree Histogram for Graph \"+name)\n",
    "    plt.ylabel(\"Count\")\n",
    "    plt.xlabel(\"Degree\")\n",
    "    #ax.set_xticks([d + 0.4 for d in deg])\n",
    "    #ax.set_xticklabels(deg)\n",
    "\n",
    "    plt.show()"
   ]
  },
  {
   "cell_type": "code",
   "execution_count": 20,
   "metadata": {},
   "outputs": [],
   "source": [
    " #plot the in-degree histograms of a directed graph \n",
    "def plot_in_degree(G, name):\n",
    "    degree_sequence = sorted([d for n, d in G.in_degree()], reverse=True)  # degree sequence\n",
    "# print \"Degree sequence\", degree_sequence\n",
    "    degreeCount = collections.Counter(degree_sequence)\n",
    "    deg, cnt = zip(*degreeCount.items())\n",
    "\n",
    "    fig, ax = plt.subplots()\n",
    "    plt.bar(deg, cnt)\n",
    "    #width=0.80\n",
    "\n",
    "    plt.title(\"In-Degree Histogram for Graph \"+name)\n",
    "    plt.ylabel(\"Count\")\n",
    "    plt.xlabel(\"Degree\")\n",
    "    #ax.set_xticks([d + 0.4 for d in deg])\n",
    "    #ax.set_xticklabels(deg)\n",
    "\n",
    "    plt.show()"
   ]
  },
  {
   "cell_type": "code",
   "execution_count": 21,
   "metadata": {},
   "outputs": [],
   "source": [
    "#plot the out-degree histograms of a directed graph \n",
    "def plot_out_degree(G, name):\n",
    "    degree_sequence = sorted([d for n, d in G.out_degree()], reverse=True)  # degree sequence\n",
    "# print \"Degree sequence\", degree_sequence\n",
    "    degreeCount = collections.Counter(degree_sequence)\n",
    "    deg, cnt = zip(*degreeCount.items())\n",
    "\n",
    "    fig, ax = plt.subplots()\n",
    "    plt.bar(deg, cnt)\n",
    "    #width=0.80\n",
    "\n",
    "    plt.title(\"Out-Degree Histogram for Graph \"+name)\n",
    "    plt.ylabel(\"Count\")\n",
    "    plt.xlabel(\"Degree\")\n",
    "    #ax.set_xticks([d + 0.4 for d in deg])\n",
    "    #ax.set_xticklabels(deg)\n",
    "\n",
    "    plt.show()"
   ]
  },
  {
   "cell_type": "code",
   "execution_count": 22,
   "metadata": {},
   "outputs": [
    {
     "data": {
      "image/png": "[encoded data removed]",
      "text/plain": [
       "<Figure size 432x288 with 1 Axes>"
      ]
     },
     "metadata": {
      "needs_background": "light"
     },
     "output_type": "display_data"
    },
    {
     "data": {
      "image/png": "[encoded data removed]",
      "text/plain": [
       "<Figure size 432x288 with 1 Axes>"
      ]
     },
     "metadata": {
      "needs_background": "light"
     },
     "output_type": "display_data"
    },
    {
     "data": {
      "image/png": "[encoded data removed]",
      "text/plain": [
       "<Figure size 432x288 with 1 Axes>"
      ]
     },
     "metadata": {
      "needs_background": "light"
     },
     "output_type": "display_data"
    }
   ],
   "source": [
    "i=1\n",
    "for G in Graphs: \n",
    "    name = 'G_'+ str(i)\n",
    "    plot_degree(G,name)\n",
    "    i+=1"
   ]
  },
  {
   "cell_type": "code",
   "execution_count": 23,
   "metadata": {},
   "outputs": [
    {
     "data": {
      "image/png": "[encoded data removed]",
      "text/plain": [
       "<Figure size 432x288 with 1 Axes>"
      ]
     },
     "metadata": {
      "needs_background": "light"
     },
     "output_type": "display_data"
    },
    {
     "data": {
      "image/png": "[encoded data removed]",
      "text/plain": [
       "<Figure size 432x288 with 1 Axes>"
      ]
     },
     "metadata": {
      "needs_background": "light"
     },
     "output_type": "display_data"
    },
    {
     "data": {
      "image/png": "[encoded data removed]",
      "text/plain": [
       "<Figure size 432x288 with 1 Axes>"
      ]
     },
     "metadata": {
      "needs_background": "light"
     },
     "output_type": "display_data"
    }
   ],
   "source": [
    "i=1\n",
    "for G in Graphs: \n",
    "    name = 'G_'+ str(i)\n",
    "    plot_in_degree(G,name)\n",
    "    i+=1"
   ]
  },
  {
   "cell_type": "code",
   "execution_count": 24,
   "metadata": {},
   "outputs": [
    {
     "data": {
      "image/png": "[encoded data removed]",
      "text/plain": [
       "<Figure size 432x288 with 1 Axes>"
      ]
     },
     "metadata": {
      "needs_background": "light"
     },
     "output_type": "display_data"
    },
    {
     "data": {
      "image/png": "[encoded data removed]",
      "text/plain": [
       "<Figure size 432x288 with 1 Axes>"
      ]
     },
     "metadata": {
      "needs_background": "light"
     },
     "output_type": "display_data"
    },
    {
     "data": {
      "image/png": "[encoded data removed]",
      "text/plain": [
       "<Figure size 432x288 with 1 Axes>"
      ]
     },
     "metadata": {
      "needs_background": "light"
     },
     "output_type": "display_data"
    }
   ],
   "source": [
    "i=1\n",
    "for G in Graphs: \n",
    "    name = 'G_'+ str(i)\n",
    "    plot_out_degree(G,name)\n",
    "    i+=1"
   ]
  },
  {
   "cell_type": "markdown",
   "metadata": {},
   "source": [
    "do we need this below?"
   ]
  },
  {
   "cell_type": "code",
   "execution_count": 25,
   "metadata": {},
   "outputs": [],
   "source": [
    "def plot_distribution(degree):\n",
    "    '''\n",
    "    degree list: the list of node degrees\n",
    "    network_type: string used for plotting the title\n",
    "    '''\n",
    "    fig = plt.figure()\n",
    "    ax = plt.gca()\n",
    "    bins = min(int(np.max(degree) - np.min(degree)), 100)\n",
    "    a = plt.hist(degree, bins=bins, density=True)\n",
    "    #log = True\n",
    "    plt.xlabel('Degree')\n",
    "    plt.ylabel('Probability of node having degree k')\n",
    "    plt.title('Degree distribution for ')"
   ]
  }
 ],
 "metadata": {
  "kernelspec": {
   "display_name": "Python 3",
   "language": "python",
   "name": "python3"
  },
  "language_info": {
   "codemirror_mode": {
    "name": "ipython",
    "version": 3
   },
   "file_extension": ".py",
   "mimetype": "text/x-python",
   "name": "python",
   "nbconvert_exporter": "python",
   "pygments_lexer": "ipython3",
   "version": "3.6.6"
  }
 },
 "nbformat": 4,
 "nbformat_minor": 2
}
