{
 "cells": [
  {
   "cell_type": "markdown",
   "metadata": {},
   "source": [
    "# [NTDS'18] milestone 3: spectral graph theory\n",
    "[ntds'18]: https://github.com/mdeff/ntds_2018\n",
    "\n",
    "[Michaël Defferrard](http://deff.ch), [EPFL LTS2](https://lts2.epfl.ch)"
   ]
  },
  {
   "cell_type": "markdown",
   "metadata": {},
   "source": [
    "### Students\n",
    "\n",
    "* Team: 37\n",
    "* Students: Isabela Constantin, Adélie Garin, Celia Hacker, Michael Spieler\n",
    "* Dataset: wikipedia"
   ]
  },
  {
   "cell_type": "markdown",
   "metadata": {},
   "source": [
    "## Rules\n",
    "\n",
    "* Milestones have to be completed by teams. No collaboration between teams is allowed.\n",
    "* Textual answers shall be short. Typically one to two sentences.\n",
    "* Code has to be clean.\n",
    "* You cannot import any other library than we imported.\n",
    "* When submitting, the notebook is executed and the results are stored. I.e., if you open the notebook again it should show numerical results and plots. We won't be able to execute your notebooks.\n",
    "* The notebook is re-executed from a blank state before submission. That is to be sure it is reproducible. You can click \"Kernel\" then \"Restart & Run All\" in Jupyter."
   ]
  },
  {
   "cell_type": "markdown",
   "metadata": {},
   "source": [
    "## Objective\n",
    "\n",
    "The goal of this milestone is to get familiar with the graph Laplacian and its spectral decomposition."
   ]
  },
  {
   "cell_type": "markdown",
   "metadata": {},
   "source": [
    "## 0 Load your network"
   ]
  },
  {
   "cell_type": "code",
   "execution_count": 2,
   "metadata": {},
   "outputs": [],
   "source": [
    "%matplotlib inline"
   ]
  },
  {
   "cell_type": "markdown",
   "metadata": {},
   "source": [
    "If you get a `No module named 'sklearn'` error when running the below cell, install [scikit-learn](https://scikit-learn.org) with `conda install scikit-learn` (after activating the `ntds_2018` environment)."
   ]
  },
  {
   "cell_type": "code",
   "execution_count": 3,
   "metadata": {},
   "outputs": [],
   "source": [
    "import numpy as np\n",
    "from scipy import sparse\n",
    "import scipy.sparse.linalg\n",
    "import matplotlib.pyplot as plt\n",
    "from sklearn.cluster import KMeans"
   ]
  },
  {
   "cell_type": "markdown",
   "metadata": {},
   "source": [
    "Let's denote your graph as $\\mathcal{G} = (\\mathcal{V}, \\mathcal{E}, A)$, where $\\mathcal{V}$ is the set of nodes, $\\mathcal{E}$ is the set of edges, $A \\in \\mathbb{R}^{N \\times N}$ is the (weighted) adjacency matrix, and $N = |\\mathcal{V}|$ is the number of nodes.\n",
    "\n",
    "Import the adjacency matrix $A$ that you constructed in the first milestone.\n",
    "(You're allowed to update it between milestones if you want to.)"
   ]
  },
  {
   "cell_type": "code",
   "execution_count": 4,
   "metadata": {},
   "outputs": [],
   "source": [
    "#we take the matrix of the largest weakly connected component (otherwise there are isolated points and the degree matrix is not invertible for normalized laplacian)\n",
    "adjacency= np.load('largest_wcc.npz')['arr_0']\n",
    "n_nodes =  adjacency.shape[0] # the number of nodes in the network\n",
    "\n",
    "#note: our graph contains selfloops. To compute the Laplacian and do the work below, we delete them (as per slides)\n",
    "adjacency = adjacency - np.diag(np.diag(adjacency))\n",
    "n_edges =  int(np.sum(adjacency)/2) # the number of edges in the network"
   ]
  },
  {
   "cell_type": "code",
   "execution_count": 5,
   "metadata": {},
   "outputs": [
    {
     "data": {
      "text/plain": [
       "True"
      ]
     },
     "execution_count": 5,
     "metadata": {},
     "output_type": "execute_result"
    }
   ],
   "source": [
    "# sanity check that the matrix is also symmetric\n",
    "(adjacency.T == adjacency).all()"
   ]
  },
  {
   "cell_type": "markdown",
   "metadata": {},
   "source": [
    "## 1 Graph Laplacian"
   ]
  },
  {
   "cell_type": "markdown",
   "metadata": {},
   "source": [
    "### Question 1\n",
    "\n",
    "From the (weighted) adjacency matrix $A$, compute both the combinatorial (also called unnormalized) and the normalized graph Laplacian matrices.\n",
    "\n",
    "Note: if your graph is weighted, use the weighted adjacency matrix. If not, use the binary adjacency matrix.\n",
    "\n",
    "For efficient storage and computation, store these sparse matrices in a [compressed sparse row (CSR) format](https://en.wikipedia.org/wiki/Sparse_matrix#Compressed_sparse_row_.28CSR.2C_CRS_or_Yale_format.29)."
   ]
  },
  {
   "cell_type": "code",
   "execution_count": 6,
   "metadata": {},
   "outputs": [],
   "source": [
    "# compute combinatorial laplacian\n",
    "degree_matrix = sparse.spdiags(np.sum(adjacency,axis=0), 0, n_nodes, n_nodes)\n",
    "adjacency = sparse.csr_matrix(adjacency)\n",
    "laplacian_combinatorial =  degree_matrix - adjacency"
   ]
  },
  {
   "cell_type": "code",
   "execution_count": 7,
   "metadata": {},
   "outputs": [],
   "source": [
    "# compute normalised laplacian\n",
    "# first compute D^(-1/2),we can make it into a matrix after\n",
    "D_inv_sq = 1 / np.sqrt(np.sum(adjacency,axis=0))\n",
    "D_inv_sq = sparse.spdiags(D_inv_sq, 0, n_nodes, n_nodes)\n",
    "laplacian_normalized = sparse.eye(n_nodes) - D_inv_sq @ adjacency @ D_inv_sq"
   ]
  },
  {
   "cell_type": "code",
   "execution_count": 8,
   "metadata": {},
   "outputs": [
    {
     "data": {
      "text/plain": [
       "<4589x4589 sparse matrix of type '<class 'numpy.float64'>'\n",
       "\twith 217657 stored elements in Compressed Sparse Row format>"
      ]
     },
     "execution_count": 8,
     "metadata": {},
     "output_type": "execute_result"
    }
   ],
   "source": [
    "laplacian_normalized"
   ]
  },
  {
   "cell_type": "markdown",
   "metadata": {},
   "source": [
    "Use one of them as the graph Laplacian $L$ for the rest of the milestone.\n",
    "We however encourage you to run the code with both to get a sense of the difference!"
   ]
  },
  {
   "cell_type": "code",
   "execution_count": 9,
   "metadata": {},
   "outputs": [],
   "source": [
    "laplacian =  laplacian_normalized"
   ]
  },
  {
   "cell_type": "markdown",
   "metadata": {},
   "source": [
    "### Question 2\n",
    "\n",
    "Compute the eigendecomposition of the Laplacian $L = U^\\top \\Lambda U$, where the columns $u_k \\in \\mathbb{R}^N$ of $U = [u_1, \\dots, u_N] \\in \\mathbb{R}^{N \\times N}$ are the eigenvectors and the diagonal elements $\\lambda_k = \\Lambda_{kk}$ are the corresponding eigenvalues.\n",
    "\n",
    "Make sure that the eigenvalues are ordered, i.e., $0 = \\lambda_1 \\leq \\lambda_2 \\leq \\dots \\leq \\lambda_N$."
   ]
  },
  {
   "cell_type": "code",
   "execution_count": 11,
   "metadata": {},
   "outputs": [
    {
     "data": {
      "text/plain": [
       "True"
      ]
     },
     "execution_count": 11,
     "metadata": {},
     "output_type": "execute_result"
    }
   ],
   "source": [
    "eigenvalues_norm, eigenvectors_norm = np.linalg.eigh(laplacian_normalized.toarray())\n",
    "# ensure it is sorted\n",
    "(np.sort(eigenvalues_norm) == eigenvalues_norm).all()"
   ]
  },
  {
   "cell_type": "code",
   "execution_count": 12,
   "metadata": {},
   "outputs": [
    {
     "data": {
      "text/plain": [
       "array([2.61412774e-16, 2.28689668e-01, 2.76081918e-01, ...,\n",
       "       1.38741627e+00, 1.39632479e+00, 1.52088677e+00])"
      ]
     },
     "execution_count": 12,
     "metadata": {},
     "output_type": "execute_result"
    }
   ],
   "source": [
    "# note that due to limited floating point precision lambda_1 is not exactly 0 (but very close)\n",
    "eigenvalues_norm"
   ]
  },
  {
   "cell_type": "code",
   "execution_count": 13,
   "metadata": {},
   "outputs": [
    {
     "data": {
      "text/plain": [
       "True"
      ]
     },
     "execution_count": 13,
     "metadata": {},
     "output_type": "execute_result"
    }
   ],
   "source": [
    "# do the same for combinatorial\n",
    "eigenvalues_comb, eigenvectors_comb = np.linalg.eigh(laplacian_combinatorial.toarray())\n",
    "# ensure it is sorted\n",
    "(np.sort(eigenvalues_comb) == eigenvalues_comb).all()"
   ]
  },
  {
   "cell_type": "code",
   "execution_count": 14,
   "metadata": {},
   "outputs": [
    {
     "data": {
      "text/plain": [
       "array([-4.75187988e-15,  8.72090315e-01,  9.70810995e-01, ...,\n",
       "        9.96070193e+02,  1.04705843e+03,  1.62201828e+03])"
      ]
     },
     "execution_count": 14,
     "metadata": {},
     "output_type": "execute_result"
    }
   ],
   "source": [
    "eigenvalues_comb"
   ]
  },
  {
   "cell_type": "markdown",
   "metadata": {},
   "source": [
    "Justify your choice of eigensolver."
   ]
  },
  {
   "cell_type": "markdown",
   "metadata": {},
   "source": [
    "**Your answer here.** "
   ]
  },
  {
   "cell_type": "markdown",
   "metadata": {},
   "source": [
    "We need to do find out all the eigenvalues and eigenvectors, so we used the solution provided in np.linalg. \n",
    "\n",
    "There was no need to use scipy since we are not dealing with a generalised eigenvalue problem .\n",
    "\n",
    "Lastly, we used `numpy.linalg.eigh` since L is *symmetric*"
   ]
  },
  {
   "cell_type": "markdown",
   "metadata": {},
   "source": [
    "### Question 3\n",
    "\n",
    "We can write $L = S S^\\top$. What is the matrix $S$? What does $S^\\top x$, with $x \\in \\mathbb{R}^N$, compute?"
   ]
  },
  {
   "cell_type": "markdown",
   "metadata": {},
   "source": [
    "**Your answer here.**\n",
    "\n",
    "S is the incidence matrix, it takes edges and returns which vertices they link (size: nb_nodes* nb_edges). $(S)_{ij}$ is +1 (resp -1) if the j-th edge has source (resp sink) the node i, $(S)_{ij}$ is 0 if the j-th edge is not incident to i. \n",
    "\n",
    "$S^\\top$ takes nodes and return edges (size: nb_edges*nb_nodes). The vector x is a signal on the nodes (it assigns a real value to each node) and $S^\\top x$ is then a signal on the edges. It is the gradient of this node-signal x, i.e. the difference of the signal of the end-nodes of each edge. If the k-th edge has source i and sink j, $(S^\\top x)_k = x_i-x_j$ (here we consider the unweighted case, otherwise there is a square root of the weight that comes up). \n",
    "\n",
    "Note: We need an orientation to define those properly, but in the case of undirected graph we can just define a random orientation. "
   ]
  },
  {
   "cell_type": "markdown",
   "metadata": {},
   "source": [
    "### Question 4\n",
    "\n",
    "Show that $\\lambda_k = \\| S^\\top u_k \\|_2^2$, where $\\| \\cdot \\|_2^2$ denotes the squared Euclidean norm (a.k.a. squared $L^2$ norm)."
   ]
  },
  {
   "cell_type": "markdown",
   "metadata": {},
   "source": [
    "**Your answer here.**\n",
    "\n",
    "Finding eigenvalues of L is solving the equation $Lx = \\lambda x $. Assume $ \\|x \\|=1$. \n",
    "\n",
    "Then is it equivalent to solving $x^\\top Lx = x^\\top \\lambda x$ which is equivalent to solve $x^\\top S S^\\top x = x^\\top \\lambda x$ (as $L= S^\\top S$). \n",
    "\n",
    "This gives the equation $\\lambda=\\frac{(x^\\top S S^\\top x)}{(x^\\top x )}=\\frac{ \\| S^\\top x \\|_2^2}{ \\| x \\|_2 ^2 } $. Hence solving $Lx = \\lambda x $ for $ \\|x \\|=1$ is equivalent to solving $\\| S^\\top x \\|_2^2 = \\lambda$ for $\\| x \\|_2 ^2 =1 $, and for the eigenvalue $\\lambda_k$ we have the associated eigenvector $u_k$ of norm 1 satisfying $\\lambda_k = \\| S^\\top u_k \\|_2^2$."
   ]
  },
  {
   "cell_type": "markdown",
   "metadata": {},
   "source": [
    "What does the quantity $\\| S^\\top x \\|_2^2$ tell us about $x$?"
   ]
  },
  {
   "cell_type": "markdown",
   "metadata": {},
   "source": [
    "**Your answer here.**\n",
    "\n",
    "$\\| S^\\top x \\|_2^2$ is the squared norm of the gradient of the signal x : $\\| S^\\top x \\|_2^2 = x^\\top S S^\\top x = \\sum_{i,j} (x_i-x_j)^2$ (unweighted case again). The smallest it is, the smoothest the signal x is (meaning the difference of signal at each edge is small). If $\\| S^\\top x \\|_2^2 = 0$ then the signal x is constant, the smoothest possible. "
   ]
  },
  {
   "cell_type": "markdown",
   "metadata": {},
   "source": [
    "### Question 5\n",
    "\n",
    "What is the value of $u_0$, both for the combinatorial and normalized Laplacians?"
   ]
  },
  {
   "cell_type": "markdown",
   "metadata": {},
   "source": [
    "**Your answer here.**\n",
    "\n",
    "For the combinatorial Laplacian L, minimizing $\\| S^\\top x \\|_2^2$ corresponds to finding the first eigenvalue of L = $S^\\top S$. As mentionned in Question 5, there is always the possibility of having a constant signal x and hence $\\| S^\\top x \\|_2^2 = 0$ . The first eigenvalue is always 0, and its associated eigenvector of norm 1, $u_0$, is always constant. Its value is then $u_0 = (a ,..., a)$ where a is such that $a^2+...+a^2 = 1$ (norm of x is 1). \n",
    "\n",
    "The normalized Laplacian eigenvalues $ \\{f_0,...f_k \\} $ are linked to the ones of the combinatorial Laplacian $ \\{u_0,...u_k\\}$ by $u_i = D^{-1/2} f_i $, where D is the degree matrix. If we want eigenvectors of norm 1 we just divide $u_i = D^{-1/2} f_i $ by its norm. \n"
   ]
  },
  {
   "cell_type": "code",
   "execution_count": 15,
   "metadata": {},
   "outputs": [
    {
     "data": {
      "text/plain": [
       "array([0.01476186, 0.01476186, 0.01476186, ..., 0.01476186, 0.01476186,\n",
       "       0.01476186])"
      ]
     },
     "execution_count": 15,
     "metadata": {},
     "output_type": "execute_result"
    }
   ],
   "source": [
    "# sanity check: constant first eigenvector of the combinatorial laplacian\n",
    "eigenvectors_comb[:, 0]"
   ]
  },
  {
   "cell_type": "code",
   "execution_count": 16,
   "metadata": {},
   "outputs": [
    {
     "data": {
      "text/plain": [
       "array([0.01476186, 0.01476186, 0.01476186, ..., 0.01476186, 0.01476186,\n",
       "       0.01476186])"
      ]
     },
     "execution_count": 16,
     "metadata": {},
     "output_type": "execute_result"
    }
   ],
   "source": [
    "# obtaining it from the first eigenvector of the normalised laplacian\n",
    "D_inv_sq.dot(eigenvectors_norm[:, 0]) / np.linalg.norm(D_inv_sq.dot(eigenvectors_norm[:, 0]),2)"
   ]
  },
  {
   "cell_type": "markdown",
   "metadata": {},
   "source": [
    "### Question 6\n",
    "\n",
    "Look at the spectrum of the Laplacian by plotting the eigenvalues.\n",
    "Comment on what you observe."
   ]
  },
  {
   "cell_type": "code",
   "execution_count": 17,
   "metadata": {},
   "outputs": [
    {
     "data": {
      "text/plain": [
       "Text(0.5,1,'Eigenvalues of normalised laplacian')"
      ]
     },
     "execution_count": 17,
     "metadata": {},
     "output_type": "execute_result"
    },
    {
     "data": {
      "image/png": "[encoded data removed]",
      "text/plain": [
       "<Figure size 432x288 with 1 Axes>"
      ]
     },
     "metadata": {
      "needs_background": "light"
     },
     "output_type": "display_data"
    }
   ],
   "source": [
    "fig = plt.figure()\n",
    "ax = plt.gca()\n",
    "ax.plot(range(n_nodes),eigenvalues_norm, 'o', c='blue', markeredgecolor='none', markersize= 3.5)\n",
    "plt.xlabel('The n-th eigenvalue')\n",
    "plt.ylabel('eigenvalue')\n",
    "plt.title('Eigenvalues of normalised laplacian')"
   ]
  },
  {
   "cell_type": "code",
   "execution_count": 18,
   "metadata": {},
   "outputs": [
    {
     "data": {
      "text/plain": [
       "Text(0.5,1,'Eigenvalues of combinatorial laplacian')"
      ]
     },
     "execution_count": 18,
     "metadata": {},
     "output_type": "execute_result"
    },
    {
     "data": {
      "image/png": "[encoded data removed]",
      "text/plain": [
       "<Figure size 432x288 with 1 Axes>"
      ]
     },
     "metadata": {
      "needs_background": "light"
     },
     "output_type": "display_data"
    }
   ],
   "source": [
    "fig = plt.figure()\n",
    "ax = plt.gca()\n",
    "ax.plot(range(n_nodes),eigenvalues_comb,'o', c='blue', markeredgecolor='none', markersize= 3.5)\n",
    "plt.xlabel('The n-th eigenvalue')\n",
    "plt.ylabel('eigenvalue')\n",
    "plt.title('Eigenvalues of combinatorial laplacian')"
   ]
  },
  {
   "cell_type": "markdown",
   "metadata": {},
   "source": [
    "**Your answer here.**\n",
    "We can see that there is only one 0-eigenvalue. Eigenvalues are supposed to be the minimum of $ \\| S^\\top x \\|_2^2 $ with constraint to be orthognal to the previous eigenvalues in the list. They are hence signals on the nodes ordered by smoothness. \n",
    "Eigenvalues of the normalized Laplacian are between 0 and 2, as expected. On the plot of the normalized Laplacian, we can see a clear gap between the first eigenvalue 0 and the first non zero one (the normalization helped to visualize here)."
   ]
  },
  {
   "cell_type": "markdown",
   "metadata": {},
   "source": [
    "How many connected components are there in your graph? Answer using the eigenvalues only."
   ]
  },
  {
   "cell_type": "markdown",
   "metadata": {},
   "source": [
    "Note that we don't have exact precision, so we round up our eigenvalues to 12 decimals, and we see the first eigenvalue is 0, while the next are much bigger. "
   ]
  },
  {
   "cell_type": "code",
   "execution_count": 19,
   "metadata": {},
   "outputs": [
    {
     "data": {
      "text/plain": [
       "array([0.        , 0.22868967, 0.27608192, ..., 1.38741627, 1.39632479,\n",
       "       1.52088677])"
      ]
     },
     "execution_count": 19,
     "metadata": {},
     "output_type": "execute_result"
    }
   ],
   "source": [
    "# The number of connected components is the number of eigenvalues with value 0. \n",
    "\n",
    "eigenvalues_round = np.round(eigenvalues_norm, decimals=12)\n",
    "eigenvalues_round"
   ]
  },
  {
   "cell_type": "markdown",
   "metadata": {},
   "source": [
    "We can see there is only one zero eigenvalue ( we know the eigenvalues are in order, the second largest one is clearly non zero). \n",
    "Hence, one connected component (as expected, since we took the graph of the biggest connected component)."
   ]
  },
  {
   "cell_type": "markdown",
   "metadata": {},
   "source": [
    "Is there an upper bound on the eigenvalues, i.e., what is the largest possible eigenvalue? Answer for both the combinatorial and normalized Laplacians."
   ]
  },
  {
   "cell_type": "markdown",
   "metadata": {},
   "source": [
    "**Your answer here.**\n",
    "\n",
    "Combinatorial Laplacian: By Gershgorin circle theorem, any eigenvalue of a matrix is bounded by the largest absolute value sum of its row and columns. In our case, it gives twice maximal degree of the graph. This is unbounded, we can find a serie of graphs whose Laplacian eigenvalues go to infinity. \n",
    "\n",
    "Normalized Laplacian: One of the idea behind normalized Laplacian is to get bounded eigenvalues. The eigenvalues of the normalized Laplacian are all contained between 0 and 2. (the value 2 is attained if the graph has a complete bipartite component). "
   ]
  },
  {
   "cell_type": "markdown",
   "metadata": {},
   "source": [
    "## 3 Laplacian eigenmaps\n",
    "\n",
    "*Laplacian eigenmaps* is a method to embed a graph $\\mathcal{G}$ in a $d$-dimensional Euclidean space.\n",
    "That is, it associates a vector $z_i \\in \\mathbb{R}^d$ to every node $v_i \\in \\mathcal{V}$.\n",
    "The graph $\\mathcal{G}$ is thus embedded as $Z \\in \\mathbb{R}^{N \\times d}$."
   ]
  },
  {
   "cell_type": "markdown",
   "metadata": {},
   "source": [
    "### Question 7\n",
    "\n",
    "What do we use Laplacian eigenmaps for? (Or more generally, graph embeddings.)"
   ]
  },
  {
   "cell_type": "markdown",
   "metadata": {},
   "source": [
    "**Your answer here.**\n",
    "\n",
    "The goal of Laplacian eigenmaps is to reduce dimension of the data while keeping important similarity properties. Points that are similar (meaning, close to each other) in the original graph will be close to each other in the embedding."
   ]
  },
  {
   "cell_type": "markdown",
   "metadata": {},
   "source": [
    "### Question 8\n",
    "\n",
    "Embed your graph in $d=2$ dimensions with Laplacian eigenmaps.\n",
    "Try with and without re-normalizing the eigenvectors by the degrees, then keep the one your prefer.\n",
    "\n",
    "**Recompute** the eigenvectors you need with a partial eigendecomposition method for sparse matrices.\n",
    "When $k \\ll N$ eigenvectors are needed, partial eigendecompositions are much more efficient than complete eigendecompositions.\n",
    "A partial eigendecomposition scales as $\\Omega(k |\\mathcal{E}|$), while a complete eigendecomposition costs $\\mathcal{O}(N^3)$ operations."
   ]
  },
  {
   "cell_type": "code",
   "execution_count": 20,
   "metadata": {},
   "outputs": [],
   "source": [
    "# cast to float first\n",
    "\n",
    "laplacian_combinatorial = laplacian_combinatorial.asfptype()\n",
    "eigenval_comb, eigenvec_comb = sparse.linalg.eigsh(laplacian_combinatorial, k=3, which='SM')"
   ]
  },
  {
   "cell_type": "code",
   "execution_count": 21,
   "metadata": {},
   "outputs": [
    {
     "data": {
      "text/plain": [
       "array([9.51029438e-16, 8.72090315e-01, 9.70810995e-01])"
      ]
     },
     "execution_count": 21,
     "metadata": {},
     "output_type": "execute_result"
    }
   ],
   "source": [
    "#note: the eigenvalues are in order\n",
    "eigenval_comb"
   ]
  },
  {
   "cell_type": "code",
   "execution_count": 29,
   "metadata": {},
   "outputs": [],
   "source": [
    "# note: the first eigenvector is the constant signal, we take the second and the third\n",
    "eigenmaps_comb = eigenvec_comb[:,1:3]\n",
    "# note: normalise by degree \n",
    "eigenmaps_norm = D_inv_sq @ eigenmaps_comb"
   ]
  },
  {
   "cell_type": "markdown",
   "metadata": {},
   "source": [
    "Plot the nodes embedded in 2D. Comment on what you see."
   ]
  },
  {
   "cell_type": "code",
   "execution_count": 30,
   "metadata": {},
   "outputs": [
    {
     "data": {
      "text/plain": [
       "Text(0.5,1,'Unnormalised eigenmaps')"
      ]
     },
     "execution_count": 30,
     "metadata": {},
     "output_type": "execute_result"
    },
    {
     "data": {
      "image/png": "[encoded data removed]",
      "text/plain": [
       "<Figure size 432x288 with 1 Axes>"
      ]
     },
     "metadata": {
      "needs_background": "light"
     },
     "output_type": "display_data"
    }
   ],
   "source": [
    "plt.scatter(eigenmaps_comb[:,0],eigenmaps_comb[:,1])\n",
    "plt.title('Unnormalised eigenmaps')"
   ]
  },
  {
   "cell_type": "code",
   "execution_count": 31,
   "metadata": {},
   "outputs": [
    {
     "data": {
      "text/plain": [
       "Text(0.5,1,'Normalised eigenmaps')"
      ]
     },
     "execution_count": 31,
     "metadata": {},
     "output_type": "execute_result"
    },
    {
     "data": {
      "image/png": "[encoded data removed]",
      "text/plain": [
       "<Figure size 432x288 with 1 Axes>"
      ]
     },
     "metadata": {
      "needs_background": "light"
     },
     "output_type": "display_data"
    }
   ],
   "source": [
    "plt.scatter(eigenmaps_norm[:,0],eigenmaps_norm[:,1])\n",
    "plt.title('Normalised eigenmaps')"
   ]
  },
  {
   "cell_type": "markdown",
   "metadata": {},
   "source": [
    "**Your answer here.**"
   ]
  },
  {
   "cell_type": "markdown",
   "metadata": {},
   "source": [
    "Note: not sure here if we can just take the eigenvectors of the combinatorial laplacian to derive this eigenmaps or rather should use the ones as in the paper (https://people.cs.umass.edu/~mahadeva/cs791bb/reading/belkin01laplacian.pdf)"
   ]
  },
  {
   "cell_type": "markdown",
   "metadata": {},
   "source": [
    "### Question 9"
   ]
  },
  {
   "cell_type": "markdown",
   "metadata": {},
   "source": [
    "What does the embedding $Z \\in \\mathbb{R}^{N \\times d}$ preserve?"
   ]
  },
  {
   "cell_type": "markdown",
   "metadata": {},
   "source": [
    "**Your answer here.**\n",
    "\n",
    "The embedding preserve smoothness of the signal. If we cluster the embedding, we obtain a good clustering of the original graph as well. "
   ]
  },
  {
   "cell_type": "markdown",
   "metadata": {},
   "source": [
    "## 2 Spectral clustering\n",
    "\n",
    "*Spectral clustering* is a method to partition a graph into distinct clusters.\n",
    "The method associates a feature vector $z_i \\in \\mathbb{R}^d$ to every node $v_i \\in \\mathcal{V}$, then runs [$k$-means](https://en.wikipedia.org/wiki/K-means_clustering) in the embedding space $\\mathbb{R}^d$ to assign each node $v_i \\in \\mathcal{V}$ to a cluster $c_j \\in \\mathcal{C}$, where $k = |\\mathcal{C}|$ is the number of desired clusters."
   ]
  },
  {
   "cell_type": "markdown",
   "metadata": {},
   "source": [
    "### Question 10\n",
    "\n",
    "Choose $k$ and $d$. How did you get to those numbers?"
   ]
  },
  {
   "cell_type": "markdown",
   "metadata": {},
   "source": [
    "**Your answer here.**\n",
    "\n",
    "If there are k clear clusters in the data, then there will be a gap in the Laplacian spectrum after the k-th eigenvalue.\n",
    "\n",
    "Therefore one should choose k clusters within a feature vector of size d=k.\n",
    "However, when plotting the eigenvalues from the normalized Laplacian, we don't really find any clear gap.\n",
    "\n",
    "The eigenvalues from the unnormalized laplacian show multiple \"steps\". We choose k=16 klusters that lie within the first \"step\".\n",
    "\n",
    "**TODO: how should we handle this?**"
   ]
  },
  {
   "cell_type": "code",
   "execution_count": 36,
   "metadata": {},
   "outputs": [
    {
     "data": {
      "text/plain": [
       "[<matplotlib.lines.Line2D at 0x1a1b48b748>]"
      ]
     },
     "execution_count": 36,
     "metadata": {},
     "output_type": "execute_result"
    },
    {
     "data": {
      "image/png": "[encoded data removed]",
      "text/plain": [
       "<Figure size 432x288 with 1 Axes>"
      ]
     },
     "metadata": {
      "needs_background": "light"
     },
     "output_type": "display_data"
    }
   ],
   "source": [
    "plt.plot(eigenvalues_norm[:50])"
   ]
  },
  {
   "cell_type": "markdown",
   "metadata": {},
   "source": [
    "### Question 11\n",
    "\n",
    "1. Embed your graph in $\\mathbb{R}^d$ as $Z \\in \\mathbb{R}^{N \\times d}$.\n",
    "   Try with and without re-normalizing the eigenvectors by the degrees, then keep the one your prefer.\n",
    "1. If you want $k=2$ clusters, partition with the Fiedler vector. For $k > 2$ clusters, run $k$-means on $Z$. Don't implement $k$-means, use the `KMeans` class imported from scikit-learn."
   ]
  },
  {
   "cell_type": "code",
   "execution_count": 45,
   "metadata": {},
   "outputs": [],
   "source": [
    "k=d=16\n",
    "Z = eigenvectors_norm[1:d+1] # select the 2n to the 17th eigenvector\n",
    "kmeans = KMeans(n_clusters=k).fit(Z.T)\n",
    "cluster_assignment = kmeans.labels_"
   ]
  },
  {
   "cell_type": "markdown",
   "metadata": {},
   "source": [
    "### Question 12\n",
    "\n",
    "Use the computed cluster assignment to reorder the adjacency matrix $A$.\n",
    "What do you expect? What do you observe?"
   ]
  },
  {
   "cell_type": "code",
   "execution_count": 46,
   "metadata": {},
   "outputs": [
    {
     "data": {
      "text/plain": [
       "<matplotlib.image.AxesImage at 0x1a1c401748>"
      ]
     },
     "execution_count": 46,
     "metadata": {},
     "output_type": "execute_result"
    },
    {
     "data": {
      "image/png": "[encoded data removed]",
      "text/plain": [
       "<Figure size 432x288 with 1 Axes>"
      ]
     },
     "metadata": {
      "needs_background": "light"
     },
     "output_type": "display_data"
    }
   ],
   "source": [
    "sorted_index = np.argsort(cluster_assignment)\n",
    "\n",
    "adjacency_clustered = np.empty((n_nodes, n_nodes), dtype=adjacency.dtype)\n",
    "adjacency.todense(out=adjacency_clustered) # copy matrix to dense\n",
    "adjacency_clustered=adjacency_clustered[:,sorted_index][sorted_index,:] # reorder rows and columns\n",
    "\n",
    "plt.spy(adjacency_clustered)"
   ]
  },
  {
   "cell_type": "markdown",
   "metadata": {},
   "source": [
    "**Your answer here.**\n",
    "\n",
    "One would expect denser connections around the diagonal, where the elements of the same class are connected with each other.\n",
    "\n",
    "**TODO: We observe some no clear structures, why?**"
   ]
  },
  {
   "cell_type": "markdown",
   "metadata": {},
   "source": [
    "### Question 13\n",
    "\n",
    "If you have ground truth clusters for your dataset, compare the cluster assignment from spectral clustering to the ground truth.\n",
    "A simple quantitative measure is to compute the percentage of nodes that have been correctly categorized.\n",
    "If you don't have a ground truth, qualitatively assess the quality of the clustering.\n",
    "\n",
    "Ground truth clusters are the \"real clusters\".\n",
    "For example, the genre of musical tracks in FMA, the category of Wikipedia articles, the spammer status of individuals, etc.\n",
    "Look for the `labels` in the [dataset descriptions](https://github.com/mdeff/ntds_2018/tree/master/projects/README.md)."
   ]
  },
  {
   "cell_type": "code",
   "execution_count": 47,
   "metadata": {},
   "outputs": [],
   "source": [
    "# Your code here."
   ]
  },
  {
   "cell_type": "markdown",
   "metadata": {},
   "source": [
    "### Question 14\n",
    "\n",
    "Plot the cluster assignment (one color per cluster) on the 2D embedding you computed above with Laplacian eigenmaps."
   ]
  },
  {
   "cell_type": "code",
   "execution_count": 51,
   "metadata": {},
   "outputs": [
    {
     "data": {
      "text/plain": [
       "<matplotlib.collections.PathCollection at 0x1a1cc4d748>"
      ]
     },
     "execution_count": 51,
     "metadata": {},
     "output_type": "execute_result"
    },
    {
     "data": {
      "image/png": "[encoded data removed]",
      "text/plain": [
       "<Figure size 432x288 with 1 Axes>"
      ]
     },
     "metadata": {
      "needs_background": "light"
     },
     "output_type": "display_data"
    }
   ],
   "source": [
    "class0 = eigenmaps_norm[cluster_assignment==0]\n",
    "class1 = eigenmaps_norm[cluster_assignment==1]\n",
    "# TODO: find smarter way ...\n",
    "\n",
    "plt.scatter(class0[:,0],class0[:,1])\n",
    "plt.scatter(class1[:,0],class1[:,1])"
   ]
  },
  {
   "cell_type": "code",
   "execution_count": 52,
   "metadata": {},
   "outputs": [
    {
     "data": {
      "text/plain": [
       "array([[ 2.37938860e-05, -1.38780060e-05],\n",
       "       [ 6.26928657e-05, -3.63471521e-05],\n",
       "       [ 7.36393879e-05, -4.11849578e-05],\n",
       "       [ 1.03310997e-04, -6.19718533e-05],\n",
       "       [ 9.23180849e-05, -5.18752383e-05],\n",
       "       [ 7.88677162e-05, -4.62725653e-05],\n",
       "       [ 7.13176800e-05, -4.22168494e-05],\n",
       "       [ 3.72483059e-05, -1.95926263e-05],\n",
       "       [ 4.37627369e-05, -2.21148283e-05],\n",
       "       [ 4.83577262e-05, -2.45739269e-05],\n",
       "       [ 3.90914658e-05, -2.33233289e-05],\n",
       "       [ 5.79390508e-05, -2.83771128e-05],\n",
       "       [ 5.96016434e-05, -3.41211093e-05],\n",
       "       [ 4.56400806e-05, -2.64205816e-05],\n",
       "       [ 5.73013199e-05, -3.45816702e-05],\n",
       "       [ 1.85357042e-05, -1.05307020e-05],\n",
       "       [ 2.48878820e-05, -1.47320488e-05],\n",
       "       [ 9.28290850e-05, -5.23182441e-05],\n",
       "       [ 2.65013553e-05, -1.55468162e-05],\n",
       "       [ 5.38409850e-05, -3.15261140e-05],\n",
       "       [ 6.76104799e-05, -4.08207172e-05],\n",
       "       [ 1.02163983e-04, -6.34750030e-05],\n",
       "       [ 1.20963576e-04, -6.41854628e-05],\n",
       "       [ 5.56678229e-05, -3.42251966e-05],\n",
       "       [ 4.09162849e-05, -2.35856224e-05],\n",
       "       [ 2.99749095e-05, -1.42797220e-05],\n",
       "       [ 4.73367912e-05, -2.77119945e-05],\n",
       "       [ 7.43889209e-05, -4.38339771e-05],\n",
       "       [ 1.17052800e-04, -7.10228216e-05],\n",
       "       [ 3.70874342e-05, -2.36826212e-05],\n",
       "       [ 7.52348766e-05, -4.78500190e-05],\n",
       "       [ 3.49980923e-05, -2.03431597e-05],\n",
       "       [ 5.72340008e-05, -3.42296288e-05],\n",
       "       [ 4.60535931e-05, -2.59287351e-05],\n",
       "       [ 4.99317350e-05, -2.91345817e-05],\n",
       "       [ 3.95069682e-05, -2.43788318e-05],\n",
       "       [ 4.53648652e-05, -2.59359155e-05],\n",
       "       [ 1.06740545e-04, -6.49111480e-05],\n",
       "       [ 4.60729415e-05, -2.58549343e-05],\n",
       "       [ 8.38943646e-05, -4.97081916e-05],\n",
       "       [ 9.57919861e-05, -5.73528625e-05],\n",
       "       [ 6.99706931e-05, -4.07214029e-05],\n",
       "       [ 3.28561869e-05, -1.94578278e-05],\n",
       "       [ 7.68048316e-05, -4.64281316e-05],\n",
       "       [ 3.18213989e-05, -2.27443912e-05],\n",
       "       [ 3.26286107e-05, -1.97514919e-05],\n",
       "       [ 6.78390701e-05, -3.37764441e-05],\n",
       "       [ 2.67265762e-05, -1.56457290e-05],\n",
       "       [ 2.62768694e-05, -1.53321685e-05],\n",
       "       [ 1.59100116e-04, -9.26936354e-05],\n",
       "       [ 5.07864162e-05, -2.92309856e-05],\n",
       "       [ 6.29717183e-05, -4.01302461e-05],\n",
       "       [ 4.35755154e-05, -2.55256873e-05],\n",
       "       [ 9.14870400e-05, -5.56803881e-05],\n",
       "       [ 6.64546922e-05, -3.99686220e-05],\n",
       "       [ 6.15781371e-05, -3.69708738e-05],\n",
       "       [ 1.15054020e-04, -6.19250273e-05],\n",
       "       [ 1.02719063e-04, -5.96567049e-05],\n",
       "       [ 2.46190333e-05, -1.82891522e-05],\n",
       "       [ 1.12275652e-04, -7.16874304e-05],\n",
       "       [ 3.86188930e-05, -2.27523315e-05],\n",
       "       [ 2.24984641e-05, -1.36806054e-05],\n",
       "       [ 7.12253849e-05, -4.18484936e-05],\n",
       "       [ 1.59829304e-04, -9.13662407e-05],\n",
       "       [ 4.97889405e-05, -3.11690258e-05],\n",
       "       [ 1.01656748e-04, -6.29273553e-05],\n",
       "       [ 2.11911036e-04, -1.25599868e-04],\n",
       "       [ 1.52464638e-04, -9.03564833e-05],\n",
       "       [ 9.33795405e-05, -5.42196633e-05],\n",
       "       [ 4.30431869e-05, -2.00981414e-05],\n",
       "       [ 6.44700189e-05, -3.96145788e-05],\n",
       "       [ 3.73157561e-05,  2.86225366e-05],\n",
       "       [ 1.66863368e-04, -8.92504499e-05],\n",
       "       [ 7.19017999e-05, -3.97917711e-05],\n",
       "       [ 4.07734228e-05, -3.41571522e-05],\n",
       "       [ 4.91838394e-05, -5.09078265e-05],\n",
       "       [ 5.75779563e-05, -5.11618950e-05],\n",
       "       [ 1.17614757e-04, -5.72071521e-05],\n",
       "       [ 5.21891499e-05, -2.67116543e-05],\n",
       "       [ 7.57657599e-05, -4.36577973e-05],\n",
       "       [ 5.02666708e-05, -3.21135862e-05],\n",
       "       [ 6.99892643e-05, -3.96381233e-05],\n",
       "       [ 4.75136147e-05, -2.66532961e-05],\n",
       "       [ 1.23381812e-04, -7.79147614e-05],\n",
       "       [ 8.36087325e-05, -5.07239857e-05],\n",
       "       [ 8.25048981e-05, -5.05974479e-05],\n",
       "       [ 3.90739796e-05, -2.99257437e-05],\n",
       "       [ 5.31522995e-05, -3.21807232e-05],\n",
       "       [ 7.12849279e-05, -4.23918877e-05],\n",
       "       [ 9.54016102e-05, -5.78602591e-05],\n",
       "       [ 3.25688839e-05, -1.88430427e-05],\n",
       "       [ 5.21596772e-05, -3.06690799e-05],\n",
       "       [ 8.72405527e-05, -5.50574998e-05],\n",
       "       [ 8.50934307e-05, -4.93259337e-05],\n",
       "       [ 5.14660922e-05, -2.85760392e-05],\n",
       "       [ 1.46378933e-04, -6.52880605e-05],\n",
       "       [ 7.59263791e-05, -4.38408656e-05],\n",
       "       [ 4.63045259e-05, -2.84309895e-05],\n",
       "       [ 4.79720364e-05, -3.03699364e-05],\n",
       "       [ 5.10263440e-05, -2.84384000e-05],\n",
       "       [ 4.12322521e-05, -3.53036280e-05],\n",
       "       [ 6.81900457e-05, -4.03575585e-05],\n",
       "       [ 7.64142826e-05, -4.51684305e-05],\n",
       "       [ 2.47734763e-05, -6.43683388e-05],\n",
       "       [ 4.73042853e-05, -2.84360418e-05],\n",
       "       [ 5.88659521e-05, -2.88086685e-05],\n",
       "       [ 8.89213014e-05, -5.19503229e-05],\n",
       "       [ 1.26705317e-04, -7.69448789e-05],\n",
       "       [ 3.63721170e-05, -2.09031631e-05],\n",
       "       [ 4.07344461e-05, -2.44161962e-05],\n",
       "       [ 7.09191475e-05, -4.43498124e-05],\n",
       "       [ 5.13546259e-05, -2.93085694e-05],\n",
       "       [ 4.31410774e-05, -2.86423349e-05],\n",
       "       [ 1.45530562e-04, -9.11852289e-05],\n",
       "       [ 4.70110984e-05, -2.80301788e-05],\n",
       "       [ 7.60215379e-05, -3.86583621e-05],\n",
       "       [-9.40598209e-05, -1.83777730e-05],\n",
       "       [ 2.76837561e-05, -1.67465960e-05],\n",
       "       [ 7.15140465e-05, -4.05449724e-05],\n",
       "       [ 1.09320989e-04, -6.54818353e-05],\n",
       "       [ 1.50775164e-04, -8.99476837e-05],\n",
       "       [ 7.82473548e-05, -4.74684764e-05],\n",
       "       [ 4.33447290e-05, -2.59841424e-05],\n",
       "       [ 4.10541038e-05, -2.30205835e-05],\n",
       "       [ 2.96190655e-05, -4.38261892e-05],\n",
       "       [ 1.00868290e-04, -5.92786238e-05],\n",
       "       [ 1.37383980e-04, -6.91690993e-05],\n",
       "       [ 6.25939156e-05, -3.79637209e-05],\n",
       "       [ 3.39077781e-05, -1.97601007e-05],\n",
       "       [ 4.58112637e-05, -3.58664452e-05],\n",
       "       [ 5.16029240e-05, -2.05491294e-05],\n",
       "       [ 3.86129088e-05, -2.40185242e-05],\n",
       "       [ 3.47131550e-05, -2.39309400e-05],\n",
       "       [ 2.07686626e-04, -1.23153151e-04],\n",
       "       [ 1.38109116e-04, -8.38159487e-05],\n",
       "       [ 1.56320236e-04, -9.11269555e-05],\n",
       "       [ 1.18096609e-04,  1.16031957e-03],\n",
       "       [ 5.15494365e-05, -3.04797882e-05],\n",
       "       [ 4.90878298e-05, -2.99879254e-05],\n",
       "       [ 7.63351765e-05, -4.85492796e-05],\n",
       "       [ 6.94396188e-05, -3.51358766e-05],\n",
       "       [ 8.14814004e-05, -4.48889379e-05],\n",
       "       [ 1.32697775e-04, -9.16144826e-05],\n",
       "       [ 4.53648692e-05, -2.34547633e-05],\n",
       "       [ 2.66116742e-05, -1.55980436e-05],\n",
       "       [ 3.41642925e-05, -1.90803012e-05],\n",
       "       [ 2.12589889e-04, -1.24627682e-04],\n",
       "       [ 3.74142472e-05, -2.15428096e-05],\n",
       "       [ 5.93645553e-05, -2.66425862e-05],\n",
       "       [ 6.35818298e-05, -3.35677620e-05],\n",
       "       [ 2.81130785e-05, -1.77419153e-05],\n",
       "       [ 4.66051221e-05, -2.74142411e-05],\n",
       "       [ 3.84372058e-05, -2.26748780e-05],\n",
       "       [ 2.79391500e-05, -1.58153741e-05],\n",
       "       [ 4.95925972e-05, -3.07476371e-05],\n",
       "       [ 6.55373296e-05, -3.19956671e-05],\n",
       "       [ 1.24819681e-04, -7.24226719e-05],\n",
       "       [ 1.35918340e-04, -7.71873320e-05],\n",
       "       [ 2.40854398e-05, -1.46756006e-05],\n",
       "       [ 8.42294011e-05, -5.28529820e-05],\n",
       "       [ 6.21912646e-05, -3.41772598e-05],\n",
       "       [ 3.55302148e-05, -2.08132435e-05],\n",
       "       [ 2.85936809e-05, -1.87681471e-05],\n",
       "       [ 4.65677815e-05, -2.68871691e-05],\n",
       "       [ 6.57694697e-05, -3.53419773e-05],\n",
       "       [ 1.71930360e-05, -9.99289697e-06],\n",
       "       [ 2.13790837e-05, -1.26602856e-05],\n",
       "       [ 3.86365192e-05, -2.27854611e-05],\n",
       "       [ 2.13785277e-05, -1.81496763e-05],\n",
       "       [ 1.31302508e-05, -7.73739958e-06],\n",
       "       [ 1.14642401e-04, -4.16649657e-05],\n",
       "       [ 6.43964087e-05, -3.93007198e-05],\n",
       "       [ 1.15196798e-04, -7.06620421e-05],\n",
       "       [ 4.26610192e-05, -2.49109353e-05],\n",
       "       [ 5.56473487e-05, -3.33671023e-05],\n",
       "       [ 8.97603956e-05, -6.27425586e-05],\n",
       "       [ 8.68048023e-05, -4.10458932e-05],\n",
       "       [ 1.43636885e-04, -7.11077947e-05],\n",
       "       [ 1.02297319e-04, -5.84465769e-05],\n",
       "       [ 7.80292557e-05, -5.66803161e-05],\n",
       "       [ 6.67745319e-05, -3.77078520e-05],\n",
       "       [ 1.16103524e-04, -6.96948076e-05],\n",
       "       [ 1.57115259e-04, -9.29817382e-05],\n",
       "       [ 1.02763536e-04, -6.53524917e-05],\n",
       "       [ 4.74933750e-05, -2.90857652e-05],\n",
       "       [ 1.18676988e-04, -7.01433775e-05],\n",
       "       [ 5.88050284e-05, -3.46398005e-05],\n",
       "       [ 1.81286271e-05, -6.77196099e-05],\n",
       "       [ 5.83533860e-05, -3.34575274e-05],\n",
       "       [ 6.92405141e-05, -4.09424253e-05],\n",
       "       [ 5.76021986e-05, -3.41519855e-05],\n",
       "       [ 7.43540377e-05, -4.06962515e-05],\n",
       "       [ 7.96976747e-05, -4.98465307e-05],\n",
       "       [ 2.80447914e-05, -1.63006158e-05],\n",
       "       [ 3.68318463e-05, -2.38845510e-05],\n",
       "       [ 3.47556552e-05, -2.12099887e-05],\n",
       "       [ 3.44336917e-05, -1.96730449e-05],\n",
       "       [ 4.29166465e-05, -2.45772691e-05],\n",
       "       [ 3.68895687e-05, -2.14367093e-05],\n",
       "       [ 2.03759297e-04, -6.74606216e-05],\n",
       "       [ 8.24330324e-05,  1.14167930e-04],\n",
       "       [ 8.05975208e-05, -4.83214127e-05],\n",
       "       [ 1.15425525e-04, -7.14743336e-05],\n",
       "       [ 1.06857368e-04, -6.55488994e-05],\n",
       "       [ 5.91148280e-05, -3.36225471e-05],\n",
       "       [ 3.78378653e-05, -2.28165276e-05],\n",
       "       [ 4.51347608e-05, -2.57857513e-05],\n",
       "       [ 6.18305455e-05, -3.71420433e-05],\n",
       "       [ 4.06406195e-05, -2.21260030e-05],\n",
       "       [ 2.22886600e-05, -1.30558143e-05],\n",
       "       [ 9.07602843e-05, -5.05238696e-05],\n",
       "       [ 6.55954014e-05, -3.87798024e-05],\n",
       "       [ 7.02527907e-05, -4.18177705e-05],\n",
       "       [ 2.74114178e-05, -1.62570836e-05],\n",
       "       [ 5.08885552e-05, -3.10223892e-05],\n",
       "       [ 4.24633858e-05, -2.00453392e-05],\n",
       "       [ 7.89124643e-05, -4.79007839e-05],\n",
       "       [ 1.42587425e-04, -8.50912528e-05],\n",
       "       [ 7.72634866e-05, -4.43705793e-05],\n",
       "       [ 8.66315343e-05, -5.14255700e-05],\n",
       "       [ 4.66715578e-05, -2.50642701e-05],\n",
       "       [ 1.87277803e-04, -1.15765374e-04],\n",
       "       [ 6.77896846e-05, -3.16446316e-05],\n",
       "       [ 2.65645760e-05, -1.61921364e-05],\n",
       "       [ 2.07630682e-04, -1.39696081e-04],\n",
       "       [ 4.09505906e-05, -2.65785953e-05],\n",
       "       [ 5.57208051e-05, -3.29498554e-05],\n",
       "       [ 4.88860746e-05, -2.23038158e-05],\n",
       "       [ 5.59646798e-05, -3.43671112e-05],\n",
       "       [ 2.10576398e-04, -1.19443739e-04],\n",
       "       [ 9.84509171e-05, -5.85867251e-05],\n",
       "       [ 5.27852257e-05, -4.11960426e-05],\n",
       "       [ 1.12038454e-04, -6.74217539e-05],\n",
       "       [ 6.61989770e-05, -3.85616454e-05],\n",
       "       [ 8.64159937e-05, -4.83918180e-05],\n",
       "       [ 6.72620602e-05,  4.85553015e-03],\n",
       "       [ 4.51629439e-05, -2.53196187e-05],\n",
       "       [ 5.63114071e-05, -3.45602449e-05],\n",
       "       [ 4.50769991e-05, -2.44159950e-05],\n",
       "       [ 3.40134730e-05, -1.95325238e-05],\n",
       "       [ 3.99743117e-05, -2.07819767e-05],\n",
       "       [ 1.01183023e-04, -6.38872738e-05],\n",
       "       [ 6.79460130e-05, -6.02351852e-05],\n",
       "       [ 4.26963199e-05, -2.56076525e-05],\n",
       "       [ 9.03703290e-05, -6.91078515e-05],\n",
       "       [ 4.49685488e-05, -2.64683698e-05],\n",
       "       [ 4.87740212e-05, -2.84283658e-05],\n",
       "       [ 8.81616251e-05, -5.83608244e-05],\n",
       "       [ 6.42489468e-05, -3.92105779e-05],\n",
       "       [ 4.71154093e-05, -2.90714051e-05],\n",
       "       [ 6.87607674e-05, -3.98922385e-05],\n",
       "       [ 5.34835872e-05, -3.45607041e-05],\n",
       "       [ 2.49361200e-05, -3.11201952e-05],\n",
       "       [ 4.35734274e-05, -2.44902528e-05],\n",
       "       [ 3.31042455e-05, -1.91488767e-05],\n",
       "       [ 6.43442249e-05, -3.84032891e-05],\n",
       "       [ 5.45716181e-05, -3.66024129e-05],\n",
       "       [ 4.41013349e-05, -2.82166759e-05],\n",
       "       [ 8.58839045e-05, -5.40538394e-05],\n",
       "       [ 3.95796686e-05, -2.31904685e-05],\n",
       "       [ 5.75244585e-05, -3.13593867e-05],\n",
       "       [ 1.03739633e-04, -6.65417874e-05],\n",
       "       [ 2.49788487e-05, -1.39309236e-05],\n",
       "       [ 1.54929272e-04, -1.13654507e-04],\n",
       "       [ 4.58869707e-05, -2.75750655e-05],\n",
       "       [ 7.02952777e-05, -3.96457677e-05],\n",
       "       [ 6.94402386e-05, -4.21995868e-05],\n",
       "       [ 1.48714878e-04, -9.46298264e-05],\n",
       "       [ 1.28199863e-04, -7.40360882e-05],\n",
       "       [ 5.55684940e-05, -3.08206052e-05],\n",
       "       [ 8.24725574e-05, -4.30309066e-05],\n",
       "       [ 4.13232749e-04, -2.58805627e-04],\n",
       "       [ 5.36173143e-05, -3.15404130e-05],\n",
       "       [ 1.02458222e-04, -6.36402579e-05],\n",
       "       [ 7.70615173e-05, -4.85454800e-05],\n",
       "       [ 4.85406742e-05, -2.86404491e-05],\n",
       "       [ 2.86686128e-05, -1.68916918e-05],\n",
       "       [ 5.00178137e-05, -2.99201953e-05],\n",
       "       [ 5.37660980e-05, -3.12983853e-05],\n",
       "       [ 4.31225218e-05, -2.50520435e-05],\n",
       "       [ 5.96332722e-05, -3.40692118e-05],\n",
       "       [ 5.03470550e-05, -2.66511499e-05],\n",
       "       [ 4.58341979e-05, -2.56610907e-05],\n",
       "       [ 6.02845152e-05, -3.51509089e-05],\n",
       "       [ 4.07850922e-05, -4.31362684e-05],\n",
       "       [ 7.16965252e-05, -3.60490783e-05],\n",
       "       [ 4.02751400e-04, -2.37335023e-04],\n",
       "       [ 5.38775147e-05, -3.20483649e-05],\n",
       "       [ 2.85683974e-05, -1.57881694e-05],\n",
       "       [ 2.83717564e-05, -1.59943475e-05],\n",
       "       [ 6.62696705e-05, -4.05505669e-05],\n",
       "       [ 4.10528815e-05, -2.34239361e-05],\n",
       "       [ 2.95359799e-05, -1.56816808e-05],\n",
       "       [ 4.52059596e-05, -2.76467622e-05],\n",
       "       [ 6.44707001e-05, -3.79127352e-05],\n",
       "       [ 5.74867220e-05, -3.24656557e-05],\n",
       "       [ 5.22621884e-05, -3.10101523e-05],\n",
       "       [ 2.50073882e-05, -1.46842708e-05],\n",
       "       [ 4.09772646e-05, -2.39664097e-05],\n",
       "       [ 4.46143906e-05, -4.39641640e-05],\n",
       "       [ 8.52252320e-05, -5.12959936e-05],\n",
       "       [ 5.08365972e-05, -2.98292681e-05],\n",
       "       [ 9.21660983e-05, -5.72453939e-05],\n",
       "       [ 6.10864009e-05, -3.64123343e-05],\n",
       "       [ 1.11897306e-04, -6.54756195e-05],\n",
       "       [ 9.02260087e-05, -5.81460452e-05],\n",
       "       [ 2.74606230e-05, -1.90995722e-05],\n",
       "       [ 7.26392315e-05, -4.54425736e-05],\n",
       "       [ 7.62557384e-05, -2.84935617e-05],\n",
       "       [ 7.93976359e-05, -4.69919648e-05],\n",
       "       [ 1.14439137e-04, -7.30645659e-05],\n",
       "       [ 1.04378273e-04, -5.92702666e-05],\n",
       "       [ 4.51589110e-05, -2.66144514e-05],\n",
       "       [ 1.83751087e-04, -1.08355689e-04],\n",
       "       [ 4.47697053e-05, -3.05578310e-05],\n",
       "       [ 5.70098885e-05, -3.44293214e-05],\n",
       "       [ 2.97744436e-05, -1.74961806e-05],\n",
       "       [ 5.87117896e-05, -3.21771888e-05],\n",
       "       [ 3.09592795e-04, -2.12382099e-04],\n",
       "       [ 3.05194508e-05, -1.66090697e-05],\n",
       "       [ 6.03675794e-05, -3.54909699e-05],\n",
       "       [ 5.18257943e-05, -2.82852809e-05],\n",
       "       [ 7.02284290e-05, -3.76466917e-05],\n",
       "       [ 5.64267364e-05, -3.03123750e-05],\n",
       "       [ 1.04871696e-04, -5.88442943e-05],\n",
       "       [ 5.89102976e-05, -3.47697183e-05],\n",
       "       [ 3.12266429e-05, -1.79870611e-05],\n",
       "       [ 5.02051970e-05, -2.75179049e-05],\n",
       "       [ 1.35870339e-05, -7.86964418e-06],\n",
       "       [ 7.74258986e-05, -3.49889447e-05],\n",
       "       [ 1.44451344e-04, -9.15652061e-05],\n",
       "       [ 2.65081242e-05, -1.49796962e-05],\n",
       "       [ 7.72872116e-05, -4.09715694e-05],\n",
       "       [ 1.20002906e-04, -7.26330862e-05],\n",
       "       [ 4.66949556e-05, -2.84627446e-05],\n",
       "       [-4.70380987e-04, -3.22239884e-05],\n",
       "       [ 2.21106724e-05, -1.30976958e-05],\n",
       "       [ 2.56379805e-03, -7.53879059e-03],\n",
       "       [ 8.40953529e-05, -4.43994287e-05],\n",
       "       [ 3.65535226e-05, -1.70066119e-05],\n",
       "       [ 5.78341857e-05, -3.37381038e-05],\n",
       "       [ 1.68895090e-05, -9.86394447e-06],\n",
       "       [ 2.65020953e-04, -1.65442743e-04],\n",
       "       [ 4.84847527e-05, -2.85043064e-05],\n",
       "       [ 7.80675313e-05, -4.66862387e-05],\n",
       "       [ 6.67085562e-05, -3.67181630e-05],\n",
       "       [ 7.29856237e-05, -4.71553250e-05],\n",
       "       [ 3.00839291e-05, -3.75656860e-05],\n",
       "       [ 5.02646062e-05, -2.96519567e-05],\n",
       "       [ 1.06910982e-04, -5.80400158e-05],\n",
       "       [ 3.53042532e-05, -1.98763538e-05],\n",
       "       [ 2.34711116e-05, -1.33096660e-05],\n",
       "       [ 9.34635711e-05, -5.69495976e-05],\n",
       "       [ 4.54580794e-05, -2.41202591e-05],\n",
       "       [ 4.51922273e-05, -2.89712431e-05],\n",
       "       [ 5.37050944e-05, -3.31459193e-05],\n",
       "       [ 4.14608090e-04, -2.69484662e-04],\n",
       "       [ 1.34503276e-04, -7.53254002e-05],\n",
       "       [ 1.44403244e-04, -8.04529392e-05],\n",
       "       [ 2.89208997e-05, -1.53919704e-05],\n",
       "       [ 5.84520380e-05, -3.58373072e-05],\n",
       "       [ 4.40903553e-05, -2.56867817e-05],\n",
       "       [ 1.13390060e-04, -5.94379187e-05],\n",
       "       [ 1.11639953e-04, -5.76467667e-05],\n",
       "       [ 1.16108751e-04, -6.15791335e-05],\n",
       "       [ 7.57709162e-05, -4.55987947e-05],\n",
       "       [ 6.26698309e-05, -4.35622416e-05],\n",
       "       [ 3.49039356e-05, -2.03404574e-05],\n",
       "       [ 5.23564140e-05, -4.15075837e-05],\n",
       "       [ 7.02634050e-05, -4.34929790e-05],\n",
       "       [ 1.09339622e-04, -5.90842400e-05],\n",
       "       [ 4.96664787e-05, -2.83641770e-05],\n",
       "       [ 4.28116605e-05, -2.31684111e-05],\n",
       "       [ 2.32770431e-05, -1.44159030e-05],\n",
       "       [ 1.55075133e-05, -8.43191329e-06],\n",
       "       [ 1.44298313e-04, -9.13493390e-05],\n",
       "       [ 6.80178538e-05, -3.89866321e-05],\n",
       "       [ 2.02528430e-05, -1.89170598e-05],\n",
       "       [ 4.40515507e-05, -3.29864993e-05],\n",
       "       [ 7.36948518e-05, -4.15008898e-05],\n",
       "       [ 1.15366200e-04, -6.93504035e-05]])"
      ]
     },
     "execution_count": 52,
     "metadata": {},
     "output_type": "execute_result"
    }
   ],
   "source": [
    "np.unique(cluster_assignment)\n",
    "np.unique(cluster_assignment==3)\n",
    "eigenmaps_norm[cluster_assignment==4,:]"
   ]
  },
  {
   "cell_type": "markdown",
   "metadata": {},
   "source": [
    "### Question 15\n",
    "\n",
    "Why did we use the eigenvectors of the graph Laplacian as features? Could we use other features for clustering?"
   ]
  },
  {
   "cell_type": "markdown",
   "metadata": {},
   "source": [
    "**Your answer here.**\n",
    "\n",
    "Each eigenvector minimize the gradient of the signal ($\\sum (x_i-x_j)$) up to the condition to be orthogonal to the previous eigenvectors. Hence, the first eigenvectors each gives rise to a as-smooth-as-possible signal, where points that are close have close signal value and points that are far away have larger difference of values. It returns a good clustering. There are other methods to cluster a graph, for example one could use k-mean on nearest neigbors without using eigenvectors. The utility of projection on eigenvectors spaces in the reduction of dimension. "
   ]
  },
  {
   "cell_type": "markdown",
   "metadata": {},
   "source": [
    "### Finding labels for wiki dataset"
   ]
  },
  {
   "cell_type": "code",
   "execution_count": 29,
   "metadata": {},
   "outputs": [
    {
     "data": {
      "text/html": [
       "<div>\n",
       "<style scoped>\n",
       "    .dataframe tbody tr th:only-of-type {\n",
       "        vertical-align: middle;\n",
       "    }\n",
       "\n",
       "    .dataframe tbody tr th {\n",
       "        vertical-align: top;\n",
       "    }\n",
       "\n",
       "    .dataframe thead th {\n",
       "        text-align: right;\n",
       "    }\n",
       "</style>\n",
       "<table border=\"1\" class=\"dataframe\">\n",
       "  <thead>\n",
       "    <tr style=\"text-align: right;\">\n",
       "      <th></th>\n",
       "      <th>index</th>\n",
       "      <th>article</th>\n",
       "      <th>category</th>\n",
       "    </tr>\n",
       "  </thead>\n",
       "  <tbody>\n",
       "    <tr>\n",
       "      <th>0</th>\n",
       "      <td>0</td>\n",
       "      <td>10th_century</td>\n",
       "      <td>[subject.History.General_history]</td>\n",
       "    </tr>\n",
       "    <tr>\n",
       "      <th>1</th>\n",
       "      <td>1</td>\n",
       "      <td>11th_century</td>\n",
       "      <td>[subject.History.General_history]</td>\n",
       "    </tr>\n",
       "    <tr>\n",
       "      <th>2</th>\n",
       "      <td>2</td>\n",
       "      <td>12th_century</td>\n",
       "      <td>[subject.History.General_history]</td>\n",
       "    </tr>\n",
       "    <tr>\n",
       "      <th>3</th>\n",
       "      <td>3</td>\n",
       "      <td>13th_century</td>\n",
       "      <td>[subject.History.General_history]</td>\n",
       "    </tr>\n",
       "    <tr>\n",
       "      <th>4</th>\n",
       "      <td>4</td>\n",
       "      <td>14th_century</td>\n",
       "      <td>[subject.History.General_history]</td>\n",
       "    </tr>\n",
       "  </tbody>\n",
       "</table>\n",
       "</div>"
      ],
      "text/plain": [
       "   index       article                           category\n",
       "0      0  10th_century  [subject.History.General_history]\n",
       "1      1  11th_century  [subject.History.General_history]\n",
       "2      2  12th_century  [subject.History.General_history]\n",
       "3      3  13th_century  [subject.History.General_history]\n",
       "4      4  14th_century  [subject.History.General_history]"
      ]
     },
     "execution_count": 29,
     "metadata": {},
     "output_type": "execute_result"
    }
   ],
   "source": [
    "import pandas as pd\n",
    "df_labels = pd.read_pickle('../milestone1/article_df_larg_wcc.pickle')\n",
    "df_labels.head()"
   ]
  },
  {
   "cell_type": "code",
   "execution_count": 30,
   "metadata": {},
   "outputs": [],
   "source": [
    "number_attributes = [len(cat) if type(cat)!=float else 0 for cat in df_labels.category  ]"
   ]
  },
  {
   "cell_type": "markdown",
   "metadata": {},
   "source": [
    "### The distribution of number of labels per node: \n",
    "note most have just 1. Because k-means does hard clustering, for the ones that have more than 1 label, we decide we randomly select just one. "
   ]
  },
  {
   "cell_type": "code",
   "execution_count": 31,
   "metadata": {},
   "outputs": [
    {
     "data": {
      "text/plain": [
       "(array([1.00e+00, 0.00e+00, 0.00e+00, 3.99e+03, 0.00e+00, 0.00e+00,\n",
       "        5.90e+02, 0.00e+00, 0.00e+00, 8.00e+00]),\n",
       " array([0. , 0.3, 0.6, 0.9, 1.2, 1.5, 1.8, 2.1, 2.4, 2.7, 3. ]),\n",
       " <a list of 10 Patch objects>)"
      ]
     },
     "execution_count": 31,
     "metadata": {},
     "output_type": "execute_result"
    },
    {
     "data": {
      "image/png": "[encoded data removed]",
      "text/plain": [
       "<Figure size 432x288 with 1 Axes>"
      ]
     },
     "metadata": {
      "needs_background": "light"
     },
     "output_type": "display_data"
    }
   ],
   "source": [
    "plt.hist(np.array(number_attributes))"
   ]
  },
  {
   "cell_type": "code",
   "execution_count": 32,
   "metadata": {},
   "outputs": [
    {
     "data": {
      "text/plain": [
       "(array([1.00e+00, 0.00e+00, 0.00e+00, 3.99e+03, 0.00e+00, 0.00e+00,\n",
       "        5.90e+02, 0.00e+00, 0.00e+00, 8.00e+00]),\n",
       " array([0. , 0.3, 0.6, 0.9, 1.2, 1.5, 1.8, 2.1, 2.4, 2.7, 3. ]),\n",
       " <a list of 10 Patch objects>)"
      ]
     },
     "execution_count": 32,
     "metadata": {},
     "output_type": "execute_result"
    },
    {
     "data": {
      "image/png": "[encoded data removed]",
      "text/plain": [
       "<Figure size 432x288 with 1 Axes>"
      ]
     },
     "metadata": {
      "needs_background": "light"
     },
     "output_type": "display_data"
    }
   ],
   "source": [
    "# just to show there are labels with 0 or 3 attributes\n",
    "plt.hist(np.array(number_attributes), log=True)"
   ]
  },
  {
   "cell_type": "code",
   "execution_count": 33,
   "metadata": {},
   "outputs": [],
   "source": [
    "def select_random_label(cat_list):\n",
    "    if type(cat_list) == float:\n",
    "        return 'Unk'\n",
    "    if len(cat_list) == 1:\n",
    "        return cat_list[0]\n",
    "    rand_idx = np.random.randint(0, len(cat_list))\n",
    "    return cat_list[rand_idx]"
   ]
  },
  {
   "cell_type": "code",
   "execution_count": 34,
   "metadata": {},
   "outputs": [],
   "source": [
    "df_labels['selected_category'] = df_labels.category.apply(select_random_label)"
   ]
  },
  {
   "cell_type": "code",
   "execution_count": 35,
   "metadata": {},
   "outputs": [
    {
     "data": {
      "text/html": [
       "<div>\n",
       "<style scoped>\n",
       "    .dataframe tbody tr th:only-of-type {\n",
       "        vertical-align: middle;\n",
       "    }\n",
       "\n",
       "    .dataframe tbody tr th {\n",
       "        vertical-align: top;\n",
       "    }\n",
       "\n",
       "    .dataframe thead th {\n",
       "        text-align: right;\n",
       "    }\n",
       "</style>\n",
       "<table border=\"1\" class=\"dataframe\">\n",
       "  <thead>\n",
       "    <tr style=\"text-align: right;\">\n",
       "      <th></th>\n",
       "      <th>index</th>\n",
       "      <th>article</th>\n",
       "      <th>category</th>\n",
       "      <th>selected_category</th>\n",
       "    </tr>\n",
       "  </thead>\n",
       "  <tbody>\n",
       "    <tr>\n",
       "      <th>4594</th>\n",
       "      <td>4594</td>\n",
       "      <td>Édouard_Manet</td>\n",
       "      <td>[subject.People.Artists]</td>\n",
       "      <td>subject.People.Artists</td>\n",
       "    </tr>\n",
       "    <tr>\n",
       "      <th>4595</th>\n",
       "      <td>4595</td>\n",
       "      <td>Éire</td>\n",
       "      <td>[subject.Countries, subject.Geography.European...</td>\n",
       "      <td>subject.Geography.European_Geography.European_...</td>\n",
       "    </tr>\n",
       "    <tr>\n",
       "      <th>4596</th>\n",
       "      <td>4596</td>\n",
       "      <td>Óengus_I_of_the_Picts</td>\n",
       "      <td>[subject.History.British_History.British_Histo...</td>\n",
       "      <td>subject.People.Historical_figures</td>\n",
       "    </tr>\n",
       "    <tr>\n",
       "      <th>4597</th>\n",
       "      <td>4597</td>\n",
       "      <td>€2_commemorative_coins</td>\n",
       "      <td>[subject.Business_Studies.Currency]</td>\n",
       "      <td>subject.Business_Studies.Currency</td>\n",
       "    </tr>\n",
       "    <tr>\n",
       "      <th>4599</th>\n",
       "      <td>4599</td>\n",
       "      <td>Pikachu</td>\n",
       "      <td>NaN</td>\n",
       "      <td>Unk</td>\n",
       "    </tr>\n",
       "  </tbody>\n",
       "</table>\n",
       "</div>"
      ],
      "text/plain": [
       "      index                 article  \\\n",
       "4594   4594           Édouard_Manet   \n",
       "4595   4595                    Éire   \n",
       "4596   4596   Óengus_I_of_the_Picts   \n",
       "4597   4597  €2_commemorative_coins   \n",
       "4599   4599                 Pikachu   \n",
       "\n",
       "                                               category  \\\n",
       "4594                           [subject.People.Artists]   \n",
       "4595  [subject.Countries, subject.Geography.European...   \n",
       "4596  [subject.History.British_History.British_Histo...   \n",
       "4597                [subject.Business_Studies.Currency]   \n",
       "4599                                                NaN   \n",
       "\n",
       "                                      selected_category  \n",
       "4594                             subject.People.Artists  \n",
       "4595  subject.Geography.European_Geography.European_...  \n",
       "4596                  subject.People.Historical_figures  \n",
       "4597                  subject.Business_Studies.Currency  \n",
       "4599                                                Unk  "
      ]
     },
     "execution_count": 35,
     "metadata": {},
     "output_type": "execute_result"
    }
   ],
   "source": [
    "df_labels.tail()"
   ]
  },
  {
   "cell_type": "markdown",
   "metadata": {},
   "source": [
    "### The distribution of levels per label"
   ]
  },
  {
   "cell_type": "code",
   "execution_count": 36,
   "metadata": {},
   "outputs": [
    {
     "data": {
      "text/plain": [
       "(array([1.000e+00, 0.000e+00, 0.000e+00, 1.680e+02, 0.000e+00, 0.000e+00,\n",
       "        3.164e+03, 0.000e+00, 0.000e+00, 1.256e+03]),\n",
       " array([1. , 1.3, 1.6, 1.9, 2.2, 2.5, 2.8, 3.1, 3.4, 3.7, 4. ]),\n",
       " <a list of 10 Patch objects>)"
      ]
     },
     "execution_count": 36,
     "metadata": {},
     "output_type": "execute_result"
    },
    {
     "data": {
      "image/png": "[encoded data removed]",
      "text/plain": [
       "<Figure size 432x288 with 1 Axes>"
      ]
     },
     "metadata": {
      "needs_background": "light"
     },
     "output_type": "display_data"
    }
   ],
   "source": [
    "df_labels.selected_category = df_labels.selected_category.apply(lambda x: x.split('.'))\n",
    "number_levels = [len(levels) for levels in df_labels.selected_category]\n",
    "plt.hist(np.array(number_levels))"
   ]
  },
  {
   "cell_type": "code",
   "execution_count": 37,
   "metadata": {},
   "outputs": [
    {
     "data": {
      "text/plain": [
       "level_0\n",
       "Unk           1\n",
       "subject    4588\n",
       "dtype: int64"
      ]
     },
     "execution_count": 37,
     "metadata": {},
     "output_type": "execute_result"
    }
   ],
   "source": [
    "df_labels['level_0'] = [label[0] for label in df_labels.selected_category]\n",
    "df_labels.groupby('level_0').size()"
   ]
  },
  {
   "cell_type": "code",
   "execution_count": 38,
   "metadata": {},
   "outputs": [],
   "source": [
    "# that renders a useless clustering since all pages with a category have as root subject. Remove column\n",
    "df_labels.drop('level_0', inplace=True, axis=1)"
   ]
  },
  {
   "cell_type": "code",
   "execution_count": 39,
   "metadata": {},
   "outputs": [
    {
     "data": {
      "text/plain": [
       "level_1\n",
       "Art                          34\n",
       "Business_Studies             82\n",
       "Citizenship                 203\n",
       "Countries                   124\n",
       "Design_and_Technology       225\n",
       "Everyday_life               330\n",
       "Geography                   918\n",
       "History                     455\n",
       "IT                           77\n",
       "Language_and_literature     183\n",
       "Mathematics                  44\n",
       "Music                        95\n",
       "People                      625\n",
       "Religion                    127\n",
       "Science                    1066\n",
       "Unk                           1\n",
       "dtype: int64"
      ]
     },
     "execution_count": 39,
     "metadata": {},
     "output_type": "execute_result"
    }
   ],
   "source": [
    "df_labels['level_1'] = [label[1] if len(label)>1 else 'Unk' for label in df_labels.selected_category]\n",
    "level_1_labels = df_labels.groupby('level_1').size()\n",
    "level_1_labels"
   ]
  },
  {
   "cell_type": "code",
   "execution_count": 40,
   "metadata": {},
   "outputs": [
    {
     "data": {
      "text/plain": [
       "<matplotlib.axes._subplots.AxesSubplot at 0x1a26806668>"
      ]
     },
     "execution_count": 40,
     "metadata": {},
     "output_type": "execute_result"
    },
    {
     "data": {
      "image/png": "[encoded data removed]",
      "text/plain": [
       "<Figure size 432x288 with 1 Axes>"
      ]
     },
     "metadata": {
      "needs_background": "light"
     },
     "output_type": "display_data"
    }
   ],
   "source": [
    "# plot it in terms of percentage\n",
    "level_1_labels = level_1_labels / sum(level_1_labels)\n",
    "level_1_labels.plot(kind='bar')"
   ]
  },
  {
   "cell_type": "code",
   "execution_count": 41,
   "metadata": {},
   "outputs": [
    {
     "name": "stdout",
     "output_type": "stream",
     "text": [
      " There are  16  categories of level 1 \n"
     ]
    }
   ],
   "source": [
    "print(' There are ', len(level_1_labels), ' categories of level 1 ')"
   ]
  },
  {
   "cell_type": "markdown",
   "metadata": {},
   "source": [
    "Note they are not balanced, but it can lead to a potentially good choice of the number of clusters k. "
   ]
  },
  {
   "cell_type": "code",
   "execution_count": 42,
   "metadata": {},
   "outputs": [
    {
     "data": {
      "text/plain": [
       "level_2\n",
       "Actors_models_and_celebrities                       25\n",
       "African_Geography                                  105\n",
       "Air_and_Sea_transport                               20\n",
       "Ancient_History_Classical_History_and_Mythology     79\n",
       "Animal_and_Human_Rights                             14\n",
       "Antarctica                                           8\n",
       "Archaeology                                         11\n",
       "Architecture                                        47\n",
       "Art                                                 32\n",
       "Artists                                             37\n",
       "dtype: int64"
      ]
     },
     "execution_count": 42,
     "metadata": {},
     "output_type": "execute_result"
    }
   ],
   "source": [
    "df_labels['level_2'] = [label[2] if len(label)>2 else 'Unk' for label in df_labels.selected_category]\n",
    "level_2_labels = df_labels.groupby('level_2').size()\n",
    "level_2_labels.head(10)"
   ]
  },
  {
   "cell_type": "code",
   "execution_count": 43,
   "metadata": {},
   "outputs": [
    {
     "name": "stdout",
     "output_type": "stream",
     "text": [
      " There are  102  categories of level 2 \n"
     ]
    }
   ],
   "source": [
    "print(' There are ', len(level_2_labels), ' categories of level 2 ')"
   ]
  },
  {
   "cell_type": "markdown",
   "metadata": {},
   "source": [
    "That is a way too high number of clusters, and the resulting categories have a high overlap, as it can be seen even in the first 10 (i.e. Art and Artists). Given the relatively small sample size we have, we decide that only clustering bbased on 'level 1' would be meaningful. "
   ]
  }
 ],
 "metadata": {
  "kernelspec": {
   "display_name": "Python 3",
   "language": "python",
   "name": "python3"
  },
  "language_info": {
   "codemirror_mode": {
    "name": "ipython",
    "version": 3
   },
   "file_extension": ".py",
   "mimetype": "text/x-python",
   "name": "python",
   "nbconvert_exporter": "python",
   "pygments_lexer": "ipython3",
   "version": "3.7.0"
  }
 },
 "nbformat": 4,
 "nbformat_minor": 2
}
